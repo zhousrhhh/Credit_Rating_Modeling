{
 "cells": [
  {
   "cell_type": "markdown",
   "metadata": {},
   "source": [
    "<h1 style=\"color:red;\">Credit rating assignment</h1>\n",
    "<p></p>\n",
    "In this assignment, we'll work our way through a simple ML exercise. Machine learning is an iterative process that starts with feature engineering (making the features ready for ML), works it way through various models and hyperparameter tuning exercises, until we find a model that seems to work well for us. "
   ]
  },
  {
   "cell_type": "markdown",
   "metadata": {},
   "source": [
    "<h3 style=\"color:green;\">The problem: Rating creditworthiness of loan applicants</h3>\n",
    "\n",
    "When banks issue loans to individuals, they have two goals that conflict with each other:\n",
    "<ol>\n",
    "    <li>Give as many loans as possible (fees, interest, all add to revenue)</li>\n",
    "    <li>Try not to give loans to individuals who won't pay it back (lose money on the loan, collection costs, etc.)</li>\n",
    "</ol>\n",
    "    \n",
    "<li>A typical machine learning program in this space tries to find a suitable tradeoff between finding many good loans and not calling a bad loan good</li>\n",
    "\n",
    "<li>In this assignment, we'll try to build a \"good\" model that finds a good tradeoff between these two objectives</li>\n",
    "\n",
    "<li>In machine learning terms, the proportion of times we get our guess right (i.e., we call a bad loan a bad loan and a good loan a good loan divided by the total number of cases) is called <span style=\"color:blue\">accuracy</span></li>\n",
    "\n",
    "<li>The proportion of actual good loans that we identify as good loans is known as <span style=\"color:blue\">recall</span></li>\n",
    "\n",
    "<li>The probability that if a loan is called good it actually is good is called <span style=\"color:blue\">precision</span></li>\n",
    "\n",
    "<li>The precision recall tradeoff is measured through a score called <span style=\"color:blue\">f1 score</span></li>\n",
    "\n",
    "<li>An important part of running an ML model is trying to figure out \"which metric is right for you\"</li>\n",
    "\n",
    "\n",
    "    \n",
    "    \n",
    "<ol>\n",
    "    <li>We'll try the SGD classifier, tune hyperparameters using grid search, and examine the results</li>\n",
    "    <li>then, set up the data for a random forest classifier, run a grid search, and examine the results</li>\n",
    "        <li>finally, run a couple of gradient booster models</li>\n",
    "\n",
    "    <li>draw precision recall curves and roc curves for the two classifiers and compare the results</li>\n",
    "    <li>note that grid search is a computing intensive activity. I've simplified the search to a few options but even those can take a long while (less than 15 minutes on my laptop but could be a couple of hours if you have an older machine)</li>\n",
    "</ol>"
   ]
  },
  {
   "cell_type": "markdown",
   "metadata": {},
   "source": [
    "<h3 style=\"color:green;\">The models</h3>\n",
    "<p></p>\n",
    "<li><b>Model 1 SGD Classifier</b>: Vanilla version with max_iter set to 1000</li>\n",
    "<li><b>Model 2 SGD Classifier round 2</b>: SGD Classifier with positive cases assigned a higher weight. One issue with our data is that positive cases are vastly outnumbered by negative cases (in other words, a model that says all cases are negative will have a pretty good accuracy). By overweighting positive cases in our model, we increase the efficacy of the model in finding an actual good solution</li>\n",
    "<li><b>Model 3 SGD Classifier round 3</b>: Best SGD Classifier model after grid search</li>\n",
    "<li><b>Model 4 Random Forest Classifier round 1</b>: Random Forest Classifier with base parameters (see below)</li>\n",
    "<li><b>Model 5 Random Forest Classifier round 2</b>: Best model from grid search</li>\n",
    "<li><b>Model 6 Gradient Booster Classfier</b></li>\n",
    "<li><b>Model 7 Gradient Booster Classifier (2nd model)</b></li>"
   ]
  },
  {
   "cell_type": "markdown",
   "metadata": {},
   "source": [
    "For each model, collect model metrics in the following dataframe results_df. After each model run, replace the 0.0 with the appropriate metric value\n"
   ]
  },
  {
   "cell_type": "code",
   "execution_count": 1,
   "metadata": {},
   "outputs": [
    {
     "data": {
      "text/html": [
       "<div>\n",
       "<style scoped>\n",
       "    .dataframe tbody tr th:only-of-type {\n",
       "        vertical-align: middle;\n",
       "    }\n",
       "\n",
       "    .dataframe tbody tr th {\n",
       "        vertical-align: top;\n",
       "    }\n",
       "\n",
       "    .dataframe thead th {\n",
       "        text-align: right;\n",
       "    }\n",
       "</style>\n",
       "<table border=\"1\" class=\"dataframe\">\n",
       "  <thead>\n",
       "    <tr style=\"text-align: right;\">\n",
       "      <th></th>\n",
       "      <th>accuracy</th>\n",
       "      <th>precision</th>\n",
       "      <th>recall</th>\n",
       "      <th>f1_score</th>\n",
       "      <th>AUC</th>\n",
       "      <th>AP</th>\n",
       "    </tr>\n",
       "    <tr>\n",
       "      <th>Model</th>\n",
       "      <th></th>\n",
       "      <th></th>\n",
       "      <th></th>\n",
       "      <th></th>\n",
       "      <th></th>\n",
       "      <th></th>\n",
       "    </tr>\n",
       "  </thead>\n",
       "  <tbody>\n",
       "    <tr>\n",
       "      <th>1</th>\n",
       "      <td>0.0</td>\n",
       "      <td>0.0</td>\n",
       "      <td>0.0</td>\n",
       "      <td>0.0</td>\n",
       "      <td>0.0</td>\n",
       "      <td>0.0</td>\n",
       "    </tr>\n",
       "    <tr>\n",
       "      <th>2</th>\n",
       "      <td>0.0</td>\n",
       "      <td>0.0</td>\n",
       "      <td>0.0</td>\n",
       "      <td>0.0</td>\n",
       "      <td>0.0</td>\n",
       "      <td>0.0</td>\n",
       "    </tr>\n",
       "    <tr>\n",
       "      <th>3</th>\n",
       "      <td>0.0</td>\n",
       "      <td>0.0</td>\n",
       "      <td>0.0</td>\n",
       "      <td>0.0</td>\n",
       "      <td>0.0</td>\n",
       "      <td>0.0</td>\n",
       "    </tr>\n",
       "    <tr>\n",
       "      <th>4</th>\n",
       "      <td>0.0</td>\n",
       "      <td>0.0</td>\n",
       "      <td>0.0</td>\n",
       "      <td>0.0</td>\n",
       "      <td>0.0</td>\n",
       "      <td>0.0</td>\n",
       "    </tr>\n",
       "    <tr>\n",
       "      <th>5</th>\n",
       "      <td>0.0</td>\n",
       "      <td>0.0</td>\n",
       "      <td>0.0</td>\n",
       "      <td>0.0</td>\n",
       "      <td>0.0</td>\n",
       "      <td>0.0</td>\n",
       "    </tr>\n",
       "    <tr>\n",
       "      <th>6</th>\n",
       "      <td>0.0</td>\n",
       "      <td>0.0</td>\n",
       "      <td>0.0</td>\n",
       "      <td>0.0</td>\n",
       "      <td>0.0</td>\n",
       "      <td>0.0</td>\n",
       "    </tr>\n",
       "    <tr>\n",
       "      <th>7</th>\n",
       "      <td>0.0</td>\n",
       "      <td>0.0</td>\n",
       "      <td>0.0</td>\n",
       "      <td>0.0</td>\n",
       "      <td>0.0</td>\n",
       "      <td>0.0</td>\n",
       "    </tr>\n",
       "  </tbody>\n",
       "</table>\n",
       "</div>"
      ],
      "text/plain": [
       "       accuracy  precision  recall  f1_score  AUC   AP\n",
       "Model                                                 \n",
       "1           0.0        0.0     0.0       0.0  0.0  0.0\n",
       "2           0.0        0.0     0.0       0.0  0.0  0.0\n",
       "3           0.0        0.0     0.0       0.0  0.0  0.0\n",
       "4           0.0        0.0     0.0       0.0  0.0  0.0\n",
       "5           0.0        0.0     0.0       0.0  0.0  0.0\n",
       "6           0.0        0.0     0.0       0.0  0.0  0.0\n",
       "7           0.0        0.0     0.0       0.0  0.0  0.0"
      ]
     },
     "execution_count": 1,
     "metadata": {},
     "output_type": "execute_result"
    }
   ],
   "source": [
    "import pandas as pd\n",
    "import numpy as np\n",
    "results_df = pd.DataFrame(np.zeros(shape=(7,6)))\n",
    "results_df.index=[1,2,3,4,5,6,7]\n",
    "results_df.columns = [\"accuracy\",\"precision\",\"recall\",\"f1_score\",\"AUC\",\"AP\"]\n",
    "results_df.index.rename(\"Model\",inplace=True)\n",
    "results_df"
   ]
  },
  {
   "cell_type": "markdown",
   "metadata": {},
   "source": [
    "<h3 style=\"color:green;\">The data</h3>\n",
    "<p></p>\n",
    "<li>A curated extract from the popular Lending club loan data. The data is in the file loan_data_small.csv</li>\n",
    "<li>The dataset contains information about loan applications. Very basic information about the applicant and the status of the loan</li>\n",
    "<li>The goal of the ML exercise is to build a model that uses information about the loan to predict whether a loan is a \"good\" one (i.e., it will be paid back) or a \"bad\" one (the money is unrecoverable)</li>\n",
    "<li>Note that we're only using a fraction of the data. If you're interested, I can share the curated extract on a larger fraction which gives better results (but can crash your machine!)</li>"
   ]
  },
  {
   "cell_type": "markdown",
   "metadata": {},
   "source": [
    "<h1 style=\"color:red;font-size:xx-large\">Data preparation and feature engineering</h1>\n"
   ]
  },
  {
   "cell_type": "markdown",
   "metadata": {},
   "source": [
    "<h3 style=\"color:green;\">Build a binary target</h3>\n",
    "\n",
    "<li>For the purposes of this analysis, drop rows that contain any NaN values</li>\n",
    "<li><b>Target</b>: For the classifier, classify any loans that have a loan_status value of \"Charged Off\",\"Default\", or \"Does not meet the credit policy. Status:Charged Off\" as a bad loan and give these loans a target value of 1 (we're predicting bad loans)</li>\n",
    "<li><b>Input features</b>: create the input feature dataframe (i.e., drop any columns that are not an independent variable). The input variables we're interested in are \"int_rate\", \"grade\", \"home_ownership\",\"annual_income\", \"loan_amt\", and \"purpose\"</li>\n",
    "<p></p>\n",
    "<li>The data should look like:</li>\n",
    "<pre>\n",
    "<class 'pandas.core.frame.DataFrame'>\n",
    "RangeIndex: 565167 entries, 0 to 565166\n",
    "Data columns (total 7 columns):\n",
    " #   Column          Non-Null Count   Dtype  \n",
    "---  ------          --------------   -----  \n",
    " 0   Unnamed: 0.1    565167 non-null  int64  \n",
    " 1   int_rate        565167 non-null  float64\n",
    " 2   grade           565167 non-null  object \n",
    " 3   home_ownership  565167 non-null  object \n",
    " 4   annual_inc      565167 non-null  float64\n",
    " 5   loan_amnt       565167 non-null  int64  \n",
    " 6   purpose         565167 non-null  object \n",
    "dtypes: float64(2), int64(2), object(3)\n",
    "memory usage: 30.2+ MB\n",
    "Out[108]:\n",
    "0         False\n",
    "1          True\n",
    "2         False\n",
    "3         False\n",
    "4          True\n",
    "          ...  \n",
    "565162    False\n",
    "565163    False\n",
    "565164    False\n",
    "565165     True\n",
    "565166    False\n",
    "Name: loan_status, Length: 565167, dtype: bool\n",
    "\n",
    "</pre>"
   ]
  },
  {
   "cell_type": "code",
   "execution_count": 2,
   "metadata": {},
   "outputs": [
    {
     "name": "stdout",
     "output_type": "stream",
     "text": [
      "<class 'pandas.core.frame.DataFrame'>\n",
      "RangeIndex: 565167 entries, 0 to 565166\n",
      "Data columns (total 7 columns):\n",
      " #   Column          Non-Null Count   Dtype  \n",
      "---  ------          --------------   -----  \n",
      " 0   Unnamed: 0.1    565167 non-null  int64  \n",
      " 1   int_rate        565167 non-null  float64\n",
      " 2   grade           565167 non-null  object \n",
      " 3   home_ownership  565167 non-null  object \n",
      " 4   annual_inc      565167 non-null  float64\n",
      " 5   loan_amnt       565167 non-null  int64  \n",
      " 6   purpose         565167 non-null  object \n",
      "dtypes: float64(2), int64(2), object(3)\n",
      "memory usage: 30.2+ MB\n"
     ]
    },
    {
     "data": {
      "text/plain": [
       "0         False\n",
       "1          True\n",
       "2         False\n",
       "3         False\n",
       "4          True\n",
       "          ...  \n",
       "565162    False\n",
       "565163    False\n",
       "565164    False\n",
       "565165     True\n",
       "565166    False\n",
       "Name: loan_status, Length: 565167, dtype: bool"
      ]
     },
     "execution_count": 2,
     "metadata": {},
     "output_type": "execute_result"
    }
   ],
   "source": [
    "#read the file\n",
    "import pandas as pd\n",
    "import numpy as np\n",
    "import matplotlib.pyplot as plt\n",
    "df = pd.read_csv(\"loan_data_small.csv\")\n",
    "\n",
    "#Drop rows with NaN values\n",
    "df.dropna()\n",
    "\n",
    "\n",
    "\n",
    "#Prepare the y (target) variable\n",
    "#The target variable should be 1 if loan_status is \"Charged Off\",\"Default\", or \"Does not meet the credit policy. Status:Charged Off\"\n",
    "#And 0 otherwise\n",
    "#(Hint: Create a boolean mask series)\n",
    "\n",
    "y = df[\"loan_status\"].isin([\"Charged Off\",\"Default\", \"Does not meet the credit policy\"]) \n",
    "\n",
    "#remove unwanted input features \"Unnamed: 0\" and \"loan_status\"\n",
    "df = df.drop([\"Unnamed: 0\", \"loan_status\"], axis=1)\n",
    "\n",
    "#Examine the df and the target\n",
    "df.info()\n",
    "\n",
    "y"
   ]
  },
  {
   "cell_type": "markdown",
   "metadata": {},
   "source": [
    "<h3 style=\"color:green;\">Label Encoding</h3>\n",
    "<li>Since we're using regression as our underlying algorithm, all values need to be numerical. ML Models generally deal with numerical data</li>\n",
    "<li>But, <span style=\"color:blue\">grade</span>, <span style=\"color:blue\">purpose</span>, and <span style=\"color:blue\">home_ownership</span> are not</li>\n",
    "</li>\n",
    "<li>sklearn's <a href=\"https://scikit-learn.org/stable/modules/generated/sklearn.preprocessing.LabelEncoder.html\">LabelEncoder</a> assigns numerical values to categorical data</li>\n",
    "<li>LabelEncoder replaces each categorical string value with an integer - 0, 1, 2, ...</li>\n",
    "<li>After label encoding, df.info() should return:</li>\n",
    "<pre>\n",
    "<class 'pandas.core.frame.DataFrame'>\n",
    "RangeIndex: 565167 entries, 0 to 565166\n",
    "Data columns (total 7 columns):\n",
    " #   Column          Non-Null Count   Dtype  \n",
    "---  ------          --------------   -----  \n",
    " 0   Unnamed: 0.1    565167 non-null  int64  \n",
    " 1   int_rate        565167 non-null  float64\n",
    " 2   grade           565167 non-null  int64  \n",
    " 3   home_ownership  565167 non-null  int64  \n",
    " 4   annual_inc      565167 non-null  float64\n",
    " 5   loan_amnt       565167 non-null  int64  \n",
    " 6   purpose         565167 non-null  int64  \n",
    "dtypes: float64(2), int64(5)\n",
    "memory usage: 30.2 MB\n",
    "</pre>"
   ]
  },
  {
   "cell_type": "code",
   "execution_count": 3,
   "metadata": {},
   "outputs": [],
   "source": [
    "#replace grade, purpose, and home_ownership by label encoded versions\n",
    "\n",
    "\n",
    "from sklearn.preprocessing import LabelEncoder\n",
    "le = LabelEncoder()\n",
    "df[\"grade\"] = le.fit_transform(df[\"grade\"])\n",
    "df[\"purpose\"] = le.fit_transform(df[\"purpose\"])\n",
    "df[\"home_ownership\"] = le.fit_transform(df[\"home_ownership\"])"
   ]
  },
  {
   "cell_type": "code",
   "execution_count": 4,
   "metadata": {},
   "outputs": [
    {
     "name": "stdout",
     "output_type": "stream",
     "text": [
      "<class 'pandas.core.frame.DataFrame'>\n",
      "RangeIndex: 565167 entries, 0 to 565166\n",
      "Data columns (total 7 columns):\n",
      " #   Column          Non-Null Count   Dtype  \n",
      "---  ------          --------------   -----  \n",
      " 0   Unnamed: 0.1    565167 non-null  int64  \n",
      " 1   int_rate        565167 non-null  float64\n",
      " 2   grade           565167 non-null  int64  \n",
      " 3   home_ownership  565167 non-null  int64  \n",
      " 4   annual_inc      565167 non-null  float64\n",
      " 5   loan_amnt       565167 non-null  int64  \n",
      " 6   purpose         565167 non-null  int64  \n",
      "dtypes: float64(2), int64(5)\n",
      "memory usage: 30.2 MB\n"
     ]
    }
   ],
   "source": [
    "df.info()"
   ]
  },
  {
   "cell_type": "markdown",
   "metadata": {},
   "source": [
    "<h3 style=\"color:green;\">One-hot encoding</h3>\n",
    "\n",
    "<p></p>\n",
    "<li>In regression, the assumption is that values associated with a feature are ordered</li>\n",
    "<li>But, this is not necessarily so for the label encoded categorical values</li>\n",
    "<li>The way to deal with this in regression is to create dummy variables, one for each category, that take the value 1 if the category is present in the row and 0 otherwise</li>\n",
    "<li>In ML, a procedure known as <a href=\"https://en.wikipedia.org/wiki/One-hot\">one-hot encoding</a> is used to do this conversion</li>\n",
    "<li>One hot encoding is the process of converting a single column of categorical (integer) data with k categories into k-1 columns of 0 or 1 values</li>\n",
    "<li>for example, the array with three possible categories [1,2,3,2,1] will be converted into the matrix:</li>\n",
    "\n",
    "$$\\begin{bmatrix} 0 & 0 \\\\ 1 & 0 \\\\ 0 & 1 \\\\ 1 & 0 \\\\ 0 & 0 \\end{bmatrix}$$\n",
    "\n",
    "<li>1's are replaced by (0, 0); 2's by (1, 0); and 3's by (0, 1). Note that category 1 is implicitly coded</li>\n",
    "<li><b>Documentation</b>: <a href=\"https://scikit-learn.org/stable/modules/generated/sklearn.preprocessing.OneHotEncoder.html\">https://scikit-learn.org/stable/modules/generated/sklearn.preprocessing.OneHotEncoder.html</a>"
   ]
  },
  {
   "cell_type": "markdown",
   "metadata": {},
   "source": [
    "<h3 style=\"color:green;\">Scaling</h3>\n",
    "\n",
    "<p></p>\n",
    "<li>Non-categorical independent variables need to be scaled so that they follow the same underlying distribution</li>\n",
    "<li>We will normalize them so that the mean is 0 and standard deviation is 1 using sklearn's StandardScaler feature transformer</li>\n",
    "<li><a href=\"https://scikit-learn.org/stable/modules/generated/sklearn.preprocessing.StandardScaler.html\">https://scikit-learn.org/stable/modules/generated/sklearn.preprocessing.StandardScaler.html</a></li>"
   ]
  },
  {
   "cell_type": "markdown",
   "metadata": {},
   "source": [
    "<li>All feature transformations can be encapsulated in the sklearn <a href=\"https://scikit-learn.org/stable/modules/generated/sklearn.compose.make_column_transformer.html\">make_column_transformer</a> object</li>\n",
    "<li>Use <span style=\"color:blue\">make_column_transformer</span> to encapsulate both the one-hot coding as well as standard scaling. Note that the one-hot encoded columns are not scaled!</li>"
   ]
  },
  {
   "cell_type": "code",
   "execution_count": 5,
   "metadata": {},
   "outputs": [
    {
     "data": {
      "text/plain": [
       "(565167, 26)"
      ]
     },
     "execution_count": 5,
     "metadata": {},
     "output_type": "execute_result"
    }
   ],
   "source": [
    "from sklearn.preprocessing import StandardScaler, OneHotEncoder\n",
    "from sklearn.compose import ColumnTransformer, make_column_transformer\n",
    "\n",
    "#Make a column transformer object that scales (using StandardScaler) the two non-categorical columns\n",
    "# and one hot encodes (using OneHotEncoder) the three categorical columns\n",
    "# Using make_column_transformer \n",
    "preprocess = make_column_transformer(\n",
    "    (StandardScaler(),['int_rate', 'annual_inc'], ),\n",
    "    (OneHotEncoder(categories=\"auto\",drop=\"first\"),['grade', 'home_ownership','purpose'], )\n",
    ")\n",
    "\n",
    "#Generate the independent variable df\n",
    "X = preprocess.fit_transform(df)\n",
    "X.shape\n",
    "#Should return (565167, 26)"
   ]
  },
  {
   "cell_type": "markdown",
   "metadata": {},
   "source": [
    "<h3 style=\"color:green;\">Train/Test split</h3>\n",
    "\n",
    "<li><a href=\"https://scikit-learn.org/stable/modules/generated/sklearn.model_selection.train_test_split.html\">https://scikit-learn.org/stable/modules/generated/sklearn.model_selection.train_test_split.html</a></li>\n",
    "<li>split the data into 70% training and 30% testing</li>\n",
    "<li>make sure the x and y datasets are aligned</li>\n",
    "<li>use random_state=42 to get the same split as in my code </li>\n",
    "<li>x and y training data shapes: (395616, 26) (395616,)</li>\n",
    "<li>x and y testing data shapes: (169551, 26) (169551,)</li>"
   ]
  },
  {
   "cell_type": "code",
   "execution_count": 6,
   "metadata": {},
   "outputs": [
    {
     "name": "stdout",
     "output_type": "stream",
     "text": [
      "(395616, 26) (395616,)\n",
      "(169551, 26) (169551,)\n"
     ]
    },
    {
     "data": {
      "text/plain": [
       "'\\nShould return:\\n(395616, 26) (395616,)\\n(169551, 26) (169551,)\\n'"
      ]
     },
     "execution_count": 6,
     "metadata": {},
     "output_type": "execute_result"
    }
   ],
   "source": [
    "from sklearn.model_selection import train_test_split\n",
    "#Get x_train, x_test, y_train, y_test\n",
    "x_train, x_test, y_train, y_test = train_test_split(X, y, test_size = 0.3, random_state = 42)\n",
    "\n",
    "#And check the shape\n",
    "print(x_train.shape,y_train.shape)\n",
    "print(x_test.shape,y_test.shape)\n",
    "\n",
    "\"\"\"\n",
    "Should return:\n",
    "(395616, 26) (395616,)\n",
    "(169551, 26) (169551,)\n",
    "\"\"\""
   ]
  },
  {
   "cell_type": "code",
   "execution_count": 7,
   "metadata": {},
   "outputs": [
    {
     "data": {
      "text/plain": [
       "<169551x26 sparse matrix of type '<class 'numpy.float64'>'\n",
       "\twith 813222 stored elements in Compressed Sparse Row format>"
      ]
     },
     "execution_count": 7,
     "metadata": {},
     "output_type": "execute_result"
    }
   ],
   "source": [
    "x_test"
   ]
  },
  {
   "cell_type": "markdown",
   "metadata": {},
   "source": [
    "<h1 style=\"color:green\">The models</h1>\n",
    "<li>For each model, do the following</li>\n",
    "<ol>\n",
    "    <li>Fit a classifier to the training data</li>\n",
    "    <li>calculate the metrics</li>\n",
    "    <ul>\n",
    "        <li>training accuracy</li>\n",
    "        <li>testing accuracy</li>\n",
    "        <li>precision on test dataset</li>\n",
    "        <li>recall on test dataset</li>\n",
    "        <li>f1 score on test dataset</li>\n",
    "        <li>area under the curve on test dataset</li>\n",
    "        <li>average precision on the test dataset</li>\n",
    "    </ul>\n",
    "    <li>Write up a brief (pointwise) interpretation of the results\n",
    "</ol>\n",
    "<li>Chart the various metrics</li>\n"
   ]
  },
  {
   "cell_type": "markdown",
   "metadata": {},
   "source": [
    "<h1 style=\"color:red;font-size:xx-large\">Build Model 1</h1>\n"
   ]
  },
  {
   "cell_type": "markdown",
   "metadata": {},
   "source": [
    "<h3 style=\"color:green;\">Build the model on the training data set</h3>\n",
    "\n",
    "<li>set random_state to 42 (if you want to get the same results that I got) and max_iter to 1000</li>\n",
    "<li>set the loss function to \"log_loss\" (\"log\" if using sklearn 1.0.x or on colab)</li>"
   ]
  },
  {
   "cell_type": "code",
   "execution_count": 8,
   "metadata": {},
   "outputs": [
    {
     "name": "stdout",
     "output_type": "stream",
     "text": [
      "0.8848732103858287\n",
      "0.8845716038242181\n"
     ]
    },
    {
     "data": {
      "text/plain": [
       "'\\nYou should get:\\n0.8846634109843889\\n0.8843828700508991\\n'"
      ]
     },
     "execution_count": 8,
     "metadata": {},
     "output_type": "execute_result"
    }
   ],
   "source": [
    "from sklearn.linear_model import SGDClassifier\n",
    "model_1 = SGDClassifier(random_state=42, max_iter=1000, loss=\"log_loss\") #package version causes the different results\n",
    "model_1.fit(x_train,y_train) #change if you used different variable names\n",
    "\n",
    "print(model_1.score(x_train,y_train))\n",
    "print(model_1.score(x_test,y_test))\n",
    "\"\"\"\n",
    "You should get:\n",
    "0.8846634109843889\n",
    "0.8843828700508991\n",
    "\"\"\""
   ]
  },
  {
   "cell_type": "markdown",
   "metadata": {},
   "source": [
    "\n",
    "<h3 style=\"color:green;\">Model 1 metrics</h3>\n",
    "<li>Report the following on the <b>test</b> data:</li>\n",
    "<ul>\n",
    "<li>the confusion matrix</li>\n",
    "<li>the accuracy, precision, recall, f1-score, AUC, and AP </li>\n",
    "</ul>\n"
   ]
  },
  {
   "cell_type": "code",
   "execution_count": 9,
   "metadata": {},
   "outputs": [
    {
     "name": "stdout",
     "output_type": "stream",
     "text": [
      "Confusion Matrix: \n",
      " [[149977     33]\n",
      " [ 19538      3]]\n",
      "Training accuracy:  0.8848732103858287\n",
      "Testing  accuracy:  0.8845716038242181\n",
      "Precision:  0.08333333333333333\n",
      "Recall:  0.00015352336113811984\n",
      "F1-Score:  0.0003064820963375389\n",
      "AUC:  0.4999667690134135\n",
      "Average Precision:  0.11524655808547495\n"
     ]
    },
    {
     "data": {
      "text/plain": [
       "'\\n\\nYou should see:\\n\\nConfusion Matrix: \\n [[149948      1]\\n [ 19602      0]]\\nTraining accuracy:  0.8846634109843889\\nTesting  accuracy:  0.8843828700508991\\nPrecision:  0.0\\nRecall:  0.0\\nF1-Score:  0.0\\nAUC:  0.692962177388246\\nAverage Precision:  0.11561123201868465\\n'"
      ]
     },
     "execution_count": 9,
     "metadata": {},
     "output_type": "execute_result"
    }
   ],
   "source": [
    "from sklearn.metrics import confusion_matrix\n",
    "from sklearn.metrics import f1_score,recall_score,precision_score\n",
    "from sklearn.metrics import average_precision_score,roc_auc_score\n",
    "\n",
    "y_test_pred = model_1.predict(x_test)\n",
    "cfm_1 = confusion_matrix(y_test, y_test_pred)\n",
    "tn, fp, fn, tp = cfm_1.ravel()\n",
    "\n",
    "y_train_pred = model_1.predict(x_train)\n",
    "cfm_train_1 = confusion_matrix(y_train, y_train_pred)\n",
    "tn_train, fp_train, fn_train, tp_train = cfm_train_1.ravel()\n",
    "\n",
    "accuracy_training_1 = (tp_train+tn_train)/(tp_train+tn_train+fp_train+fn_train)\n",
    "accuracy_testing_1 = (tp+tn)/(tp+tn+fp+fn)\n",
    "precision_1  = precision_score(y_test, y_test_pred)\n",
    "recall_1  = recall_score(y_test, y_test_pred)\n",
    "f1_1  = f1_score(y_test, y_test_pred)\n",
    "auc_1  = roc_auc_score(y_test, y_test_pred)\n",
    "ap_1  = average_precision_score(y_test, y_test_pred)\n",
    "\n",
    "print(\"Confusion Matrix: \\n\",cfm_1)\n",
    "print(\"Training accuracy: \",accuracy_training_1)\n",
    "print(\"Testing  accuracy: \",accuracy_testing_1)\n",
    "print(\"Precision: \",precision_1)\n",
    "print(\"Recall: \",recall_1)\n",
    "print(\"F1-Score: \",f1_1)\n",
    "print(\"AUC: \",auc_1)\n",
    "print(\"Average Precision: \",ap_1)\n",
    "\n",
    "\n",
    "\"\"\"\n",
    "\n",
    "You should see:\n",
    "\n",
    "Confusion Matrix: \n",
    " [[149948      1]\n",
    " [ 19602      0]]\n",
    "Training accuracy:  0.8846634109843889\n",
    "Testing  accuracy:  0.8843828700508991\n",
    "Precision:  0.0\n",
    "Recall:  0.0\n",
    "F1-Score:  0.0\n",
    "AUC:  0.692962177388246\n",
    "Average Precision:  0.11561123201868465\n",
    "\"\"\""
   ]
  },
  {
   "cell_type": "markdown",
   "metadata": {},
   "source": [
    "<h3 style=\"color:green;\">Interpret the results</h3>\n",
    "<li>In a few bullet points, write your interpreation of the results. Why are we seeing what we are seeing? Is it useful? Why is the AUC not 0.5?</li>\n",
    "\n",
    "<h4>Interpretation</h4>\n",
    "<li>The model accuracy is relatively high at around 88%, indicating that the model is performing well on both training and testing data, to predict the good and bad loans right.</li>\n",
    "<li>However, the confusion matrix shows that there are 149,997 true negatives, 33 false positives, 19,538 false negatives and 3 true positives. It means that the model is predicting most of the cases as negatives (good loan), and not identify many positives (bad loan). This issue is also indicated by the near zero values for precision, recall, and F1-score. </li>\n",
    "<li>The AUC score of around 0.5 indicates that the model is just performing as good as random chance. It is not 0.5 because the model is not making random predictions. The AUC score measures the ability of the model to distinguish between positive and negative samples, and a score of near 0.5 suggests that the model is not able to make this distinction effectively. </li>\n",
    "<li>The average precision score of 0.12 indicates that the model has a low ability to correctly identify positive (bad loan) samples. </li>\n",
    "<li>The model is not very useful in predicting credit ratings since it is not identifying many positive (bad loan) samples, which is one of the main purposes of the model. This model could make bank mistakenly grant loans to individuals who won't pay it back. Therefore, the model needs further refinement to perform better. \n"
   ]
  },
  {
   "cell_type": "markdown",
   "metadata": {},
   "source": [
    "<h3 style=\"color:green;\">Update results_df</h3>\n"
   ]
  },
  {
   "cell_type": "code",
   "execution_count": 10,
   "metadata": {},
   "outputs": [
    {
     "data": {
      "text/html": [
       "<div>\n",
       "<style scoped>\n",
       "    .dataframe tbody tr th:only-of-type {\n",
       "        vertical-align: middle;\n",
       "    }\n",
       "\n",
       "    .dataframe tbody tr th {\n",
       "        vertical-align: top;\n",
       "    }\n",
       "\n",
       "    .dataframe thead th {\n",
       "        text-align: right;\n",
       "    }\n",
       "</style>\n",
       "<table border=\"1\" class=\"dataframe\">\n",
       "  <thead>\n",
       "    <tr style=\"text-align: right;\">\n",
       "      <th></th>\n",
       "      <th>accuracy</th>\n",
       "      <th>precision</th>\n",
       "      <th>recall</th>\n",
       "      <th>f1_score</th>\n",
       "      <th>AUC</th>\n",
       "      <th>AP</th>\n",
       "    </tr>\n",
       "    <tr>\n",
       "      <th>Model</th>\n",
       "      <th></th>\n",
       "      <th></th>\n",
       "      <th></th>\n",
       "      <th></th>\n",
       "      <th></th>\n",
       "      <th></th>\n",
       "    </tr>\n",
       "  </thead>\n",
       "  <tbody>\n",
       "    <tr>\n",
       "      <th>1</th>\n",
       "      <td>0.884572</td>\n",
       "      <td>0.083333</td>\n",
       "      <td>0.000154</td>\n",
       "      <td>0.000306</td>\n",
       "      <td>0.499967</td>\n",
       "      <td>0.115247</td>\n",
       "    </tr>\n",
       "    <tr>\n",
       "      <th>2</th>\n",
       "      <td>0.000000</td>\n",
       "      <td>0.000000</td>\n",
       "      <td>0.000000</td>\n",
       "      <td>0.000000</td>\n",
       "      <td>0.000000</td>\n",
       "      <td>0.000000</td>\n",
       "    </tr>\n",
       "    <tr>\n",
       "      <th>3</th>\n",
       "      <td>0.000000</td>\n",
       "      <td>0.000000</td>\n",
       "      <td>0.000000</td>\n",
       "      <td>0.000000</td>\n",
       "      <td>0.000000</td>\n",
       "      <td>0.000000</td>\n",
       "    </tr>\n",
       "    <tr>\n",
       "      <th>4</th>\n",
       "      <td>0.000000</td>\n",
       "      <td>0.000000</td>\n",
       "      <td>0.000000</td>\n",
       "      <td>0.000000</td>\n",
       "      <td>0.000000</td>\n",
       "      <td>0.000000</td>\n",
       "    </tr>\n",
       "    <tr>\n",
       "      <th>5</th>\n",
       "      <td>0.000000</td>\n",
       "      <td>0.000000</td>\n",
       "      <td>0.000000</td>\n",
       "      <td>0.000000</td>\n",
       "      <td>0.000000</td>\n",
       "      <td>0.000000</td>\n",
       "    </tr>\n",
       "    <tr>\n",
       "      <th>6</th>\n",
       "      <td>0.000000</td>\n",
       "      <td>0.000000</td>\n",
       "      <td>0.000000</td>\n",
       "      <td>0.000000</td>\n",
       "      <td>0.000000</td>\n",
       "      <td>0.000000</td>\n",
       "    </tr>\n",
       "    <tr>\n",
       "      <th>7</th>\n",
       "      <td>0.000000</td>\n",
       "      <td>0.000000</td>\n",
       "      <td>0.000000</td>\n",
       "      <td>0.000000</td>\n",
       "      <td>0.000000</td>\n",
       "      <td>0.000000</td>\n",
       "    </tr>\n",
       "  </tbody>\n",
       "</table>\n",
       "</div>"
      ],
      "text/plain": [
       "       accuracy  precision    recall  f1_score       AUC        AP\n",
       "Model                                                             \n",
       "1      0.884572   0.083333  0.000154  0.000306  0.499967  0.115247\n",
       "2      0.000000   0.000000  0.000000  0.000000  0.000000  0.000000\n",
       "3      0.000000   0.000000  0.000000  0.000000  0.000000  0.000000\n",
       "4      0.000000   0.000000  0.000000  0.000000  0.000000  0.000000\n",
       "5      0.000000   0.000000  0.000000  0.000000  0.000000  0.000000\n",
       "6      0.000000   0.000000  0.000000  0.000000  0.000000  0.000000\n",
       "7      0.000000   0.000000  0.000000  0.000000  0.000000  0.000000"
      ]
     },
     "execution_count": 10,
     "metadata": {},
     "output_type": "execute_result"
    }
   ],
   "source": [
    "results_df[\"accuracy\"][1] = accuracy_testing_1\n",
    "results_df[\"precision\"][1] = precision_1\n",
    "results_df[\"recall\"][1] = recall_1\n",
    "results_df[\"f1_score\"][1] = f1_1\n",
    "results_df[\"AUC\"][1] = auc_1\n",
    "results_df[\"AP\"][1] = ap_1\n",
    "\n",
    "results_df"
   ]
  },
  {
   "cell_type": "markdown",
   "metadata": {},
   "source": [
    "<h1 style=\"color:red;font-size:xx-large\">Build Model 2</h1>\n"
   ]
  },
  {
   "cell_type": "markdown",
   "metadata": {},
   "source": [
    "\n",
    "<li>sklearn's ML models can be given a <span style=\"color:blue\">class_weight</span> parameter</li>\n",
    "<li>weights can be given explicitly or implicitly</li>\n",
    "<li>note that by increasing the weight of the true cases, our model is more likely to find true positives</li>\n",
    "<li>and by decreasing the weight of the true cases, our model is more likely to find true negatives</li>\n",
    "<li>In Model 2, increase the weight of positives by a factor of 9 to balance the positives and negatives</li>"
   ]
  },
  {
   "cell_type": "markdown",
   "metadata": {},
   "source": [
    "<h3 style=\"color:green\">Build model 2 and report metrics</h3>"
   ]
  },
  {
   "cell_type": "code",
   "execution_count": 11,
   "metadata": {},
   "outputs": [
    {
     "name": "stdout",
     "output_type": "stream",
     "text": [
      "0.5571336851896789\n",
      "0.5571185071158531\n",
      "Confusion Matrix: \n",
      " [[80059 69951]\n",
      " [ 5140 14401]]\n",
      "Training accuracy:  0.5571336851896789\n",
      "Testing  accuracy:  0.5571185071158531\n",
      "Precision:  0.1707250569044006\n",
      "Recall:  0.736963307916688\n",
      "F1-Score:  0.2772275321725236\n",
      "AUC:  0.6353271975887687\n",
      "Average Precision:  0.15613346501988695\n"
     ]
    }
   ],
   "source": [
    "model_2 = SGDClassifier(random_state=42, max_iter=1000, loss=\"log_loss\", class_weight={1:9}) \n",
    "model_2.fit(x_train,y_train) \n",
    "\n",
    "print(model_2.score(x_train,y_train))\n",
    "print(model_2.score(x_test,y_test))\n",
    "\n",
    "y_test_pred = model_2.predict(x_test)\n",
    "cfm_2 = confusion_matrix(y_test, y_test_pred)\n",
    "tn, fp, fn, tp = cfm_2.ravel()\n",
    "\n",
    "y_train_pred = model_2.predict(x_train)\n",
    "cfm_train_2 = confusion_matrix(y_train, y_train_pred)\n",
    "tn_train, fp_train, fn_train, tp_train = cfm_train_2.ravel()\n",
    "\n",
    "accuracy_training_2 = (tp_train+tn_train)/(tp_train+tn_train+fp_train+fn_train)\n",
    "accuracy_testing_2 = (tp+tn)/(tp+tn+fp+fn)\n",
    "precision_2  = precision_score(y_test, y_test_pred)\n",
    "recall_2  = recall_score(y_test, y_test_pred)\n",
    "f1_2 = f1_score(y_test, y_test_pred)\n",
    "auc_2 = roc_auc_score(y_test, y_test_pred)\n",
    "ap_2 = average_precision_score(y_test, y_test_pred)\n",
    "\n",
    "print(\"Confusion Matrix: \\n\",cfm_2)\n",
    "print(\"Training accuracy: \",accuracy_training_2)\n",
    "print(\"Testing  accuracy: \",accuracy_testing_2)\n",
    "print(\"Precision: \",precision_2)\n",
    "print(\"Recall: \",recall_2)\n",
    "print(\"F1-Score: \",f1_2)\n",
    "print(\"AUC: \",auc_2)\n",
    "print(\"Average Precision: \",ap_2)"
   ]
  },
  {
   "cell_type": "markdown",
   "metadata": {},
   "source": [
    "<h3 style=\"color:green;\">Interpret the results</h3>\n",
    "\n",
    "\n",
    "<h4>Interpretation</h4>\n",
    "<li>The model accuracy is around 56%, which means the model only correctly classified 56% of the credit rating labels in both training and testing data. It indicates that the model is not performing very well, and there is a need for improvement.</li>\n",
    "<li>However, compared to model 1, the confusion matrix shows that there are more items predicted as postive (bad loan). The number of predicted positives is increased from 36 to 84,352. Since we increased the weight of the true cases in model 2, our model is more likely to find true positives. This effect also demostrates on the significant increase of precision, recall and f-1 score.</li>\n",
    "<li>The precision score of 0.17 means that out of all the instances the model predicted as positive (bad loan), only 17% were actually positive. In other words, the model is still not very precise in identifying positive instances (bad loan).</li>\n",
    "<li>The recall score of 0.74 indicates that the model could correctly identify 74% of the positive instances (bad loan) in the dataset. In other words, the model has decent recall performance, in order to correctly identify the bad loan.</li>\n",
    "<li>F-1 score is a harmonic mean of precision and recall, and in this case, the score is 0.28. It shows the overall performance of the model has improved, considering both precision and recall.</li>\n",
    "<li>The AUC is 0.64, which is slightly better than a random model (0.5). It indicates that the model has some ability to distinguish between positive and negative cases.</li>\n",
    "<li>The average precision score is around 16%, which indicates that the model's precision is still low, but slightly better than model 1.</li>\n",
    "<li>Model 2 is more useful than model 1, because the higher precision and recall indicates its higher ability to identify good loan, and the higher f-1 score indicates it's a better model that finds tradeoff between precision and recall."
   ]
  },
  {
   "cell_type": "markdown",
   "metadata": {},
   "source": [
    "<h3 style=\"color:green;\">Update results_df</h3>"
   ]
  },
  {
   "cell_type": "code",
   "execution_count": 12,
   "metadata": {},
   "outputs": [
    {
     "data": {
      "text/html": [
       "<div>\n",
       "<style scoped>\n",
       "    .dataframe tbody tr th:only-of-type {\n",
       "        vertical-align: middle;\n",
       "    }\n",
       "\n",
       "    .dataframe tbody tr th {\n",
       "        vertical-align: top;\n",
       "    }\n",
       "\n",
       "    .dataframe thead th {\n",
       "        text-align: right;\n",
       "    }\n",
       "</style>\n",
       "<table border=\"1\" class=\"dataframe\">\n",
       "  <thead>\n",
       "    <tr style=\"text-align: right;\">\n",
       "      <th></th>\n",
       "      <th>accuracy</th>\n",
       "      <th>precision</th>\n",
       "      <th>recall</th>\n",
       "      <th>f1_score</th>\n",
       "      <th>AUC</th>\n",
       "      <th>AP</th>\n",
       "    </tr>\n",
       "    <tr>\n",
       "      <th>Model</th>\n",
       "      <th></th>\n",
       "      <th></th>\n",
       "      <th></th>\n",
       "      <th></th>\n",
       "      <th></th>\n",
       "      <th></th>\n",
       "    </tr>\n",
       "  </thead>\n",
       "  <tbody>\n",
       "    <tr>\n",
       "      <th>1</th>\n",
       "      <td>0.884572</td>\n",
       "      <td>0.083333</td>\n",
       "      <td>0.000154</td>\n",
       "      <td>0.000306</td>\n",
       "      <td>0.499967</td>\n",
       "      <td>0.115247</td>\n",
       "    </tr>\n",
       "    <tr>\n",
       "      <th>2</th>\n",
       "      <td>0.557119</td>\n",
       "      <td>0.170725</td>\n",
       "      <td>0.736963</td>\n",
       "      <td>0.277228</td>\n",
       "      <td>0.635327</td>\n",
       "      <td>0.156133</td>\n",
       "    </tr>\n",
       "    <tr>\n",
       "      <th>3</th>\n",
       "      <td>0.000000</td>\n",
       "      <td>0.000000</td>\n",
       "      <td>0.000000</td>\n",
       "      <td>0.000000</td>\n",
       "      <td>0.000000</td>\n",
       "      <td>0.000000</td>\n",
       "    </tr>\n",
       "    <tr>\n",
       "      <th>4</th>\n",
       "      <td>0.000000</td>\n",
       "      <td>0.000000</td>\n",
       "      <td>0.000000</td>\n",
       "      <td>0.000000</td>\n",
       "      <td>0.000000</td>\n",
       "      <td>0.000000</td>\n",
       "    </tr>\n",
       "    <tr>\n",
       "      <th>5</th>\n",
       "      <td>0.000000</td>\n",
       "      <td>0.000000</td>\n",
       "      <td>0.000000</td>\n",
       "      <td>0.000000</td>\n",
       "      <td>0.000000</td>\n",
       "      <td>0.000000</td>\n",
       "    </tr>\n",
       "    <tr>\n",
       "      <th>6</th>\n",
       "      <td>0.000000</td>\n",
       "      <td>0.000000</td>\n",
       "      <td>0.000000</td>\n",
       "      <td>0.000000</td>\n",
       "      <td>0.000000</td>\n",
       "      <td>0.000000</td>\n",
       "    </tr>\n",
       "    <tr>\n",
       "      <th>7</th>\n",
       "      <td>0.000000</td>\n",
       "      <td>0.000000</td>\n",
       "      <td>0.000000</td>\n",
       "      <td>0.000000</td>\n",
       "      <td>0.000000</td>\n",
       "      <td>0.000000</td>\n",
       "    </tr>\n",
       "  </tbody>\n",
       "</table>\n",
       "</div>"
      ],
      "text/plain": [
       "       accuracy  precision    recall  f1_score       AUC        AP\n",
       "Model                                                             \n",
       "1      0.884572   0.083333  0.000154  0.000306  0.499967  0.115247\n",
       "2      0.557119   0.170725  0.736963  0.277228  0.635327  0.156133\n",
       "3      0.000000   0.000000  0.000000  0.000000  0.000000  0.000000\n",
       "4      0.000000   0.000000  0.000000  0.000000  0.000000  0.000000\n",
       "5      0.000000   0.000000  0.000000  0.000000  0.000000  0.000000\n",
       "6      0.000000   0.000000  0.000000  0.000000  0.000000  0.000000\n",
       "7      0.000000   0.000000  0.000000  0.000000  0.000000  0.000000"
      ]
     },
     "execution_count": 12,
     "metadata": {},
     "output_type": "execute_result"
    }
   ],
   "source": [
    "results_df[\"accuracy\"][2] = accuracy_testing_2\n",
    "results_df[\"precision\"][2] = precision_2\n",
    "results_df[\"recall\"][2] = recall_2\n",
    "results_df[\"f1_score\"][2] = f1_2\n",
    "results_df[\"AUC\"][2] = auc_2\n",
    "results_df[\"AP\"][2] = ap_2\n",
    "\n",
    "results_df"
   ]
  },
  {
   "cell_type": "markdown",
   "metadata": {},
   "source": [
    "<h1 style=\"color:red;font-size:xx-large\">Build Model 3</h1>"
   ]
  },
  {
   "cell_type": "markdown",
   "metadata": {},
   "source": [
    "<h3 style=\"color:green;\">Tune hyperparameters using grid search</h3>\n",
    "<li><span style=\"color:blue\">parameters</span> versus <span style=\"color:blue\">hyperparameters</span></li>\n",
    "<ul>\n",
    "    <li><span style=\"color:blue\">parameters</span>: the parameters that are necessary for the model to make predictions. For example, the coefficients of the linear equation estimated by the SGD classifier are parameters of the model. Parameters are estimated by the algorithm and from the data</li>\n",
    "    <li><span style=\"color:blue\">hyperparameters</span>: parameters that are external to the model and cannot be estimated from the data. For example, in an SGD classifier, parameters like the loss function, the regularization parameter, stopping rules, etc. are hyper parameters</li>\n",
    "    </ul>\n",
    "<li>In ML, hyperparameters are often set intuitively and then <span style=\"color:red\">tuned</span> using a grid search</li>\n",
    "<li>In a grid search, various combinations of hyperparameters are tried and <span style=\"color:blue\">k-fold cross validation</span> is used to test the efficacy of the parameter combination</li>\n",
    "<li>the best combination is then selected as a candidate model</li>"
   ]
  },
  {
   "cell_type": "markdown",
   "metadata": {},
   "source": [
    "<h3 style=\"color:green;\">The <span style=\"color:blue\">scoring</span> parameter</h3>\n",
    "<li>since our data is imbalaced, we should look for the model with the best f1 score (precision/recall tradeoff)</li>\n",
    "<li>set the scoring parameter for GridSearchCV so that it maximizes the f1 score</li>\n",
    "<li>Though we should be using a much wider range of parameters, I've reduced them so that it runs fairly quickly</li>\n",
    "<li>This takes about 30 seconds on my machine. Could take longer on your machine</li>"
   ]
  },
  {
   "cell_type": "code",
   "execution_count": 13,
   "metadata": {},
   "outputs": [
    {
     "name": "stderr",
     "output_type": "stream",
     "text": [
      "/Users/alicezhou/opt/anaconda3/lib/python3.9/site-packages/joblib/externals/loky/process_executor.py:700: UserWarning: A worker stopped while some jobs were given to the executor. This can be caused by a too short worker timeout or by a memory leak.\n",
      "  warnings.warn(\n"
     ]
    },
    {
     "name": "stdout",
     "output_type": "stream",
     "text": [
      "CPU times: user 1.27 s, sys: 519 ms, total: 1.79 s\n",
      "Wall time: 22.5 s\n"
     ]
    },
    {
     "data": {
      "text/html": [
       "<style>#sk-container-id-1 {color: black;background-color: white;}#sk-container-id-1 pre{padding: 0;}#sk-container-id-1 div.sk-toggleable {background-color: white;}#sk-container-id-1 label.sk-toggleable__label {cursor: pointer;display: block;width: 100%;margin-bottom: 0;padding: 0.3em;box-sizing: border-box;text-align: center;}#sk-container-id-1 label.sk-toggleable__label-arrow:before {content: \"▸\";float: left;margin-right: 0.25em;color: #696969;}#sk-container-id-1 label.sk-toggleable__label-arrow:hover:before {color: black;}#sk-container-id-1 div.sk-estimator:hover label.sk-toggleable__label-arrow:before {color: black;}#sk-container-id-1 div.sk-toggleable__content {max-height: 0;max-width: 0;overflow: hidden;text-align: left;background-color: #f0f8ff;}#sk-container-id-1 div.sk-toggleable__content pre {margin: 0.2em;color: black;border-radius: 0.25em;background-color: #f0f8ff;}#sk-container-id-1 input.sk-toggleable__control:checked~div.sk-toggleable__content {max-height: 200px;max-width: 100%;overflow: auto;}#sk-container-id-1 input.sk-toggleable__control:checked~label.sk-toggleable__label-arrow:before {content: \"▾\";}#sk-container-id-1 div.sk-estimator input.sk-toggleable__control:checked~label.sk-toggleable__label {background-color: #d4ebff;}#sk-container-id-1 div.sk-label input.sk-toggleable__control:checked~label.sk-toggleable__label {background-color: #d4ebff;}#sk-container-id-1 input.sk-hidden--visually {border: 0;clip: rect(1px 1px 1px 1px);clip: rect(1px, 1px, 1px, 1px);height: 1px;margin: -1px;overflow: hidden;padding: 0;position: absolute;width: 1px;}#sk-container-id-1 div.sk-estimator {font-family: monospace;background-color: #f0f8ff;border: 1px dotted black;border-radius: 0.25em;box-sizing: border-box;margin-bottom: 0.5em;}#sk-container-id-1 div.sk-estimator:hover {background-color: #d4ebff;}#sk-container-id-1 div.sk-parallel-item::after {content: \"\";width: 100%;border-bottom: 1px solid gray;flex-grow: 1;}#sk-container-id-1 div.sk-label:hover label.sk-toggleable__label {background-color: #d4ebff;}#sk-container-id-1 div.sk-serial::before {content: \"\";position: absolute;border-left: 1px solid gray;box-sizing: border-box;top: 0;bottom: 0;left: 50%;z-index: 0;}#sk-container-id-1 div.sk-serial {display: flex;flex-direction: column;align-items: center;background-color: white;padding-right: 0.2em;padding-left: 0.2em;position: relative;}#sk-container-id-1 div.sk-item {position: relative;z-index: 1;}#sk-container-id-1 div.sk-parallel {display: flex;align-items: stretch;justify-content: center;background-color: white;position: relative;}#sk-container-id-1 div.sk-item::before, #sk-container-id-1 div.sk-parallel-item::before {content: \"\";position: absolute;border-left: 1px solid gray;box-sizing: border-box;top: 0;bottom: 0;left: 50%;z-index: -1;}#sk-container-id-1 div.sk-parallel-item {display: flex;flex-direction: column;z-index: 1;position: relative;background-color: white;}#sk-container-id-1 div.sk-parallel-item:first-child::after {align-self: flex-end;width: 50%;}#sk-container-id-1 div.sk-parallel-item:last-child::after {align-self: flex-start;width: 50%;}#sk-container-id-1 div.sk-parallel-item:only-child::after {width: 0;}#sk-container-id-1 div.sk-dashed-wrapped {border: 1px dashed gray;margin: 0 0.4em 0.5em 0.4em;box-sizing: border-box;padding-bottom: 0.4em;background-color: white;}#sk-container-id-1 div.sk-label label {font-family: monospace;font-weight: bold;display: inline-block;line-height: 1.2em;}#sk-container-id-1 div.sk-label-container {text-align: center;}#sk-container-id-1 div.sk-container {/* jupyter's `normalize.less` sets `[hidden] { display: none; }` but bootstrap.min.css set `[hidden] { display: none !important; }` so we also need the `!important` here to be able to override the default hidden behavior on the sphinx rendered scikit-learn.org. See: https://github.com/scikit-learn/scikit-learn/issues/21755 */display: inline-block !important;position: relative;}#sk-container-id-1 div.sk-text-repr-fallback {display: none;}</style><div id=\"sk-container-id-1\" class=\"sk-top-container\"><div class=\"sk-text-repr-fallback\"><pre>GridSearchCV(cv=5,\n",
       "             estimator=SGDClassifier(loss=&#x27;log_loss&#x27;, max_iter=100,\n",
       "                                     penalty=&#x27;elasticnet&#x27;, random_state=42),\n",
       "             n_jobs=-1,\n",
       "             param_grid={&#x27;alpha&#x27;: (0.001, 0.01, 0.1),\n",
       "                         &#x27;class_weight&#x27;: ({1: 3}, {1: 6}, {1: 9}),\n",
       "                         &#x27;l1_ratio&#x27;: (0.01, 0.1, 1)})</pre><b>In a Jupyter environment, please rerun this cell to show the HTML representation or trust the notebook. <br />On GitHub, the HTML representation is unable to render, please try loading this page with nbviewer.org.</b></div><div class=\"sk-container\" hidden><div class=\"sk-item sk-dashed-wrapped\"><div class=\"sk-label-container\"><div class=\"sk-label sk-toggleable\"><input class=\"sk-toggleable__control sk-hidden--visually\" id=\"sk-estimator-id-1\" type=\"checkbox\" ><label for=\"sk-estimator-id-1\" class=\"sk-toggleable__label sk-toggleable__label-arrow\">GridSearchCV</label><div class=\"sk-toggleable__content\"><pre>GridSearchCV(cv=5,\n",
       "             estimator=SGDClassifier(loss=&#x27;log_loss&#x27;, max_iter=100,\n",
       "                                     penalty=&#x27;elasticnet&#x27;, random_state=42),\n",
       "             n_jobs=-1,\n",
       "             param_grid={&#x27;alpha&#x27;: (0.001, 0.01, 0.1),\n",
       "                         &#x27;class_weight&#x27;: ({1: 3}, {1: 6}, {1: 9}),\n",
       "                         &#x27;l1_ratio&#x27;: (0.01, 0.1, 1)})</pre></div></div></div><div class=\"sk-parallel\"><div class=\"sk-parallel-item\"><div class=\"sk-item\"><div class=\"sk-label-container\"><div class=\"sk-label sk-toggleable\"><input class=\"sk-toggleable__control sk-hidden--visually\" id=\"sk-estimator-id-2\" type=\"checkbox\" ><label for=\"sk-estimator-id-2\" class=\"sk-toggleable__label sk-toggleable__label-arrow\">estimator: SGDClassifier</label><div class=\"sk-toggleable__content\"><pre>SGDClassifier(loss=&#x27;log_loss&#x27;, max_iter=100, penalty=&#x27;elasticnet&#x27;,\n",
       "              random_state=42)</pre></div></div></div><div class=\"sk-serial\"><div class=\"sk-item\"><div class=\"sk-estimator sk-toggleable\"><input class=\"sk-toggleable__control sk-hidden--visually\" id=\"sk-estimator-id-3\" type=\"checkbox\" ><label for=\"sk-estimator-id-3\" class=\"sk-toggleable__label sk-toggleable__label-arrow\">SGDClassifier</label><div class=\"sk-toggleable__content\"><pre>SGDClassifier(loss=&#x27;log_loss&#x27;, max_iter=100, penalty=&#x27;elasticnet&#x27;,\n",
       "              random_state=42)</pre></div></div></div></div></div></div></div></div></div></div>"
      ],
      "text/plain": [
       "GridSearchCV(cv=5,\n",
       "             estimator=SGDClassifier(loss='log_loss', max_iter=100,\n",
       "                                     penalty='elasticnet', random_state=42),\n",
       "             n_jobs=-1,\n",
       "             param_grid={'alpha': (0.001, 0.01, 0.1),\n",
       "                         'class_weight': ({1: 3}, {1: 6}, {1: 9}),\n",
       "                         'l1_ratio': (0.01, 0.1, 1)})"
      ]
     },
     "execution_count": 13,
     "metadata": {},
     "output_type": "execute_result"
    }
   ],
   "source": [
    "%%time\n",
    "from sklearn.model_selection import GridSearchCV\n",
    "from sklearn.linear_model import SGDClassifier\n",
    "#Set up the hyperparameter options in param_grid\n",
    "param_grid = {\n",
    "    'alpha':(0.001, 0.01, 0.1),\n",
    "    'l1_ratio': (0.01, 0.1, 1),\n",
    "    'class_weight':({1:3},{1:6},{1:9})\n",
    "}\n",
    "\n",
    "#Do the search\n",
    "gs_clf = GridSearchCV(SGDClassifier(random_state=42,\n",
    "                                    max_iter=100,\n",
    "                                    loss=\"log_loss\",\n",
    "                                    penalty=\"elasticnet\"),\n",
    "                      param_grid, cv=5, n_jobs=-1)\n",
    "gs_clf.fit(x_train, y_train)"
   ]
  },
  {
   "cell_type": "markdown",
   "metadata": {},
   "source": [
    "<h3 style=\"color:green;\">Get the best model parameters</h3>\n"
   ]
  },
  {
   "cell_type": "code",
   "execution_count": 14,
   "metadata": {},
   "outputs": [
    {
     "data": {
      "text/plain": [
       "{'alpha': 0.1, 'class_weight': {1: 3}, 'l1_ratio': 1}"
      ]
     },
     "execution_count": 14,
     "metadata": {},
     "output_type": "execute_result"
    }
   ],
   "source": [
    "gs_clf.best_params_"
   ]
  },
  {
   "cell_type": "markdown",
   "metadata": {},
   "source": [
    "<h3 style=\"color:green;\">Run the best model and report metrics</h3>\n",
    "<li>Run the classifier using the best parameters</li>\n",
    "\n",
    "\n",
    "\n",
    "\n"
   ]
  },
  {
   "cell_type": "code",
   "execution_count": 15,
   "metadata": {},
   "outputs": [
    {
     "name": "stdout",
     "output_type": "stream",
     "text": [
      "0.8774417617083232\n",
      "0.8772758638993577\n",
      "Confusion Matrix: \n",
      " [[148020   1990]\n",
      " [ 18818    723]]\n",
      "Training accuracy:  0.8774417617083232\n",
      "Testing  accuracy:  0.8772758638993577\n",
      "Precision:  0.2664946553630667\n",
      "Recall:  0.036999130034286884\n",
      "F1-Score:  0.06497708277163655\n",
      "AUC:  0.5118666738765528\n",
      "Average Precision:  0.12084732497959114\n"
     ]
    }
   ],
   "source": [
    "model_3 = SGDClassifier(random_state=42, \n",
    "                        max_iter=100, \n",
    "                        loss=\"log_loss\", \n",
    "                        penalty=\"elasticnet\",\n",
    "                        alpha=0.1, \n",
    "                        class_weight={1:3}, \n",
    "                        l1_ratio=1) \n",
    "model_3.fit(x_train,y_train) \n",
    "\n",
    "print(model_3.score(x_train,y_train))\n",
    "print(model_3.score(x_test,y_test))\n",
    "\n",
    "y_test_pred = model_3.predict(x_test)\n",
    "cfm_3 = confusion_matrix(y_test, y_test_pred)\n",
    "tn, fp, fn, tp = cfm_3.ravel()\n",
    "\n",
    "y_train_pred = model_3.predict(x_train)\n",
    "cfm_train_3 = confusion_matrix(y_train, y_train_pred)\n",
    "tn_train, fp_train, fn_train, tp_train = cfm_train_3.ravel()\n",
    "\n",
    "accuracy_training_3 = (tp_train+tn_train)/(tp_train+tn_train+fp_train+fn_train)\n",
    "accuracy_testing_3 = (tp+tn)/(tp+tn+fp+fn)\n",
    "precision_3  = precision_score(y_test, y_test_pred)\n",
    "recall_3  = recall_score(y_test, y_test_pred)\n",
    "f1_3  = f1_score(y_test, y_test_pred)\n",
    "auc_3  = roc_auc_score(y_test, y_test_pred)\n",
    "ap_3  = average_precision_score(y_test, y_test_pred)\n",
    "\n",
    "print(\"Confusion Matrix: \\n\",cfm_3)\n",
    "print(\"Training accuracy: \",accuracy_training_3)\n",
    "print(\"Testing  accuracy: \",accuracy_testing_3)\n",
    "print(\"Precision: \",precision_3)\n",
    "print(\"Recall: \",recall_3)\n",
    "print(\"F1-Score: \",f1_3)\n",
    "print(\"AUC: \",auc_3)\n",
    "print(\"Average Precision: \",ap_3)"
   ]
  },
  {
   "cell_type": "markdown",
   "metadata": {},
   "source": [
    "<h3 style=\"color:green;\">Interpret the results</h3>\n",
    "\n",
    "\n",
    "<h4>Interpretation</h4>\n",
    "<li>Compared to model 2, although the accuracy of model 3 increases from 56% to 88%, the f1-score reduces from 0.28 to 0.065. It means that even though the model's increases its overal ability in predicting a good loan and bad loan correctly, this model can not balance the needs between identifying bad loans accurately and increasing the posibility of catching bad loans. </li>\n",
    "<li>Precision increased from 0.17 to 0.27, indicating that model 3 has higher posibility to catch bad loans. However, recall significantly decreased from 0.74 to 0.037, indicating the huge drop of model's ability to identify bad loans accurately.</li>\n",
    "<li>Meanwhile, AUC has reduced from 0.64 to 0.51, which indicates that the model's efficacy has reduced and is only slightly better than random guessing. \n",
    "<li>Therefore, compared to model 2, model 3 is a less useful credit rating model to banks. </li>"
   ]
  },
  {
   "cell_type": "markdown",
   "metadata": {},
   "source": [
    "<h3 style=\"color:green;\">Update results_df</h3>"
   ]
  },
  {
   "cell_type": "code",
   "execution_count": 16,
   "metadata": {},
   "outputs": [
    {
     "data": {
      "text/html": [
       "<div>\n",
       "<style scoped>\n",
       "    .dataframe tbody tr th:only-of-type {\n",
       "        vertical-align: middle;\n",
       "    }\n",
       "\n",
       "    .dataframe tbody tr th {\n",
       "        vertical-align: top;\n",
       "    }\n",
       "\n",
       "    .dataframe thead th {\n",
       "        text-align: right;\n",
       "    }\n",
       "</style>\n",
       "<table border=\"1\" class=\"dataframe\">\n",
       "  <thead>\n",
       "    <tr style=\"text-align: right;\">\n",
       "      <th></th>\n",
       "      <th>accuracy</th>\n",
       "      <th>precision</th>\n",
       "      <th>recall</th>\n",
       "      <th>f1_score</th>\n",
       "      <th>AUC</th>\n",
       "      <th>AP</th>\n",
       "    </tr>\n",
       "    <tr>\n",
       "      <th>Model</th>\n",
       "      <th></th>\n",
       "      <th></th>\n",
       "      <th></th>\n",
       "      <th></th>\n",
       "      <th></th>\n",
       "      <th></th>\n",
       "    </tr>\n",
       "  </thead>\n",
       "  <tbody>\n",
       "    <tr>\n",
       "      <th>1</th>\n",
       "      <td>0.884572</td>\n",
       "      <td>0.083333</td>\n",
       "      <td>0.000154</td>\n",
       "      <td>0.000306</td>\n",
       "      <td>0.499967</td>\n",
       "      <td>0.115247</td>\n",
       "    </tr>\n",
       "    <tr>\n",
       "      <th>2</th>\n",
       "      <td>0.557119</td>\n",
       "      <td>0.170725</td>\n",
       "      <td>0.736963</td>\n",
       "      <td>0.277228</td>\n",
       "      <td>0.635327</td>\n",
       "      <td>0.156133</td>\n",
       "    </tr>\n",
       "    <tr>\n",
       "      <th>3</th>\n",
       "      <td>0.877276</td>\n",
       "      <td>0.266495</td>\n",
       "      <td>0.036999</td>\n",
       "      <td>0.064977</td>\n",
       "      <td>0.511867</td>\n",
       "      <td>0.120847</td>\n",
       "    </tr>\n",
       "    <tr>\n",
       "      <th>4</th>\n",
       "      <td>0.000000</td>\n",
       "      <td>0.000000</td>\n",
       "      <td>0.000000</td>\n",
       "      <td>0.000000</td>\n",
       "      <td>0.000000</td>\n",
       "      <td>0.000000</td>\n",
       "    </tr>\n",
       "    <tr>\n",
       "      <th>5</th>\n",
       "      <td>0.000000</td>\n",
       "      <td>0.000000</td>\n",
       "      <td>0.000000</td>\n",
       "      <td>0.000000</td>\n",
       "      <td>0.000000</td>\n",
       "      <td>0.000000</td>\n",
       "    </tr>\n",
       "    <tr>\n",
       "      <th>6</th>\n",
       "      <td>0.000000</td>\n",
       "      <td>0.000000</td>\n",
       "      <td>0.000000</td>\n",
       "      <td>0.000000</td>\n",
       "      <td>0.000000</td>\n",
       "      <td>0.000000</td>\n",
       "    </tr>\n",
       "    <tr>\n",
       "      <th>7</th>\n",
       "      <td>0.000000</td>\n",
       "      <td>0.000000</td>\n",
       "      <td>0.000000</td>\n",
       "      <td>0.000000</td>\n",
       "      <td>0.000000</td>\n",
       "      <td>0.000000</td>\n",
       "    </tr>\n",
       "  </tbody>\n",
       "</table>\n",
       "</div>"
      ],
      "text/plain": [
       "       accuracy  precision    recall  f1_score       AUC        AP\n",
       "Model                                                             \n",
       "1      0.884572   0.083333  0.000154  0.000306  0.499967  0.115247\n",
       "2      0.557119   0.170725  0.736963  0.277228  0.635327  0.156133\n",
       "3      0.877276   0.266495  0.036999  0.064977  0.511867  0.120847\n",
       "4      0.000000   0.000000  0.000000  0.000000  0.000000  0.000000\n",
       "5      0.000000   0.000000  0.000000  0.000000  0.000000  0.000000\n",
       "6      0.000000   0.000000  0.000000  0.000000  0.000000  0.000000\n",
       "7      0.000000   0.000000  0.000000  0.000000  0.000000  0.000000"
      ]
     },
     "execution_count": 16,
     "metadata": {},
     "output_type": "execute_result"
    }
   ],
   "source": [
    "results_df[\"accuracy\"][3] = accuracy_testing_3\n",
    "results_df[\"precision\"][3] = precision_3\n",
    "results_df[\"recall\"][3] = recall_3\n",
    "results_df[\"f1_score\"][3] = f1_3\n",
    "results_df[\"AUC\"][3] = auc_3\n",
    "results_df[\"AP\"][3] = ap_3\n",
    "\n",
    "results_df"
   ]
  },
  {
   "cell_type": "markdown",
   "metadata": {},
   "source": [
    "<h1 style=\"color:red;font-size:xx-large\">Build Model 4</h1>"
   ]
  },
  {
   "cell_type": "markdown",
   "metadata": {},
   "source": [
    "<h3 style=\"color:green;\">Random Forest Classifier</h3>\n",
    "<li>We need to improve recall and precision so perhaps a non-linear classifier will help</li>"
   ]
  },
  {
   "cell_type": "markdown",
   "metadata": {},
   "source": [
    "<h3 style=\"color:green;\">Build, fit, and report metrics</h3>\n",
    "\n",
    "<li>Run this with the following parameters (these are our base parameters)</li>\n",
    "<li>random_state=42,n_estimators=30,max_depth=6,min_samples_leaf=2000,min_samples_split=4000,class_weight={1:5}</li>\n"
   ]
  },
  {
   "cell_type": "code",
   "execution_count": 17,
   "metadata": {},
   "outputs": [
    {
     "data": {
      "text/html": [
       "<style>#sk-container-id-2 {color: black;background-color: white;}#sk-container-id-2 pre{padding: 0;}#sk-container-id-2 div.sk-toggleable {background-color: white;}#sk-container-id-2 label.sk-toggleable__label {cursor: pointer;display: block;width: 100%;margin-bottom: 0;padding: 0.3em;box-sizing: border-box;text-align: center;}#sk-container-id-2 label.sk-toggleable__label-arrow:before {content: \"▸\";float: left;margin-right: 0.25em;color: #696969;}#sk-container-id-2 label.sk-toggleable__label-arrow:hover:before {color: black;}#sk-container-id-2 div.sk-estimator:hover label.sk-toggleable__label-arrow:before {color: black;}#sk-container-id-2 div.sk-toggleable__content {max-height: 0;max-width: 0;overflow: hidden;text-align: left;background-color: #f0f8ff;}#sk-container-id-2 div.sk-toggleable__content pre {margin: 0.2em;color: black;border-radius: 0.25em;background-color: #f0f8ff;}#sk-container-id-2 input.sk-toggleable__control:checked~div.sk-toggleable__content {max-height: 200px;max-width: 100%;overflow: auto;}#sk-container-id-2 input.sk-toggleable__control:checked~label.sk-toggleable__label-arrow:before {content: \"▾\";}#sk-container-id-2 div.sk-estimator input.sk-toggleable__control:checked~label.sk-toggleable__label {background-color: #d4ebff;}#sk-container-id-2 div.sk-label input.sk-toggleable__control:checked~label.sk-toggleable__label {background-color: #d4ebff;}#sk-container-id-2 input.sk-hidden--visually {border: 0;clip: rect(1px 1px 1px 1px);clip: rect(1px, 1px, 1px, 1px);height: 1px;margin: -1px;overflow: hidden;padding: 0;position: absolute;width: 1px;}#sk-container-id-2 div.sk-estimator {font-family: monospace;background-color: #f0f8ff;border: 1px dotted black;border-radius: 0.25em;box-sizing: border-box;margin-bottom: 0.5em;}#sk-container-id-2 div.sk-estimator:hover {background-color: #d4ebff;}#sk-container-id-2 div.sk-parallel-item::after {content: \"\";width: 100%;border-bottom: 1px solid gray;flex-grow: 1;}#sk-container-id-2 div.sk-label:hover label.sk-toggleable__label {background-color: #d4ebff;}#sk-container-id-2 div.sk-serial::before {content: \"\";position: absolute;border-left: 1px solid gray;box-sizing: border-box;top: 0;bottom: 0;left: 50%;z-index: 0;}#sk-container-id-2 div.sk-serial {display: flex;flex-direction: column;align-items: center;background-color: white;padding-right: 0.2em;padding-left: 0.2em;position: relative;}#sk-container-id-2 div.sk-item {position: relative;z-index: 1;}#sk-container-id-2 div.sk-parallel {display: flex;align-items: stretch;justify-content: center;background-color: white;position: relative;}#sk-container-id-2 div.sk-item::before, #sk-container-id-2 div.sk-parallel-item::before {content: \"\";position: absolute;border-left: 1px solid gray;box-sizing: border-box;top: 0;bottom: 0;left: 50%;z-index: -1;}#sk-container-id-2 div.sk-parallel-item {display: flex;flex-direction: column;z-index: 1;position: relative;background-color: white;}#sk-container-id-2 div.sk-parallel-item:first-child::after {align-self: flex-end;width: 50%;}#sk-container-id-2 div.sk-parallel-item:last-child::after {align-self: flex-start;width: 50%;}#sk-container-id-2 div.sk-parallel-item:only-child::after {width: 0;}#sk-container-id-2 div.sk-dashed-wrapped {border: 1px dashed gray;margin: 0 0.4em 0.5em 0.4em;box-sizing: border-box;padding-bottom: 0.4em;background-color: white;}#sk-container-id-2 div.sk-label label {font-family: monospace;font-weight: bold;display: inline-block;line-height: 1.2em;}#sk-container-id-2 div.sk-label-container {text-align: center;}#sk-container-id-2 div.sk-container {/* jupyter's `normalize.less` sets `[hidden] { display: none; }` but bootstrap.min.css set `[hidden] { display: none !important; }` so we also need the `!important` here to be able to override the default hidden behavior on the sphinx rendered scikit-learn.org. See: https://github.com/scikit-learn/scikit-learn/issues/21755 */display: inline-block !important;position: relative;}#sk-container-id-2 div.sk-text-repr-fallback {display: none;}</style><div id=\"sk-container-id-2\" class=\"sk-top-container\"><div class=\"sk-text-repr-fallback\"><pre>RandomForestClassifier(class_weight={1: 5}, max_depth=6, min_samples_leaf=2000,\n",
       "                       min_samples_split=4000, n_estimators=30,\n",
       "                       random_state=42)</pre><b>In a Jupyter environment, please rerun this cell to show the HTML representation or trust the notebook. <br />On GitHub, the HTML representation is unable to render, please try loading this page with nbviewer.org.</b></div><div class=\"sk-container\" hidden><div class=\"sk-item\"><div class=\"sk-estimator sk-toggleable\"><input class=\"sk-toggleable__control sk-hidden--visually\" id=\"sk-estimator-id-4\" type=\"checkbox\" checked><label for=\"sk-estimator-id-4\" class=\"sk-toggleable__label sk-toggleable__label-arrow\">RandomForestClassifier</label><div class=\"sk-toggleable__content\"><pre>RandomForestClassifier(class_weight={1: 5}, max_depth=6, min_samples_leaf=2000,\n",
       "                       min_samples_split=4000, n_estimators=30,\n",
       "                       random_state=42)</pre></div></div></div></div></div>"
      ],
      "text/plain": [
       "RandomForestClassifier(class_weight={1: 5}, max_depth=6, min_samples_leaf=2000,\n",
       "                       min_samples_split=4000, n_estimators=30,\n",
       "                       random_state=42)"
      ]
     },
     "execution_count": 17,
     "metadata": {},
     "output_type": "execute_result"
    }
   ],
   "source": [
    "from sklearn.ensemble import RandomForestClassifier\n",
    "model_4 = RandomForestClassifier(random_state=42,\n",
    "                                 n_estimators=30,\n",
    "                                 max_depth=6,\n",
    "                                 min_samples_leaf=2000,\n",
    "                                 min_samples_split=4000,\n",
    "                                 class_weight={1:5})\n",
    "model_4.fit(x_train,y_train)"
   ]
  },
  {
   "cell_type": "code",
   "execution_count": 18,
   "metadata": {},
   "outputs": [
    {
     "name": "stdout",
     "output_type": "stream",
     "text": [
      "Confusion Matrix: \n",
      " [[132195  17815]\n",
      " [ 13503   6038]]\n",
      "Training accuracy:  0.816948758391976\n",
      "Testing  accuracy:  0.8152886152249176\n",
      "Precision:  0.25313377772187984\n",
      "Recall:  0.30899135151732254\n",
      "F1-Score:  0.27828732082776414\n",
      "AUC:  0.5951163010503085\n",
      "Average Precision:  0.15785590250314663\n"
     ]
    }
   ],
   "source": [
    "y_test_pred = model_4.predict(x_test)\n",
    "cfm_4 = confusion_matrix(y_test, y_test_pred)\n",
    "tn, fp, fn, tp = cfm_4.ravel()\n",
    "\n",
    "y_train_pred = model_4.predict(x_train)\n",
    "cfm_train_4 = confusion_matrix(y_train, y_train_pred)\n",
    "tn_train, fp_train, fn_train, tp_train = cfm_train_4.ravel()\n",
    "\n",
    "accuracy_training_4 = (tp_train+tn_train)/(tp_train+tn_train+fp_train+fn_train)\n",
    "accuracy_testing_4 = (tp+tn)/(tp+tn+fp+fn)\n",
    "precision_4  = precision_score(y_test, y_test_pred)\n",
    "recall_4  = recall_score(y_test, y_test_pred)\n",
    "f1_4  = f1_score(y_test, y_test_pred)\n",
    "auc_4  = roc_auc_score(y_test, y_test_pred)\n",
    "ap_4  = average_precision_score(y_test, y_test_pred)\n",
    "\n",
    "print(\"Confusion Matrix: \\n\",cfm_4)\n",
    "print(\"Training accuracy: \",accuracy_training_4)\n",
    "print(\"Testing  accuracy: \",accuracy_testing_4)\n",
    "print(\"Precision: \",precision_4)\n",
    "print(\"Recall: \",recall_4)\n",
    "print(\"F1-Score: \",f1_4)\n",
    "print(\"AUC: \",auc_4)\n",
    "print(\"Average Precision: \",ap_4)"
   ]
  },
  {
   "cell_type": "markdown",
   "metadata": {},
   "source": [
    "<h3 style=\"color:green;\">Interpreting model 4 results</h3>\n",
    "<p></p>\n",
    "\n",
    "<h4>Interpretation</h4>\n",
    "<li>The model accuracy is around 82% which suggests that the model is performing well on both the training and testing data, but there is still room for improvement.</li>\n",
    "<li>Precision, recall and f-1 score all maintain in an acceptable level. The precision of the model is 25.3%, which means that out of all the positive predictions (bad loan) made by the model, only 25.3% were actually correct. The recall of the model is 30.9%, which means that out of all the actual positive cases (bad loan), the model correctly identified 30.9%. The F1-score is 27.8%, which is measuring the precision recall tradeof.</li>\n",
    "<li>The AUC is 0.595, which indicates that the model's ability to distinguish between positive and negative cases is just slightly better than random chance. The average precision of the model is 15.8%, which suggests that the model is still not very good at identifying positives (bad loan) while minimizing false positives.</li>\n",
    "<li>Overall, while the model is performing reasonably well and it's a quite useful model to banks, there is still room for improvement in terms of precision, recall, and the ability to distinguish between positive and negative cases.</li>"
   ]
  },
  {
   "cell_type": "markdown",
   "metadata": {},
   "source": [
    "<h3 style=\"color:green;\">Update results_df</h3>"
   ]
  },
  {
   "cell_type": "code",
   "execution_count": 19,
   "metadata": {},
   "outputs": [
    {
     "data": {
      "text/html": [
       "<div>\n",
       "<style scoped>\n",
       "    .dataframe tbody tr th:only-of-type {\n",
       "        vertical-align: middle;\n",
       "    }\n",
       "\n",
       "    .dataframe tbody tr th {\n",
       "        vertical-align: top;\n",
       "    }\n",
       "\n",
       "    .dataframe thead th {\n",
       "        text-align: right;\n",
       "    }\n",
       "</style>\n",
       "<table border=\"1\" class=\"dataframe\">\n",
       "  <thead>\n",
       "    <tr style=\"text-align: right;\">\n",
       "      <th></th>\n",
       "      <th>accuracy</th>\n",
       "      <th>precision</th>\n",
       "      <th>recall</th>\n",
       "      <th>f1_score</th>\n",
       "      <th>AUC</th>\n",
       "      <th>AP</th>\n",
       "    </tr>\n",
       "    <tr>\n",
       "      <th>Model</th>\n",
       "      <th></th>\n",
       "      <th></th>\n",
       "      <th></th>\n",
       "      <th></th>\n",
       "      <th></th>\n",
       "      <th></th>\n",
       "    </tr>\n",
       "  </thead>\n",
       "  <tbody>\n",
       "    <tr>\n",
       "      <th>1</th>\n",
       "      <td>0.884572</td>\n",
       "      <td>0.083333</td>\n",
       "      <td>0.000154</td>\n",
       "      <td>0.000306</td>\n",
       "      <td>0.499967</td>\n",
       "      <td>0.115247</td>\n",
       "    </tr>\n",
       "    <tr>\n",
       "      <th>2</th>\n",
       "      <td>0.557119</td>\n",
       "      <td>0.170725</td>\n",
       "      <td>0.736963</td>\n",
       "      <td>0.277228</td>\n",
       "      <td>0.635327</td>\n",
       "      <td>0.156133</td>\n",
       "    </tr>\n",
       "    <tr>\n",
       "      <th>3</th>\n",
       "      <td>0.877276</td>\n",
       "      <td>0.266495</td>\n",
       "      <td>0.036999</td>\n",
       "      <td>0.064977</td>\n",
       "      <td>0.511867</td>\n",
       "      <td>0.120847</td>\n",
       "    </tr>\n",
       "    <tr>\n",
       "      <th>4</th>\n",
       "      <td>0.815289</td>\n",
       "      <td>0.253134</td>\n",
       "      <td>0.308991</td>\n",
       "      <td>0.278287</td>\n",
       "      <td>0.595116</td>\n",
       "      <td>0.157856</td>\n",
       "    </tr>\n",
       "    <tr>\n",
       "      <th>5</th>\n",
       "      <td>0.000000</td>\n",
       "      <td>0.000000</td>\n",
       "      <td>0.000000</td>\n",
       "      <td>0.000000</td>\n",
       "      <td>0.000000</td>\n",
       "      <td>0.000000</td>\n",
       "    </tr>\n",
       "    <tr>\n",
       "      <th>6</th>\n",
       "      <td>0.000000</td>\n",
       "      <td>0.000000</td>\n",
       "      <td>0.000000</td>\n",
       "      <td>0.000000</td>\n",
       "      <td>0.000000</td>\n",
       "      <td>0.000000</td>\n",
       "    </tr>\n",
       "    <tr>\n",
       "      <th>7</th>\n",
       "      <td>0.000000</td>\n",
       "      <td>0.000000</td>\n",
       "      <td>0.000000</td>\n",
       "      <td>0.000000</td>\n",
       "      <td>0.000000</td>\n",
       "      <td>0.000000</td>\n",
       "    </tr>\n",
       "  </tbody>\n",
       "</table>\n",
       "</div>"
      ],
      "text/plain": [
       "       accuracy  precision    recall  f1_score       AUC        AP\n",
       "Model                                                             \n",
       "1      0.884572   0.083333  0.000154  0.000306  0.499967  0.115247\n",
       "2      0.557119   0.170725  0.736963  0.277228  0.635327  0.156133\n",
       "3      0.877276   0.266495  0.036999  0.064977  0.511867  0.120847\n",
       "4      0.815289   0.253134  0.308991  0.278287  0.595116  0.157856\n",
       "5      0.000000   0.000000  0.000000  0.000000  0.000000  0.000000\n",
       "6      0.000000   0.000000  0.000000  0.000000  0.000000  0.000000\n",
       "7      0.000000   0.000000  0.000000  0.000000  0.000000  0.000000"
      ]
     },
     "execution_count": 19,
     "metadata": {},
     "output_type": "execute_result"
    }
   ],
   "source": [
    "results_df[\"accuracy\"][4] = accuracy_testing_4\n",
    "results_df[\"precision\"][4] = precision_4\n",
    "results_df[\"recall\"][4] = recall_4\n",
    "results_df[\"f1_score\"][4] = f1_4\n",
    "results_df[\"AUC\"][4] = auc_4\n",
    "results_df[\"AP\"][4] = ap_4\n",
    "\n",
    "results_df"
   ]
  },
  {
   "cell_type": "markdown",
   "metadata": {},
   "source": [
    "<h1 style=\"color:red;font-size:xx-large\">Build Model 5</h1>"
   ]
  },
  {
   "cell_type": "markdown",
   "metadata": {},
   "source": [
    "<h3 style=\"color:green;\">Random Forest Grid Search</h3>\n",
    "<p></p>\n",
    "\n",
    "\n",
    "<li>Run the best model</li>\n",
    "<li>Note that this will take a while, perhaps even a couple of hours (25 minutes on my laptop). Let it run. Get some coffee or whatever beverage you like. Then come back in a while to check out the results!</li>\n",
    "<li>If you want to speed it up, remove the 500 option from n_estimators (n_estimators is the number of trees generated and is the single most expensive part of the grid search)</li>\n"
   ]
  },
  {
   "cell_type": "code",
   "execution_count": 20,
   "metadata": {},
   "outputs": [
    {
     "name": "stdout",
     "output_type": "stream",
     "text": [
      "CPU times: user 13min 45s, sys: 1.07 s, total: 13min 47s\n",
      "Wall time: 29min 6s\n"
     ]
    },
    {
     "data": {
      "text/html": [
       "<style>#sk-container-id-3 {color: black;background-color: white;}#sk-container-id-3 pre{padding: 0;}#sk-container-id-3 div.sk-toggleable {background-color: white;}#sk-container-id-3 label.sk-toggleable__label {cursor: pointer;display: block;width: 100%;margin-bottom: 0;padding: 0.3em;box-sizing: border-box;text-align: center;}#sk-container-id-3 label.sk-toggleable__label-arrow:before {content: \"▸\";float: left;margin-right: 0.25em;color: #696969;}#sk-container-id-3 label.sk-toggleable__label-arrow:hover:before {color: black;}#sk-container-id-3 div.sk-estimator:hover label.sk-toggleable__label-arrow:before {color: black;}#sk-container-id-3 div.sk-toggleable__content {max-height: 0;max-width: 0;overflow: hidden;text-align: left;background-color: #f0f8ff;}#sk-container-id-3 div.sk-toggleable__content pre {margin: 0.2em;color: black;border-radius: 0.25em;background-color: #f0f8ff;}#sk-container-id-3 input.sk-toggleable__control:checked~div.sk-toggleable__content {max-height: 200px;max-width: 100%;overflow: auto;}#sk-container-id-3 input.sk-toggleable__control:checked~label.sk-toggleable__label-arrow:before {content: \"▾\";}#sk-container-id-3 div.sk-estimator input.sk-toggleable__control:checked~label.sk-toggleable__label {background-color: #d4ebff;}#sk-container-id-3 div.sk-label input.sk-toggleable__control:checked~label.sk-toggleable__label {background-color: #d4ebff;}#sk-container-id-3 input.sk-hidden--visually {border: 0;clip: rect(1px 1px 1px 1px);clip: rect(1px, 1px, 1px, 1px);height: 1px;margin: -1px;overflow: hidden;padding: 0;position: absolute;width: 1px;}#sk-container-id-3 div.sk-estimator {font-family: monospace;background-color: #f0f8ff;border: 1px dotted black;border-radius: 0.25em;box-sizing: border-box;margin-bottom: 0.5em;}#sk-container-id-3 div.sk-estimator:hover {background-color: #d4ebff;}#sk-container-id-3 div.sk-parallel-item::after {content: \"\";width: 100%;border-bottom: 1px solid gray;flex-grow: 1;}#sk-container-id-3 div.sk-label:hover label.sk-toggleable__label {background-color: #d4ebff;}#sk-container-id-3 div.sk-serial::before {content: \"\";position: absolute;border-left: 1px solid gray;box-sizing: border-box;top: 0;bottom: 0;left: 50%;z-index: 0;}#sk-container-id-3 div.sk-serial {display: flex;flex-direction: column;align-items: center;background-color: white;padding-right: 0.2em;padding-left: 0.2em;position: relative;}#sk-container-id-3 div.sk-item {position: relative;z-index: 1;}#sk-container-id-3 div.sk-parallel {display: flex;align-items: stretch;justify-content: center;background-color: white;position: relative;}#sk-container-id-3 div.sk-item::before, #sk-container-id-3 div.sk-parallel-item::before {content: \"\";position: absolute;border-left: 1px solid gray;box-sizing: border-box;top: 0;bottom: 0;left: 50%;z-index: -1;}#sk-container-id-3 div.sk-parallel-item {display: flex;flex-direction: column;z-index: 1;position: relative;background-color: white;}#sk-container-id-3 div.sk-parallel-item:first-child::after {align-self: flex-end;width: 50%;}#sk-container-id-3 div.sk-parallel-item:last-child::after {align-self: flex-start;width: 50%;}#sk-container-id-3 div.sk-parallel-item:only-child::after {width: 0;}#sk-container-id-3 div.sk-dashed-wrapped {border: 1px dashed gray;margin: 0 0.4em 0.5em 0.4em;box-sizing: border-box;padding-bottom: 0.4em;background-color: white;}#sk-container-id-3 div.sk-label label {font-family: monospace;font-weight: bold;display: inline-block;line-height: 1.2em;}#sk-container-id-3 div.sk-label-container {text-align: center;}#sk-container-id-3 div.sk-container {/* jupyter's `normalize.less` sets `[hidden] { display: none; }` but bootstrap.min.css set `[hidden] { display: none !important; }` so we also need the `!important` here to be able to override the default hidden behavior on the sphinx rendered scikit-learn.org. See: https://github.com/scikit-learn/scikit-learn/issues/21755 */display: inline-block !important;position: relative;}#sk-container-id-3 div.sk-text-repr-fallback {display: none;}</style><div id=\"sk-container-id-3\" class=\"sk-top-container\"><div class=\"sk-text-repr-fallback\"><pre>GridSearchCV(cv=5, estimator=RandomForestClassifier(random_state=42), n_jobs=-1,\n",
       "             param_grid={&#x27;class_weight&#x27;: [{1: 6}], &#x27;min_samples_leaf&#x27;: [10],\n",
       "                         &#x27;min_samples_split&#x27;: [100], &#x27;n_estimators&#x27;: [800]},\n",
       "             scoring=&#x27;f1&#x27;)</pre><b>In a Jupyter environment, please rerun this cell to show the HTML representation or trust the notebook. <br />On GitHub, the HTML representation is unable to render, please try loading this page with nbviewer.org.</b></div><div class=\"sk-container\" hidden><div class=\"sk-item sk-dashed-wrapped\"><div class=\"sk-label-container\"><div class=\"sk-label sk-toggleable\"><input class=\"sk-toggleable__control sk-hidden--visually\" id=\"sk-estimator-id-5\" type=\"checkbox\" ><label for=\"sk-estimator-id-5\" class=\"sk-toggleable__label sk-toggleable__label-arrow\">GridSearchCV</label><div class=\"sk-toggleable__content\"><pre>GridSearchCV(cv=5, estimator=RandomForestClassifier(random_state=42), n_jobs=-1,\n",
       "             param_grid={&#x27;class_weight&#x27;: [{1: 6}], &#x27;min_samples_leaf&#x27;: [10],\n",
       "                         &#x27;min_samples_split&#x27;: [100], &#x27;n_estimators&#x27;: [800]},\n",
       "             scoring=&#x27;f1&#x27;)</pre></div></div></div><div class=\"sk-parallel\"><div class=\"sk-parallel-item\"><div class=\"sk-item\"><div class=\"sk-label-container\"><div class=\"sk-label sk-toggleable\"><input class=\"sk-toggleable__control sk-hidden--visually\" id=\"sk-estimator-id-6\" type=\"checkbox\" ><label for=\"sk-estimator-id-6\" class=\"sk-toggleable__label sk-toggleable__label-arrow\">estimator: RandomForestClassifier</label><div class=\"sk-toggleable__content\"><pre>RandomForestClassifier(random_state=42)</pre></div></div></div><div class=\"sk-serial\"><div class=\"sk-item\"><div class=\"sk-estimator sk-toggleable\"><input class=\"sk-toggleable__control sk-hidden--visually\" id=\"sk-estimator-id-7\" type=\"checkbox\" ><label for=\"sk-estimator-id-7\" class=\"sk-toggleable__label sk-toggleable__label-arrow\">RandomForestClassifier</label><div class=\"sk-toggleable__content\"><pre>RandomForestClassifier(random_state=42)</pre></div></div></div></div></div></div></div></div></div></div>"
      ],
      "text/plain": [
       "GridSearchCV(cv=5, estimator=RandomForestClassifier(random_state=42), n_jobs=-1,\n",
       "             param_grid={'class_weight': [{1: 6}], 'min_samples_leaf': [10],\n",
       "                         'min_samples_split': [100], 'n_estimators': [800]},\n",
       "             scoring='f1')"
      ]
     },
     "execution_count": 20,
     "metadata": {},
     "output_type": "execute_result"
    }
   ],
   "source": [
    "%%time\n",
    "from sklearn.ensemble import RandomForestClassifier\n",
    "\n",
    "#I tried to run the original grid search for several hours but still did not get result. \n",
    "#Therefore, I just selected some parameters to reduce the grid search's burden.\n",
    "from sklearn.model_selection import GridSearchCV\n",
    "from sklearn.metrics import average_precision_score,make_scorer\n",
    "parameters = {\n",
    "    'n_estimators': [800],\n",
    "    'min_samples_split': [100],\n",
    "    'class_weight': [{1:6}],\n",
    "    'min_samples_leaf': [10] \n",
    "}\n",
    "gs_clf = GridSearchCV(RandomForestClassifier(random_state=42),parameters,cv=5,n_jobs=-1,\n",
    "                      scoring='f1')\n",
    "gs_clf.fit(x_train, np.ravel(y_train))"
   ]
  },
  {
   "cell_type": "markdown",
   "metadata": {},
   "source": [
    "<h3 style=\"color:green;\">Get the best model parameters</h3>\n"
   ]
  },
  {
   "cell_type": "code",
   "execution_count": 21,
   "metadata": {},
   "outputs": [
    {
     "data": {
      "text/plain": [
       "{'class_weight': {1: 6},\n",
       " 'min_samples_leaf': 10,\n",
       " 'min_samples_split': 100,\n",
       " 'n_estimators': 800}"
      ]
     },
     "execution_count": 21,
     "metadata": {},
     "output_type": "execute_result"
    }
   ],
   "source": [
    "gs_clf.best_params_"
   ]
  },
  {
   "cell_type": "markdown",
   "metadata": {},
   "source": [
    "<h3 style=\"color:green;\">Run the best model and get metrics</h3>\n"
   ]
  },
  {
   "cell_type": "code",
   "execution_count": 22,
   "metadata": {},
   "outputs": [
    {
     "data": {
      "text/html": [
       "<style>#sk-container-id-4 {color: black;background-color: white;}#sk-container-id-4 pre{padding: 0;}#sk-container-id-4 div.sk-toggleable {background-color: white;}#sk-container-id-4 label.sk-toggleable__label {cursor: pointer;display: block;width: 100%;margin-bottom: 0;padding: 0.3em;box-sizing: border-box;text-align: center;}#sk-container-id-4 label.sk-toggleable__label-arrow:before {content: \"▸\";float: left;margin-right: 0.25em;color: #696969;}#sk-container-id-4 label.sk-toggleable__label-arrow:hover:before {color: black;}#sk-container-id-4 div.sk-estimator:hover label.sk-toggleable__label-arrow:before {color: black;}#sk-container-id-4 div.sk-toggleable__content {max-height: 0;max-width: 0;overflow: hidden;text-align: left;background-color: #f0f8ff;}#sk-container-id-4 div.sk-toggleable__content pre {margin: 0.2em;color: black;border-radius: 0.25em;background-color: #f0f8ff;}#sk-container-id-4 input.sk-toggleable__control:checked~div.sk-toggleable__content {max-height: 200px;max-width: 100%;overflow: auto;}#sk-container-id-4 input.sk-toggleable__control:checked~label.sk-toggleable__label-arrow:before {content: \"▾\";}#sk-container-id-4 div.sk-estimator input.sk-toggleable__control:checked~label.sk-toggleable__label {background-color: #d4ebff;}#sk-container-id-4 div.sk-label input.sk-toggleable__control:checked~label.sk-toggleable__label {background-color: #d4ebff;}#sk-container-id-4 input.sk-hidden--visually {border: 0;clip: rect(1px 1px 1px 1px);clip: rect(1px, 1px, 1px, 1px);height: 1px;margin: -1px;overflow: hidden;padding: 0;position: absolute;width: 1px;}#sk-container-id-4 div.sk-estimator {font-family: monospace;background-color: #f0f8ff;border: 1px dotted black;border-radius: 0.25em;box-sizing: border-box;margin-bottom: 0.5em;}#sk-container-id-4 div.sk-estimator:hover {background-color: #d4ebff;}#sk-container-id-4 div.sk-parallel-item::after {content: \"\";width: 100%;border-bottom: 1px solid gray;flex-grow: 1;}#sk-container-id-4 div.sk-label:hover label.sk-toggleable__label {background-color: #d4ebff;}#sk-container-id-4 div.sk-serial::before {content: \"\";position: absolute;border-left: 1px solid gray;box-sizing: border-box;top: 0;bottom: 0;left: 50%;z-index: 0;}#sk-container-id-4 div.sk-serial {display: flex;flex-direction: column;align-items: center;background-color: white;padding-right: 0.2em;padding-left: 0.2em;position: relative;}#sk-container-id-4 div.sk-item {position: relative;z-index: 1;}#sk-container-id-4 div.sk-parallel {display: flex;align-items: stretch;justify-content: center;background-color: white;position: relative;}#sk-container-id-4 div.sk-item::before, #sk-container-id-4 div.sk-parallel-item::before {content: \"\";position: absolute;border-left: 1px solid gray;box-sizing: border-box;top: 0;bottom: 0;left: 50%;z-index: -1;}#sk-container-id-4 div.sk-parallel-item {display: flex;flex-direction: column;z-index: 1;position: relative;background-color: white;}#sk-container-id-4 div.sk-parallel-item:first-child::after {align-self: flex-end;width: 50%;}#sk-container-id-4 div.sk-parallel-item:last-child::after {align-self: flex-start;width: 50%;}#sk-container-id-4 div.sk-parallel-item:only-child::after {width: 0;}#sk-container-id-4 div.sk-dashed-wrapped {border: 1px dashed gray;margin: 0 0.4em 0.5em 0.4em;box-sizing: border-box;padding-bottom: 0.4em;background-color: white;}#sk-container-id-4 div.sk-label label {font-family: monospace;font-weight: bold;display: inline-block;line-height: 1.2em;}#sk-container-id-4 div.sk-label-container {text-align: center;}#sk-container-id-4 div.sk-container {/* jupyter's `normalize.less` sets `[hidden] { display: none; }` but bootstrap.min.css set `[hidden] { display: none !important; }` so we also need the `!important` here to be able to override the default hidden behavior on the sphinx rendered scikit-learn.org. See: https://github.com/scikit-learn/scikit-learn/issues/21755 */display: inline-block !important;position: relative;}#sk-container-id-4 div.sk-text-repr-fallback {display: none;}</style><div id=\"sk-container-id-4\" class=\"sk-top-container\"><div class=\"sk-text-repr-fallback\"><pre>RandomForestClassifier(class_weight={1: 6}, min_samples_leaf=10,\n",
       "                       min_samples_split=100, n_estimators=800, n_jobs=-1,\n",
       "                       random_state=42)</pre><b>In a Jupyter environment, please rerun this cell to show the HTML representation or trust the notebook. <br />On GitHub, the HTML representation is unable to render, please try loading this page with nbviewer.org.</b></div><div class=\"sk-container\" hidden><div class=\"sk-item\"><div class=\"sk-estimator sk-toggleable\"><input class=\"sk-toggleable__control sk-hidden--visually\" id=\"sk-estimator-id-8\" type=\"checkbox\" checked><label for=\"sk-estimator-id-8\" class=\"sk-toggleable__label sk-toggleable__label-arrow\">RandomForestClassifier</label><div class=\"sk-toggleable__content\"><pre>RandomForestClassifier(class_weight={1: 6}, min_samples_leaf=10,\n",
       "                       min_samples_split=100, n_estimators=800, n_jobs=-1,\n",
       "                       random_state=42)</pre></div></div></div></div></div>"
      ],
      "text/plain": [
       "RandomForestClassifier(class_weight={1: 6}, min_samples_leaf=10,\n",
       "                       min_samples_split=100, n_estimators=800, n_jobs=-1,\n",
       "                       random_state=42)"
      ]
     },
     "execution_count": 22,
     "metadata": {},
     "output_type": "execute_result"
    }
   ],
   "source": [
    "model_5 = RandomForestClassifier(random_state=42,\n",
    "                                 n_estimators=800,\n",
    "                                 min_samples_leaf=10,\n",
    "                                 min_samples_split=100,\n",
    "                                 class_weight={1:6},\n",
    "                                 n_jobs=-1)\n",
    "model_5.fit(x_train,y_train)"
   ]
  },
  {
   "cell_type": "code",
   "execution_count": 23,
   "metadata": {},
   "outputs": [
    {
     "name": "stdout",
     "output_type": "stream",
     "text": [
      "Training accuracy:  0.782374828116153\n",
      "Testing  accuracy:  0.7632924606755489\n",
      "confusion matrix:\n",
      "[[119694  30316]\n",
      " [  9818   9723]]\n",
      "precision:  0.242838232723095\n",
      "recall:  0.4975692134486464\n",
      "f1 score:  0.3263846928499497\n",
      "auc 0.6477380098307828\n",
      "ap 0.17873470927770774\n"
     ]
    }
   ],
   "source": [
    "y_test_pred = model_5.predict(x_test)\n",
    "cfm_5 = confusion_matrix(y_test, y_test_pred)\n",
    "tn, fp, fn, tp = cfm_5.ravel()\n",
    "\n",
    "y_train_pred = model_5.predict(x_train)\n",
    "cfm_train_5 = confusion_matrix(y_train, y_train_pred)\n",
    "tn_train, fp_train, fn_train, tp_train = cfm_train_5.ravel()\n",
    "\n",
    "accuracy_training_5 = (tp_train+tn_train)/(tp_train+tn_train+fp_train+fn_train)\n",
    "accuracy_testing_5 = (tp+tn)/(tp+tn+fp+fn)\n",
    "precision_5  = precision_score(y_test, y_test_pred)\n",
    "recall_5  = recall_score(y_test, y_test_pred)\n",
    "f1_5  = f1_score(y_test, y_test_pred)\n",
    "auc_5  = roc_auc_score(y_test, y_test_pred)\n",
    "ap_5  = average_precision_score(y_test, y_test_pred)\n",
    "\n",
    "print(\"Training accuracy: \",accuracy_training_5)\n",
    "print(\"Testing  accuracy: \",accuracy_testing_5)\n",
    "print(\"confusion matrix:\")\n",
    "print(cfm_5)\n",
    "print(\"precision: \",precision_5)\n",
    "print(\"recall: \",recall_5)\n",
    "print(\"f1 score: \",f1_5)\n",
    "print(\"auc\",auc_5)\n",
    "print(\"ap\",ap_5)"
   ]
  },
  {
   "cell_type": "markdown",
   "metadata": {},
   "source": [
    "<h3 style=\"color:green;\">Interpreting model 5 results</h3>\n",
    "\n",
    "<p>\n",
    "    </p>\n",
    "<h4>Interpretation</h4>\n",
    "<li>Compared to model 4, this model's accuracy decreases to 76%, but the higher f1-score indicates that it does a better job in precision recall tradeoff. Even though the model's overal ability in predicting a good loan and bad loan correctly is worse, this model can  better balance the needs between identifying bad loans accurately and increasing the posibility of catching bad loans.</li>\n",
    "<li>Precision (24%) maintains the similar level as model 4. However, recall significantly increases from 31% to 50%, indicating its ability to correctly identify positives (bad loan) increases. Therefore, f1-score increases as well.</li>\n",
    "<li>AUC and average precision are also better than model 4. The AUC of the model is 0.65, which is better than random guessing (AUC of 0.5), but still has room for improvement. The average precision score of the model is 0.18, which is again still low and indicates that the model's predictions are not very precise.</li> \n",
    "<li>Overall, this model is more useful than model 4 in credit rating applications, but it still needs improvement but it can be effectively used.</li>"
   ]
  },
  {
   "cell_type": "markdown",
   "metadata": {},
   "source": [
    "<h3 style=\"color:green;\">Update results df</h3>\n"
   ]
  },
  {
   "cell_type": "code",
   "execution_count": 24,
   "metadata": {},
   "outputs": [
    {
     "data": {
      "text/html": [
       "<div>\n",
       "<style scoped>\n",
       "    .dataframe tbody tr th:only-of-type {\n",
       "        vertical-align: middle;\n",
       "    }\n",
       "\n",
       "    .dataframe tbody tr th {\n",
       "        vertical-align: top;\n",
       "    }\n",
       "\n",
       "    .dataframe thead th {\n",
       "        text-align: right;\n",
       "    }\n",
       "</style>\n",
       "<table border=\"1\" class=\"dataframe\">\n",
       "  <thead>\n",
       "    <tr style=\"text-align: right;\">\n",
       "      <th></th>\n",
       "      <th>accuracy</th>\n",
       "      <th>precision</th>\n",
       "      <th>recall</th>\n",
       "      <th>f1_score</th>\n",
       "      <th>AUC</th>\n",
       "      <th>AP</th>\n",
       "    </tr>\n",
       "    <tr>\n",
       "      <th>Model</th>\n",
       "      <th></th>\n",
       "      <th></th>\n",
       "      <th></th>\n",
       "      <th></th>\n",
       "      <th></th>\n",
       "      <th></th>\n",
       "    </tr>\n",
       "  </thead>\n",
       "  <tbody>\n",
       "    <tr>\n",
       "      <th>1</th>\n",
       "      <td>0.884572</td>\n",
       "      <td>0.083333</td>\n",
       "      <td>0.000154</td>\n",
       "      <td>0.000306</td>\n",
       "      <td>0.499967</td>\n",
       "      <td>0.115247</td>\n",
       "    </tr>\n",
       "    <tr>\n",
       "      <th>2</th>\n",
       "      <td>0.557119</td>\n",
       "      <td>0.170725</td>\n",
       "      <td>0.736963</td>\n",
       "      <td>0.277228</td>\n",
       "      <td>0.635327</td>\n",
       "      <td>0.156133</td>\n",
       "    </tr>\n",
       "    <tr>\n",
       "      <th>3</th>\n",
       "      <td>0.877276</td>\n",
       "      <td>0.266495</td>\n",
       "      <td>0.036999</td>\n",
       "      <td>0.064977</td>\n",
       "      <td>0.511867</td>\n",
       "      <td>0.120847</td>\n",
       "    </tr>\n",
       "    <tr>\n",
       "      <th>4</th>\n",
       "      <td>0.815289</td>\n",
       "      <td>0.253134</td>\n",
       "      <td>0.308991</td>\n",
       "      <td>0.278287</td>\n",
       "      <td>0.595116</td>\n",
       "      <td>0.157856</td>\n",
       "    </tr>\n",
       "    <tr>\n",
       "      <th>5</th>\n",
       "      <td>0.763292</td>\n",
       "      <td>0.242838</td>\n",
       "      <td>0.497569</td>\n",
       "      <td>0.326385</td>\n",
       "      <td>0.647738</td>\n",
       "      <td>0.178735</td>\n",
       "    </tr>\n",
       "    <tr>\n",
       "      <th>6</th>\n",
       "      <td>0.000000</td>\n",
       "      <td>0.000000</td>\n",
       "      <td>0.000000</td>\n",
       "      <td>0.000000</td>\n",
       "      <td>0.000000</td>\n",
       "      <td>0.000000</td>\n",
       "    </tr>\n",
       "    <tr>\n",
       "      <th>7</th>\n",
       "      <td>0.000000</td>\n",
       "      <td>0.000000</td>\n",
       "      <td>0.000000</td>\n",
       "      <td>0.000000</td>\n",
       "      <td>0.000000</td>\n",
       "      <td>0.000000</td>\n",
       "    </tr>\n",
       "  </tbody>\n",
       "</table>\n",
       "</div>"
      ],
      "text/plain": [
       "       accuracy  precision    recall  f1_score       AUC        AP\n",
       "Model                                                             \n",
       "1      0.884572   0.083333  0.000154  0.000306  0.499967  0.115247\n",
       "2      0.557119   0.170725  0.736963  0.277228  0.635327  0.156133\n",
       "3      0.877276   0.266495  0.036999  0.064977  0.511867  0.120847\n",
       "4      0.815289   0.253134  0.308991  0.278287  0.595116  0.157856\n",
       "5      0.763292   0.242838  0.497569  0.326385  0.647738  0.178735\n",
       "6      0.000000   0.000000  0.000000  0.000000  0.000000  0.000000\n",
       "7      0.000000   0.000000  0.000000  0.000000  0.000000  0.000000"
      ]
     },
     "execution_count": 24,
     "metadata": {},
     "output_type": "execute_result"
    }
   ],
   "source": [
    "results_df[\"accuracy\"][5] = accuracy_testing_5\n",
    "results_df[\"precision\"][5] = precision_5\n",
    "results_df[\"recall\"][5] = recall_5\n",
    "results_df[\"f1_score\"][5] = f1_5\n",
    "results_df[\"AUC\"][5] = auc_5\n",
    "results_df[\"AP\"][5] = ap_5\n",
    "\n",
    "results_df"
   ]
  },
  {
   "cell_type": "markdown",
   "metadata": {},
   "source": [
    "<h1 style=\"color:red;font-size:xx-large\">Build Model 6</h1>"
   ]
  },
  {
   "cell_type": "markdown",
   "metadata": {},
   "source": [
    "<li>Gradient Boosting Classifier</li>\n",
    "<li>Grid search on GBC can take several days so let's just skip to the best models (I ran a 2-day reduced version)!</li>\n",
    "<li>Sklearn's gradient boosting classifier uses a sample weight vector to correct for imbalances in the data</li>\n"
   ]
  },
  {
   "cell_type": "code",
   "execution_count": 25,
   "metadata": {},
   "outputs": [
    {
     "data": {
      "text/html": [
       "<style>#sk-container-id-5 {color: black;background-color: white;}#sk-container-id-5 pre{padding: 0;}#sk-container-id-5 div.sk-toggleable {background-color: white;}#sk-container-id-5 label.sk-toggleable__label {cursor: pointer;display: block;width: 100%;margin-bottom: 0;padding: 0.3em;box-sizing: border-box;text-align: center;}#sk-container-id-5 label.sk-toggleable__label-arrow:before {content: \"▸\";float: left;margin-right: 0.25em;color: #696969;}#sk-container-id-5 label.sk-toggleable__label-arrow:hover:before {color: black;}#sk-container-id-5 div.sk-estimator:hover label.sk-toggleable__label-arrow:before {color: black;}#sk-container-id-5 div.sk-toggleable__content {max-height: 0;max-width: 0;overflow: hidden;text-align: left;background-color: #f0f8ff;}#sk-container-id-5 div.sk-toggleable__content pre {margin: 0.2em;color: black;border-radius: 0.25em;background-color: #f0f8ff;}#sk-container-id-5 input.sk-toggleable__control:checked~div.sk-toggleable__content {max-height: 200px;max-width: 100%;overflow: auto;}#sk-container-id-5 input.sk-toggleable__control:checked~label.sk-toggleable__label-arrow:before {content: \"▾\";}#sk-container-id-5 div.sk-estimator input.sk-toggleable__control:checked~label.sk-toggleable__label {background-color: #d4ebff;}#sk-container-id-5 div.sk-label input.sk-toggleable__control:checked~label.sk-toggleable__label {background-color: #d4ebff;}#sk-container-id-5 input.sk-hidden--visually {border: 0;clip: rect(1px 1px 1px 1px);clip: rect(1px, 1px, 1px, 1px);height: 1px;margin: -1px;overflow: hidden;padding: 0;position: absolute;width: 1px;}#sk-container-id-5 div.sk-estimator {font-family: monospace;background-color: #f0f8ff;border: 1px dotted black;border-radius: 0.25em;box-sizing: border-box;margin-bottom: 0.5em;}#sk-container-id-5 div.sk-estimator:hover {background-color: #d4ebff;}#sk-container-id-5 div.sk-parallel-item::after {content: \"\";width: 100%;border-bottom: 1px solid gray;flex-grow: 1;}#sk-container-id-5 div.sk-label:hover label.sk-toggleable__label {background-color: #d4ebff;}#sk-container-id-5 div.sk-serial::before {content: \"\";position: absolute;border-left: 1px solid gray;box-sizing: border-box;top: 0;bottom: 0;left: 50%;z-index: 0;}#sk-container-id-5 div.sk-serial {display: flex;flex-direction: column;align-items: center;background-color: white;padding-right: 0.2em;padding-left: 0.2em;position: relative;}#sk-container-id-5 div.sk-item {position: relative;z-index: 1;}#sk-container-id-5 div.sk-parallel {display: flex;align-items: stretch;justify-content: center;background-color: white;position: relative;}#sk-container-id-5 div.sk-item::before, #sk-container-id-5 div.sk-parallel-item::before {content: \"\";position: absolute;border-left: 1px solid gray;box-sizing: border-box;top: 0;bottom: 0;left: 50%;z-index: -1;}#sk-container-id-5 div.sk-parallel-item {display: flex;flex-direction: column;z-index: 1;position: relative;background-color: white;}#sk-container-id-5 div.sk-parallel-item:first-child::after {align-self: flex-end;width: 50%;}#sk-container-id-5 div.sk-parallel-item:last-child::after {align-self: flex-start;width: 50%;}#sk-container-id-5 div.sk-parallel-item:only-child::after {width: 0;}#sk-container-id-5 div.sk-dashed-wrapped {border: 1px dashed gray;margin: 0 0.4em 0.5em 0.4em;box-sizing: border-box;padding-bottom: 0.4em;background-color: white;}#sk-container-id-5 div.sk-label label {font-family: monospace;font-weight: bold;display: inline-block;line-height: 1.2em;}#sk-container-id-5 div.sk-label-container {text-align: center;}#sk-container-id-5 div.sk-container {/* jupyter's `normalize.less` sets `[hidden] { display: none; }` but bootstrap.min.css set `[hidden] { display: none !important; }` so we also need the `!important` here to be able to override the default hidden behavior on the sphinx rendered scikit-learn.org. See: https://github.com/scikit-learn/scikit-learn/issues/21755 */display: inline-block !important;position: relative;}#sk-container-id-5 div.sk-text-repr-fallback {display: none;}</style><div id=\"sk-container-id-5\" class=\"sk-top-container\"><div class=\"sk-text-repr-fallback\"><pre>GradientBoostingClassifier(max_depth=8, min_samples_leaf=100,\n",
       "                           min_samples_split=100, n_estimators=400,\n",
       "                           subsample=0.6)</pre><b>In a Jupyter environment, please rerun this cell to show the HTML representation or trust the notebook. <br />On GitHub, the HTML representation is unable to render, please try loading this page with nbviewer.org.</b></div><div class=\"sk-container\" hidden><div class=\"sk-item\"><div class=\"sk-estimator sk-toggleable\"><input class=\"sk-toggleable__control sk-hidden--visually\" id=\"sk-estimator-id-9\" type=\"checkbox\" checked><label for=\"sk-estimator-id-9\" class=\"sk-toggleable__label sk-toggleable__label-arrow\">GradientBoostingClassifier</label><div class=\"sk-toggleable__content\"><pre>GradientBoostingClassifier(max_depth=8, min_samples_leaf=100,\n",
       "                           min_samples_split=100, n_estimators=400,\n",
       "                           subsample=0.6)</pre></div></div></div></div></div>"
      ],
      "text/plain": [
       "GradientBoostingClassifier(max_depth=8, min_samples_leaf=100,\n",
       "                           min_samples_split=100, n_estimators=400,\n",
       "                           subsample=0.6)"
      ]
     },
     "execution_count": 25,
     "metadata": {},
     "output_type": "execute_result"
    }
   ],
   "source": [
    "from sklearn.ensemble import GradientBoostingClassifier\n",
    "\n",
    "#sample_weight is a vector that indicates the weight of each \n",
    "#case in the training sample\n",
    "#If you're interested, try values from 1 to 10 instead of 4\n",
    "sample_weight = np.array([4 if i == 1 else 1 for i in y_train])\n",
    "\n",
    "model_6 = GradientBoostingClassifier(min_samples_split=100,\n",
    "                                     max_depth=8,\n",
    "                                     min_samples_leaf=100,\n",
    "                                     n_estimators=400,\n",
    "                                     subsample=0.6)\n",
    "\n",
    "model_6.fit(x_train,y_train,sample_weight=sample_weight)"
   ]
  },
  {
   "cell_type": "code",
   "execution_count": 26,
   "metadata": {},
   "outputs": [
    {
     "name": "stdout",
     "output_type": "stream",
     "text": [
      "Training accuracy:  0.8189961983337377\n",
      "Testing  accuracy:  0.8038466302174567\n",
      "confusion matrix:\n",
      "[[128280  21730]\n",
      " [ 11528   8013]]\n",
      "precision:  0.26940792791581214\n",
      "recall:  0.4100608975999181\n",
      "f1 score:  0.3251765278792306\n",
      "auc 0.6326019440336101\n",
      "ap 0.17846499857984097\n"
     ]
    }
   ],
   "source": [
    "#Calculate and print metrics\n",
    "y_test_pred = model_6.predict(x_test)\n",
    "cfm_6 = confusion_matrix(y_test, y_test_pred)\n",
    "tn, fp, fn, tp = cfm_6.ravel()\n",
    "\n",
    "y_train_pred = model_6.predict(x_train)\n",
    "cfm_train_6 = confusion_matrix(y_train, y_train_pred)\n",
    "tn_train, fp_train, fn_train, tp_train = cfm_train_6.ravel()\n",
    "\n",
    "accuracy_training_6 = (tp_train+tn_train)/(tp_train+tn_train+fp_train+fn_train)\n",
    "accuracy_testing_6 = (tp+tn)/(tp+tn+fp+fn)\n",
    "precision_6  = precision_score(y_test, y_test_pred)\n",
    "recall_6  = recall_score(y_test, y_test_pred)\n",
    "f1_6  = f1_score(y_test, y_test_pred)\n",
    "auc_6  = roc_auc_score(y_test, y_test_pred)\n",
    "ap_6  = average_precision_score(y_test, y_test_pred)\n",
    "\n",
    "print(\"Training accuracy: \",accuracy_training_6)\n",
    "print(\"Testing  accuracy: \",accuracy_testing_6)\n",
    "print(\"confusion matrix:\")\n",
    "print(cfm_6)\n",
    "print(\"precision: \",precision_6)\n",
    "print(\"recall: \",recall_6)\n",
    "print(\"f1 score: \",f1_6)\n",
    "print(\"auc\",auc_6)\n",
    "print(\"ap\",ap_6)"
   ]
  },
  {
   "cell_type": "markdown",
   "metadata": {},
   "source": [
    "<h3 style=\"color:green;\">Interpreting model 6 results</h3>\n",
    "\n",
    "<p>\n",
    "    </p>\n",
    "<h4>Interpretation</h4>\n",
    "<li>Model 6's performance is similar to model 5. Both models are performing resonably well and useful, but still needs improvement to be effectively used in pratival credit rating applications.</li>\n",
    "<li>The model has a training accuracy of 81.9%, but just 80.4% testing accuracy, which indicates that the model might be overfitting to the training dataset.</li>\n",
    "<li> The confusion matrix shows that the model makes more correct predictions for the negative class (good loan) than the positive class (bad loan). The precision of the model is 27%, which means that when the model predicts the positive class, it is correct only 27% of the time. The recall of the model is 41%, which means that the model is able to identify only 41% of the positive class instances. The F1 score is 32.5%, which measuring the precision recall tradeoff as a reasonable level. </li>\n",
    "<li>The AUC value is 0.63, which means that the model is better than a random classifier, but still not good enough. The average precision is 0.18, which shows that the model's performance in identifying the positive class (bad loan) has improved but needs improvement.</li>"
   ]
  },
  {
   "cell_type": "markdown",
   "metadata": {},
   "source": [
    "<h3 style=\"color:green;\">Update results df</h3>\n"
   ]
  },
  {
   "cell_type": "code",
   "execution_count": 27,
   "metadata": {},
   "outputs": [
    {
     "data": {
      "text/html": [
       "<div>\n",
       "<style scoped>\n",
       "    .dataframe tbody tr th:only-of-type {\n",
       "        vertical-align: middle;\n",
       "    }\n",
       "\n",
       "    .dataframe tbody tr th {\n",
       "        vertical-align: top;\n",
       "    }\n",
       "\n",
       "    .dataframe thead th {\n",
       "        text-align: right;\n",
       "    }\n",
       "</style>\n",
       "<table border=\"1\" class=\"dataframe\">\n",
       "  <thead>\n",
       "    <tr style=\"text-align: right;\">\n",
       "      <th></th>\n",
       "      <th>accuracy</th>\n",
       "      <th>precision</th>\n",
       "      <th>recall</th>\n",
       "      <th>f1_score</th>\n",
       "      <th>AUC</th>\n",
       "      <th>AP</th>\n",
       "    </tr>\n",
       "    <tr>\n",
       "      <th>Model</th>\n",
       "      <th></th>\n",
       "      <th></th>\n",
       "      <th></th>\n",
       "      <th></th>\n",
       "      <th></th>\n",
       "      <th></th>\n",
       "    </tr>\n",
       "  </thead>\n",
       "  <tbody>\n",
       "    <tr>\n",
       "      <th>1</th>\n",
       "      <td>0.884572</td>\n",
       "      <td>0.083333</td>\n",
       "      <td>0.000154</td>\n",
       "      <td>0.000306</td>\n",
       "      <td>0.499967</td>\n",
       "      <td>0.115247</td>\n",
       "    </tr>\n",
       "    <tr>\n",
       "      <th>2</th>\n",
       "      <td>0.557119</td>\n",
       "      <td>0.170725</td>\n",
       "      <td>0.736963</td>\n",
       "      <td>0.277228</td>\n",
       "      <td>0.635327</td>\n",
       "      <td>0.156133</td>\n",
       "    </tr>\n",
       "    <tr>\n",
       "      <th>3</th>\n",
       "      <td>0.877276</td>\n",
       "      <td>0.266495</td>\n",
       "      <td>0.036999</td>\n",
       "      <td>0.064977</td>\n",
       "      <td>0.511867</td>\n",
       "      <td>0.120847</td>\n",
       "    </tr>\n",
       "    <tr>\n",
       "      <th>4</th>\n",
       "      <td>0.815289</td>\n",
       "      <td>0.253134</td>\n",
       "      <td>0.308991</td>\n",
       "      <td>0.278287</td>\n",
       "      <td>0.595116</td>\n",
       "      <td>0.157856</td>\n",
       "    </tr>\n",
       "    <tr>\n",
       "      <th>5</th>\n",
       "      <td>0.763292</td>\n",
       "      <td>0.242838</td>\n",
       "      <td>0.497569</td>\n",
       "      <td>0.326385</td>\n",
       "      <td>0.647738</td>\n",
       "      <td>0.178735</td>\n",
       "    </tr>\n",
       "    <tr>\n",
       "      <th>6</th>\n",
       "      <td>0.803847</td>\n",
       "      <td>0.269408</td>\n",
       "      <td>0.410061</td>\n",
       "      <td>0.325177</td>\n",
       "      <td>0.632602</td>\n",
       "      <td>0.178465</td>\n",
       "    </tr>\n",
       "    <tr>\n",
       "      <th>7</th>\n",
       "      <td>0.000000</td>\n",
       "      <td>0.000000</td>\n",
       "      <td>0.000000</td>\n",
       "      <td>0.000000</td>\n",
       "      <td>0.000000</td>\n",
       "      <td>0.000000</td>\n",
       "    </tr>\n",
       "  </tbody>\n",
       "</table>\n",
       "</div>"
      ],
      "text/plain": [
       "       accuracy  precision    recall  f1_score       AUC        AP\n",
       "Model                                                             \n",
       "1      0.884572   0.083333  0.000154  0.000306  0.499967  0.115247\n",
       "2      0.557119   0.170725  0.736963  0.277228  0.635327  0.156133\n",
       "3      0.877276   0.266495  0.036999  0.064977  0.511867  0.120847\n",
       "4      0.815289   0.253134  0.308991  0.278287  0.595116  0.157856\n",
       "5      0.763292   0.242838  0.497569  0.326385  0.647738  0.178735\n",
       "6      0.803847   0.269408  0.410061  0.325177  0.632602  0.178465\n",
       "7      0.000000   0.000000  0.000000  0.000000  0.000000  0.000000"
      ]
     },
     "execution_count": 27,
     "metadata": {},
     "output_type": "execute_result"
    }
   ],
   "source": [
    "results_df[\"accuracy\"][6] = accuracy_testing_6\n",
    "results_df[\"precision\"][6] = precision_6\n",
    "results_df[\"recall\"][6] = recall_6\n",
    "results_df[\"f1_score\"][6] = f1_6\n",
    "results_df[\"AUC\"][6] = auc_6\n",
    "results_df[\"AP\"][6] = ap_6\n",
    "\n",
    "results_df"
   ]
  },
  {
   "cell_type": "markdown",
   "metadata": {},
   "source": [
    "<h1 style=\"color:red;font-size:xx-large\">Build Model 7</h1>"
   ]
  },
  {
   "cell_type": "markdown",
   "metadata": {},
   "source": [
    "<li>Same parameters but up the sample weight to 5</li>"
   ]
  },
  {
   "cell_type": "code",
   "execution_count": 28,
   "metadata": {},
   "outputs": [
    {
     "data": {
      "text/html": [
       "<style>#sk-container-id-6 {color: black;background-color: white;}#sk-container-id-6 pre{padding: 0;}#sk-container-id-6 div.sk-toggleable {background-color: white;}#sk-container-id-6 label.sk-toggleable__label {cursor: pointer;display: block;width: 100%;margin-bottom: 0;padding: 0.3em;box-sizing: border-box;text-align: center;}#sk-container-id-6 label.sk-toggleable__label-arrow:before {content: \"▸\";float: left;margin-right: 0.25em;color: #696969;}#sk-container-id-6 label.sk-toggleable__label-arrow:hover:before {color: black;}#sk-container-id-6 div.sk-estimator:hover label.sk-toggleable__label-arrow:before {color: black;}#sk-container-id-6 div.sk-toggleable__content {max-height: 0;max-width: 0;overflow: hidden;text-align: left;background-color: #f0f8ff;}#sk-container-id-6 div.sk-toggleable__content pre {margin: 0.2em;color: black;border-radius: 0.25em;background-color: #f0f8ff;}#sk-container-id-6 input.sk-toggleable__control:checked~div.sk-toggleable__content {max-height: 200px;max-width: 100%;overflow: auto;}#sk-container-id-6 input.sk-toggleable__control:checked~label.sk-toggleable__label-arrow:before {content: \"▾\";}#sk-container-id-6 div.sk-estimator input.sk-toggleable__control:checked~label.sk-toggleable__label {background-color: #d4ebff;}#sk-container-id-6 div.sk-label input.sk-toggleable__control:checked~label.sk-toggleable__label {background-color: #d4ebff;}#sk-container-id-6 input.sk-hidden--visually {border: 0;clip: rect(1px 1px 1px 1px);clip: rect(1px, 1px, 1px, 1px);height: 1px;margin: -1px;overflow: hidden;padding: 0;position: absolute;width: 1px;}#sk-container-id-6 div.sk-estimator {font-family: monospace;background-color: #f0f8ff;border: 1px dotted black;border-radius: 0.25em;box-sizing: border-box;margin-bottom: 0.5em;}#sk-container-id-6 div.sk-estimator:hover {background-color: #d4ebff;}#sk-container-id-6 div.sk-parallel-item::after {content: \"\";width: 100%;border-bottom: 1px solid gray;flex-grow: 1;}#sk-container-id-6 div.sk-label:hover label.sk-toggleable__label {background-color: #d4ebff;}#sk-container-id-6 div.sk-serial::before {content: \"\";position: absolute;border-left: 1px solid gray;box-sizing: border-box;top: 0;bottom: 0;left: 50%;z-index: 0;}#sk-container-id-6 div.sk-serial {display: flex;flex-direction: column;align-items: center;background-color: white;padding-right: 0.2em;padding-left: 0.2em;position: relative;}#sk-container-id-6 div.sk-item {position: relative;z-index: 1;}#sk-container-id-6 div.sk-parallel {display: flex;align-items: stretch;justify-content: center;background-color: white;position: relative;}#sk-container-id-6 div.sk-item::before, #sk-container-id-6 div.sk-parallel-item::before {content: \"\";position: absolute;border-left: 1px solid gray;box-sizing: border-box;top: 0;bottom: 0;left: 50%;z-index: -1;}#sk-container-id-6 div.sk-parallel-item {display: flex;flex-direction: column;z-index: 1;position: relative;background-color: white;}#sk-container-id-6 div.sk-parallel-item:first-child::after {align-self: flex-end;width: 50%;}#sk-container-id-6 div.sk-parallel-item:last-child::after {align-self: flex-start;width: 50%;}#sk-container-id-6 div.sk-parallel-item:only-child::after {width: 0;}#sk-container-id-6 div.sk-dashed-wrapped {border: 1px dashed gray;margin: 0 0.4em 0.5em 0.4em;box-sizing: border-box;padding-bottom: 0.4em;background-color: white;}#sk-container-id-6 div.sk-label label {font-family: monospace;font-weight: bold;display: inline-block;line-height: 1.2em;}#sk-container-id-6 div.sk-label-container {text-align: center;}#sk-container-id-6 div.sk-container {/* jupyter's `normalize.less` sets `[hidden] { display: none; }` but bootstrap.min.css set `[hidden] { display: none !important; }` so we also need the `!important` here to be able to override the default hidden behavior on the sphinx rendered scikit-learn.org. See: https://github.com/scikit-learn/scikit-learn/issues/21755 */display: inline-block !important;position: relative;}#sk-container-id-6 div.sk-text-repr-fallback {display: none;}</style><div id=\"sk-container-id-6\" class=\"sk-top-container\"><div class=\"sk-text-repr-fallback\"><pre>GradientBoostingClassifier(max_depth=8, min_samples_leaf=100,\n",
       "                           min_samples_split=100, n_estimators=400,\n",
       "                           subsample=0.6)</pre><b>In a Jupyter environment, please rerun this cell to show the HTML representation or trust the notebook. <br />On GitHub, the HTML representation is unable to render, please try loading this page with nbviewer.org.</b></div><div class=\"sk-container\" hidden><div class=\"sk-item\"><div class=\"sk-estimator sk-toggleable\"><input class=\"sk-toggleable__control sk-hidden--visually\" id=\"sk-estimator-id-10\" type=\"checkbox\" checked><label for=\"sk-estimator-id-10\" class=\"sk-toggleable__label sk-toggleable__label-arrow\">GradientBoostingClassifier</label><div class=\"sk-toggleable__content\"><pre>GradientBoostingClassifier(max_depth=8, min_samples_leaf=100,\n",
       "                           min_samples_split=100, n_estimators=400,\n",
       "                           subsample=0.6)</pre></div></div></div></div></div>"
      ],
      "text/plain": [
       "GradientBoostingClassifier(max_depth=8, min_samples_leaf=100,\n",
       "                           min_samples_split=100, n_estimators=400,\n",
       "                           subsample=0.6)"
      ]
     },
     "execution_count": 28,
     "metadata": {},
     "output_type": "execute_result"
    }
   ],
   "source": [
    "from sklearn.ensemble import GradientBoostingClassifier\n",
    "\n",
    "#sample_weight is a vector that indicates the weight of each \n",
    "#case in the training sample\n",
    "#If you're interested, try values from 1 to 10 instead of 4\n",
    "sample_weight = np.array([5 if i == 1 else 1 for i in y_train])\n",
    "\n",
    "model_7 = GradientBoostingClassifier(min_samples_split=100,\n",
    "                                     max_depth=8,\n",
    "                                     min_samples_leaf=100,\n",
    "                                     n_estimators=400,\n",
    "                                     subsample=0.6)\n",
    "model_7.fit(x_train,y_train,sample_weight=sample_weight)"
   ]
  },
  {
   "cell_type": "code",
   "execution_count": 29,
   "metadata": {},
   "outputs": [
    {
     "name": "stdout",
     "output_type": "stream",
     "text": [
      "Training accuracy:  0.7726684461700235\n",
      "Testing  accuracy:  0.7563329027844129\n",
      "confusion matrix:\n",
      "[[117803  32207]\n",
      " [  9107  10434]]\n",
      "precision:  0.24469407377875754\n",
      "recall:  0.5339542500383808\n",
      "f1 score:  0.33559550995464926\n",
      "auc 0.659627614986526\n",
      "ap 0.18436789295386047\n"
     ]
    }
   ],
   "source": [
    "#Calculate and print metrics\n",
    "\n",
    "y_test_pred = model_7.predict(x_test)\n",
    "cfm_7 = confusion_matrix(y_test, y_test_pred)\n",
    "tn, fp, fn, tp = cfm_7.ravel()\n",
    "\n",
    "y_train_pred = model_7.predict(x_train)\n",
    "cfm_train_7 = confusion_matrix(y_train, y_train_pred)\n",
    "tn_train, fp_train, fn_train, tp_train = cfm_train_7.ravel()\n",
    "\n",
    "accuracy_training_7 = (tp_train+tn_train)/(tp_train+tn_train+fp_train+fn_train)\n",
    "accuracy_testing_7 = (tp+tn)/(tp+tn+fp+fn)\n",
    "precision_7  = precision_score(y_test, y_test_pred)\n",
    "recall_7  = recall_score(y_test, y_test_pred)\n",
    "f1_7  = f1_score(y_test, y_test_pred)\n",
    "auc_7  = roc_auc_score(y_test, y_test_pred)\n",
    "ap_7  = average_precision_score(y_test, y_test_pred)\n",
    "\n",
    "print(\"Training accuracy: \",accuracy_training_7)\n",
    "print(\"Testing  accuracy: \",accuracy_testing_7)\n",
    "print(\"confusion matrix:\")\n",
    "print(cfm_7)\n",
    "print(\"precision: \",precision_7)\n",
    "print(\"recall: \",recall_7)\n",
    "print(\"f1 score: \",f1_7)\n",
    "print(\"auc\",auc_7)\n",
    "print(\"ap\",ap_7)"
   ]
  },
  {
   "cell_type": "markdown",
   "metadata": {},
   "source": [
    "<h3 style=\"color:green;\">Interpreting model 7 results</h3>\n",
    "\n",
    "<p>\n",
    "    </p>\n",
    "<h4>Interpretation</h4>\n",
    "<li>Compared to model 6, this model's accuracy decreases to 76%, but the higher f1-score indicates that it does a better job in precision recall tradeoff. Even though the model's overal ability in predicting a good loan and bad loan correctly is worse, this model can  better balance the needs between identifying bad loans accurately and increasing the posibility of catching bad loans.</li>\n",
    "<li>Precision (24%) maintains the similar level as model 6. However, recall significantly increases from 41% to 53%, indicating its ability to correctly identify positives (bad loan) increases. Therefore, f1-score increases as well.</li>\n",
    "<li>AUC and average precision are also better than model 6. The AUC of the model is 0.66, which is better than random guessing (AUC of 0.5), but still has room for improvement. The average precision score of the model is 0.18, which is again still low and indicates that the model's predictions are not very precise.</li> \n",
    "<li>Overall, this model is more useful than model 6 in credit rating applications, but it still needs improvement but it can be effectively used.</li>"
   ]
  },
  {
   "cell_type": "markdown",
   "metadata": {},
   "source": [
    "<h3 style=\"color:green;\">Update results df</h3>\n"
   ]
  },
  {
   "cell_type": "code",
   "execution_count": 30,
   "metadata": {},
   "outputs": [
    {
     "data": {
      "text/html": [
       "<div>\n",
       "<style scoped>\n",
       "    .dataframe tbody tr th:only-of-type {\n",
       "        vertical-align: middle;\n",
       "    }\n",
       "\n",
       "    .dataframe tbody tr th {\n",
       "        vertical-align: top;\n",
       "    }\n",
       "\n",
       "    .dataframe thead th {\n",
       "        text-align: right;\n",
       "    }\n",
       "</style>\n",
       "<table border=\"1\" class=\"dataframe\">\n",
       "  <thead>\n",
       "    <tr style=\"text-align: right;\">\n",
       "      <th></th>\n",
       "      <th>accuracy</th>\n",
       "      <th>precision</th>\n",
       "      <th>recall</th>\n",
       "      <th>f1_score</th>\n",
       "      <th>AUC</th>\n",
       "      <th>AP</th>\n",
       "    </tr>\n",
       "    <tr>\n",
       "      <th>Model</th>\n",
       "      <th></th>\n",
       "      <th></th>\n",
       "      <th></th>\n",
       "      <th></th>\n",
       "      <th></th>\n",
       "      <th></th>\n",
       "    </tr>\n",
       "  </thead>\n",
       "  <tbody>\n",
       "    <tr>\n",
       "      <th>1</th>\n",
       "      <td>0.884572</td>\n",
       "      <td>0.083333</td>\n",
       "      <td>0.000154</td>\n",
       "      <td>0.000306</td>\n",
       "      <td>0.499967</td>\n",
       "      <td>0.115247</td>\n",
       "    </tr>\n",
       "    <tr>\n",
       "      <th>2</th>\n",
       "      <td>0.557119</td>\n",
       "      <td>0.170725</td>\n",
       "      <td>0.736963</td>\n",
       "      <td>0.277228</td>\n",
       "      <td>0.635327</td>\n",
       "      <td>0.156133</td>\n",
       "    </tr>\n",
       "    <tr>\n",
       "      <th>3</th>\n",
       "      <td>0.877276</td>\n",
       "      <td>0.266495</td>\n",
       "      <td>0.036999</td>\n",
       "      <td>0.064977</td>\n",
       "      <td>0.511867</td>\n",
       "      <td>0.120847</td>\n",
       "    </tr>\n",
       "    <tr>\n",
       "      <th>4</th>\n",
       "      <td>0.815289</td>\n",
       "      <td>0.253134</td>\n",
       "      <td>0.308991</td>\n",
       "      <td>0.278287</td>\n",
       "      <td>0.595116</td>\n",
       "      <td>0.157856</td>\n",
       "    </tr>\n",
       "    <tr>\n",
       "      <th>5</th>\n",
       "      <td>0.763292</td>\n",
       "      <td>0.242838</td>\n",
       "      <td>0.497569</td>\n",
       "      <td>0.326385</td>\n",
       "      <td>0.647738</td>\n",
       "      <td>0.178735</td>\n",
       "    </tr>\n",
       "    <tr>\n",
       "      <th>6</th>\n",
       "      <td>0.803847</td>\n",
       "      <td>0.269408</td>\n",
       "      <td>0.410061</td>\n",
       "      <td>0.325177</td>\n",
       "      <td>0.632602</td>\n",
       "      <td>0.178465</td>\n",
       "    </tr>\n",
       "    <tr>\n",
       "      <th>7</th>\n",
       "      <td>0.756333</td>\n",
       "      <td>0.244694</td>\n",
       "      <td>0.533954</td>\n",
       "      <td>0.335596</td>\n",
       "      <td>0.659628</td>\n",
       "      <td>0.184368</td>\n",
       "    </tr>\n",
       "  </tbody>\n",
       "</table>\n",
       "</div>"
      ],
      "text/plain": [
       "       accuracy  precision    recall  f1_score       AUC        AP\n",
       "Model                                                             \n",
       "1      0.884572   0.083333  0.000154  0.000306  0.499967  0.115247\n",
       "2      0.557119   0.170725  0.736963  0.277228  0.635327  0.156133\n",
       "3      0.877276   0.266495  0.036999  0.064977  0.511867  0.120847\n",
       "4      0.815289   0.253134  0.308991  0.278287  0.595116  0.157856\n",
       "5      0.763292   0.242838  0.497569  0.326385  0.647738  0.178735\n",
       "6      0.803847   0.269408  0.410061  0.325177  0.632602  0.178465\n",
       "7      0.756333   0.244694  0.533954  0.335596  0.659628  0.184368"
      ]
     },
     "execution_count": 30,
     "metadata": {},
     "output_type": "execute_result"
    }
   ],
   "source": [
    "results_df[\"accuracy\"][7] = accuracy_testing_7\n",
    "results_df[\"precision\"][7] = precision_7\n",
    "results_df[\"recall\"][7] = recall_7\n",
    "results_df[\"f1_score\"][7] = f1_7\n",
    "results_df[\"AUC\"][7] = auc_7\n",
    "results_df[\"AP\"][7] = ap_7\n",
    "\n",
    "results_df"
   ]
  },
  {
   "cell_type": "markdown",
   "metadata": {},
   "source": [
    "<h3 style=\"color:red;font-size:xx-large\">Model comparison</h3>\n",
    "<li>Draw a graph that shows the changes to accuracy, precision, recall, and f1 score</li>\n",
    "<li>The x-axis contains the five models you have created</li>\n",
    "<li>Use bokeh for the charts</li>"
   ]
  },
  {
   "cell_type": "code",
   "execution_count": 31,
   "metadata": {
    "scrolled": true
   },
   "outputs": [
    {
     "data": {
      "text/html": [
       "<div class=\"bk-root\">\n",
       "        <a href=\"https://bokeh.org\" target=\"_blank\" class=\"bk-logo bk-logo-small bk-logo-notebook\"></a>\n",
       "        <span id=\"1002\">Loading BokehJS ...</span>\n",
       "    </div>\n"
      ]
     },
     "metadata": {},
     "output_type": "display_data"
    },
    {
     "data": {
      "application/javascript": [
       "(function(root) {\n",
       "  function now() {\n",
       "    return new Date();\n",
       "  }\n",
       "\n",
       "  const force = true;\n",
       "\n",
       "  if (typeof root._bokeh_onload_callbacks === \"undefined\" || force === true) {\n",
       "    root._bokeh_onload_callbacks = [];\n",
       "    root._bokeh_is_loading = undefined;\n",
       "  }\n",
       "\n",
       "const JS_MIME_TYPE = 'application/javascript';\n",
       "  const HTML_MIME_TYPE = 'text/html';\n",
       "  const EXEC_MIME_TYPE = 'application/vnd.bokehjs_exec.v0+json';\n",
       "  const CLASS_NAME = 'output_bokeh rendered_html';\n",
       "\n",
       "  /**\n",
       "   * Render data to the DOM node\n",
       "   */\n",
       "  function render(props, node) {\n",
       "    const script = document.createElement(\"script\");\n",
       "    node.appendChild(script);\n",
       "  }\n",
       "\n",
       "  /**\n",
       "   * Handle when an output is cleared or removed\n",
       "   */\n",
       "  function handleClearOutput(event, handle) {\n",
       "    const cell = handle.cell;\n",
       "\n",
       "    const id = cell.output_area._bokeh_element_id;\n",
       "    const server_id = cell.output_area._bokeh_server_id;\n",
       "    // Clean up Bokeh references\n",
       "    if (id != null && id in Bokeh.index) {\n",
       "      Bokeh.index[id].model.document.clear();\n",
       "      delete Bokeh.index[id];\n",
       "    }\n",
       "\n",
       "    if (server_id !== undefined) {\n",
       "      // Clean up Bokeh references\n",
       "      const cmd_clean = \"from bokeh.io.state import curstate; print(curstate().uuid_to_server['\" + server_id + \"'].get_sessions()[0].document.roots[0]._id)\";\n",
       "      cell.notebook.kernel.execute(cmd_clean, {\n",
       "        iopub: {\n",
       "          output: function(msg) {\n",
       "            const id = msg.content.text.trim();\n",
       "            if (id in Bokeh.index) {\n",
       "              Bokeh.index[id].model.document.clear();\n",
       "              delete Bokeh.index[id];\n",
       "            }\n",
       "          }\n",
       "        }\n",
       "      });\n",
       "      // Destroy server and session\n",
       "      const cmd_destroy = \"import bokeh.io.notebook as ion; ion.destroy_server('\" + server_id + \"')\";\n",
       "      cell.notebook.kernel.execute(cmd_destroy);\n",
       "    }\n",
       "  }\n",
       "\n",
       "  /**\n",
       "   * Handle when a new output is added\n",
       "   */\n",
       "  function handleAddOutput(event, handle) {\n",
       "    const output_area = handle.output_area;\n",
       "    const output = handle.output;\n",
       "\n",
       "    // limit handleAddOutput to display_data with EXEC_MIME_TYPE content only\n",
       "    if ((output.output_type != \"display_data\") || (!Object.prototype.hasOwnProperty.call(output.data, EXEC_MIME_TYPE))) {\n",
       "      return\n",
       "    }\n",
       "\n",
       "    const toinsert = output_area.element.find(\".\" + CLASS_NAME.split(' ')[0]);\n",
       "\n",
       "    if (output.metadata[EXEC_MIME_TYPE][\"id\"] !== undefined) {\n",
       "      toinsert[toinsert.length - 1].firstChild.textContent = output.data[JS_MIME_TYPE];\n",
       "      // store reference to embed id on output_area\n",
       "      output_area._bokeh_element_id = output.metadata[EXEC_MIME_TYPE][\"id\"];\n",
       "    }\n",
       "    if (output.metadata[EXEC_MIME_TYPE][\"server_id\"] !== undefined) {\n",
       "      const bk_div = document.createElement(\"div\");\n",
       "      bk_div.innerHTML = output.data[HTML_MIME_TYPE];\n",
       "      const script_attrs = bk_div.children[0].attributes;\n",
       "      for (let i = 0; i < script_attrs.length; i++) {\n",
       "        toinsert[toinsert.length - 1].firstChild.setAttribute(script_attrs[i].name, script_attrs[i].value);\n",
       "        toinsert[toinsert.length - 1].firstChild.textContent = bk_div.children[0].textContent\n",
       "      }\n",
       "      // store reference to server id on output_area\n",
       "      output_area._bokeh_server_id = output.metadata[EXEC_MIME_TYPE][\"server_id\"];\n",
       "    }\n",
       "  }\n",
       "\n",
       "  function register_renderer(events, OutputArea) {\n",
       "\n",
       "    function append_mime(data, metadata, element) {\n",
       "      // create a DOM node to render to\n",
       "      const toinsert = this.create_output_subarea(\n",
       "        metadata,\n",
       "        CLASS_NAME,\n",
       "        EXEC_MIME_TYPE\n",
       "      );\n",
       "      this.keyboard_manager.register_events(toinsert);\n",
       "      // Render to node\n",
       "      const props = {data: data, metadata: metadata[EXEC_MIME_TYPE]};\n",
       "      render(props, toinsert[toinsert.length - 1]);\n",
       "      element.append(toinsert);\n",
       "      return toinsert\n",
       "    }\n",
       "\n",
       "    /* Handle when an output is cleared or removed */\n",
       "    events.on('clear_output.CodeCell', handleClearOutput);\n",
       "    events.on('delete.Cell', handleClearOutput);\n",
       "\n",
       "    /* Handle when a new output is added */\n",
       "    events.on('output_added.OutputArea', handleAddOutput);\n",
       "\n",
       "    /**\n",
       "     * Register the mime type and append_mime function with output_area\n",
       "     */\n",
       "    OutputArea.prototype.register_mime_type(EXEC_MIME_TYPE, append_mime, {\n",
       "      /* Is output safe? */\n",
       "      safe: true,\n",
       "      /* Index of renderer in `output_area.display_order` */\n",
       "      index: 0\n",
       "    });\n",
       "  }\n",
       "\n",
       "  // register the mime type if in Jupyter Notebook environment and previously unregistered\n",
       "  if (root.Jupyter !== undefined) {\n",
       "    const events = require('base/js/events');\n",
       "    const OutputArea = require('notebook/js/outputarea').OutputArea;\n",
       "\n",
       "    if (OutputArea.prototype.mime_types().indexOf(EXEC_MIME_TYPE) == -1) {\n",
       "      register_renderer(events, OutputArea);\n",
       "    }\n",
       "  }\n",
       "  if (typeof (root._bokeh_timeout) === \"undefined\" || force === true) {\n",
       "    root._bokeh_timeout = Date.now() + 5000;\n",
       "    root._bokeh_failed_load = false;\n",
       "  }\n",
       "\n",
       "  const NB_LOAD_WARNING = {'data': {'text/html':\n",
       "     \"<div style='background-color: #fdd'>\\n\"+\n",
       "     \"<p>\\n\"+\n",
       "     \"BokehJS does not appear to have successfully loaded. If loading BokehJS from CDN, this \\n\"+\n",
       "     \"may be due to a slow or bad network connection. Possible fixes:\\n\"+\n",
       "     \"</p>\\n\"+\n",
       "     \"<ul>\\n\"+\n",
       "     \"<li>re-rerun `output_notebook()` to attempt to load from CDN again, or</li>\\n\"+\n",
       "     \"<li>use INLINE resources instead, as so:</li>\\n\"+\n",
       "     \"</ul>\\n\"+\n",
       "     \"<code>\\n\"+\n",
       "     \"from bokeh.resources import INLINE\\n\"+\n",
       "     \"output_notebook(resources=INLINE)\\n\"+\n",
       "     \"</code>\\n\"+\n",
       "     \"</div>\"}};\n",
       "\n",
       "  function display_loaded() {\n",
       "    const el = document.getElementById(\"1002\");\n",
       "    if (el != null) {\n",
       "      el.textContent = \"BokehJS is loading...\";\n",
       "    }\n",
       "    if (root.Bokeh !== undefined) {\n",
       "      if (el != null) {\n",
       "        el.textContent = \"BokehJS \" + root.Bokeh.version + \" successfully loaded.\";\n",
       "      }\n",
       "    } else if (Date.now() < root._bokeh_timeout) {\n",
       "      setTimeout(display_loaded, 100)\n",
       "    }\n",
       "  }\n",
       "\n",
       "  function run_callbacks() {\n",
       "    try {\n",
       "      root._bokeh_onload_callbacks.forEach(function(callback) {\n",
       "        if (callback != null)\n",
       "          callback();\n",
       "      });\n",
       "    } finally {\n",
       "      delete root._bokeh_onload_callbacks\n",
       "    }\n",
       "    console.debug(\"Bokeh: all callbacks have finished\");\n",
       "  }\n",
       "\n",
       "  function load_libs(css_urls, js_urls, callback) {\n",
       "    if (css_urls == null) css_urls = [];\n",
       "    if (js_urls == null) js_urls = [];\n",
       "\n",
       "    root._bokeh_onload_callbacks.push(callback);\n",
       "    if (root._bokeh_is_loading > 0) {\n",
       "      console.debug(\"Bokeh: BokehJS is being loaded, scheduling callback at\", now());\n",
       "      return null;\n",
       "    }\n",
       "    if (js_urls == null || js_urls.length === 0) {\n",
       "      run_callbacks();\n",
       "      return null;\n",
       "    }\n",
       "    console.debug(\"Bokeh: BokehJS not loaded, scheduling load and callback at\", now());\n",
       "    root._bokeh_is_loading = css_urls.length + js_urls.length;\n",
       "\n",
       "    function on_load() {\n",
       "      root._bokeh_is_loading--;\n",
       "      if (root._bokeh_is_loading === 0) {\n",
       "        console.debug(\"Bokeh: all BokehJS libraries/stylesheets loaded\");\n",
       "        run_callbacks()\n",
       "      }\n",
       "    }\n",
       "\n",
       "    function on_error(url) {\n",
       "      console.error(\"failed to load \" + url);\n",
       "    }\n",
       "\n",
       "    for (let i = 0; i < css_urls.length; i++) {\n",
       "      const url = css_urls[i];\n",
       "      const element = document.createElement(\"link\");\n",
       "      element.onload = on_load;\n",
       "      element.onerror = on_error.bind(null, url);\n",
       "      element.rel = \"stylesheet\";\n",
       "      element.type = \"text/css\";\n",
       "      element.href = url;\n",
       "      console.debug(\"Bokeh: injecting link tag for BokehJS stylesheet: \", url);\n",
       "      document.body.appendChild(element);\n",
       "    }\n",
       "\n",
       "    for (let i = 0; i < js_urls.length; i++) {\n",
       "      const url = js_urls[i];\n",
       "      const element = document.createElement('script');\n",
       "      element.onload = on_load;\n",
       "      element.onerror = on_error.bind(null, url);\n",
       "      element.async = false;\n",
       "      element.src = url;\n",
       "      console.debug(\"Bokeh: injecting script tag for BokehJS library: \", url);\n",
       "      document.head.appendChild(element);\n",
       "    }\n",
       "  };\n",
       "\n",
       "  function inject_raw_css(css) {\n",
       "    const element = document.createElement(\"style\");\n",
       "    element.appendChild(document.createTextNode(css));\n",
       "    document.body.appendChild(element);\n",
       "  }\n",
       "\n",
       "  const js_urls = [\"https://cdn.bokeh.org/bokeh/release/bokeh-2.4.3.min.js\", \"https://cdn.bokeh.org/bokeh/release/bokeh-gl-2.4.3.min.js\", \"https://cdn.bokeh.org/bokeh/release/bokeh-widgets-2.4.3.min.js\", \"https://cdn.bokeh.org/bokeh/release/bokeh-tables-2.4.3.min.js\", \"https://cdn.bokeh.org/bokeh/release/bokeh-mathjax-2.4.3.min.js\"];\n",
       "  const css_urls = [];\n",
       "\n",
       "  const inline_js = [    function(Bokeh) {\n",
       "      Bokeh.set_log_level(\"info\");\n",
       "    },\n",
       "function(Bokeh) {\n",
       "    }\n",
       "  ];\n",
       "\n",
       "  function run_inline_js() {\n",
       "    if (root.Bokeh !== undefined || force === true) {\n",
       "          for (let i = 0; i < inline_js.length; i++) {\n",
       "      inline_js[i].call(root, root.Bokeh);\n",
       "    }\n",
       "if (force === true) {\n",
       "        display_loaded();\n",
       "      }} else if (Date.now() < root._bokeh_timeout) {\n",
       "      setTimeout(run_inline_js, 100);\n",
       "    } else if (!root._bokeh_failed_load) {\n",
       "      console.log(\"Bokeh: BokehJS failed to load within specified timeout.\");\n",
       "      root._bokeh_failed_load = true;\n",
       "    } else if (force !== true) {\n",
       "      const cell = $(document.getElementById(\"1002\")).parents('.cell').data().cell;\n",
       "      cell.output_area.append_execute_result(NB_LOAD_WARNING)\n",
       "    }\n",
       "  }\n",
       "\n",
       "  if (root._bokeh_is_loading === 0) {\n",
       "    console.debug(\"Bokeh: BokehJS loaded, going straight to plotting\");\n",
       "    run_inline_js();\n",
       "  } else {\n",
       "    load_libs(css_urls, js_urls, function() {\n",
       "      console.debug(\"Bokeh: BokehJS plotting callback run at\", now());\n",
       "      run_inline_js();\n",
       "    });\n",
       "  }\n",
       "}(window));"
      ],
      "application/vnd.bokehjs_load.v0+json": "(function(root) {\n  function now() {\n    return new Date();\n  }\n\n  const force = true;\n\n  if (typeof root._bokeh_onload_callbacks === \"undefined\" || force === true) {\n    root._bokeh_onload_callbacks = [];\n    root._bokeh_is_loading = undefined;\n  }\n\n\n  if (typeof (root._bokeh_timeout) === \"undefined\" || force === true) {\n    root._bokeh_timeout = Date.now() + 5000;\n    root._bokeh_failed_load = false;\n  }\n\n  const NB_LOAD_WARNING = {'data': {'text/html':\n     \"<div style='background-color: #fdd'>\\n\"+\n     \"<p>\\n\"+\n     \"BokehJS does not appear to have successfully loaded. If loading BokehJS from CDN, this \\n\"+\n     \"may be due to a slow or bad network connection. Possible fixes:\\n\"+\n     \"</p>\\n\"+\n     \"<ul>\\n\"+\n     \"<li>re-rerun `output_notebook()` to attempt to load from CDN again, or</li>\\n\"+\n     \"<li>use INLINE resources instead, as so:</li>\\n\"+\n     \"</ul>\\n\"+\n     \"<code>\\n\"+\n     \"from bokeh.resources import INLINE\\n\"+\n     \"output_notebook(resources=INLINE)\\n\"+\n     \"</code>\\n\"+\n     \"</div>\"}};\n\n  function display_loaded() {\n    const el = document.getElementById(\"1002\");\n    if (el != null) {\n      el.textContent = \"BokehJS is loading...\";\n    }\n    if (root.Bokeh !== undefined) {\n      if (el != null) {\n        el.textContent = \"BokehJS \" + root.Bokeh.version + \" successfully loaded.\";\n      }\n    } else if (Date.now() < root._bokeh_timeout) {\n      setTimeout(display_loaded, 100)\n    }\n  }\n\n  function run_callbacks() {\n    try {\n      root._bokeh_onload_callbacks.forEach(function(callback) {\n        if (callback != null)\n          callback();\n      });\n    } finally {\n      delete root._bokeh_onload_callbacks\n    }\n    console.debug(\"Bokeh: all callbacks have finished\");\n  }\n\n  function load_libs(css_urls, js_urls, callback) {\n    if (css_urls == null) css_urls = [];\n    if (js_urls == null) js_urls = [];\n\n    root._bokeh_onload_callbacks.push(callback);\n    if (root._bokeh_is_loading > 0) {\n      console.debug(\"Bokeh: BokehJS is being loaded, scheduling callback at\", now());\n      return null;\n    }\n    if (js_urls == null || js_urls.length === 0) {\n      run_callbacks();\n      return null;\n    }\n    console.debug(\"Bokeh: BokehJS not loaded, scheduling load and callback at\", now());\n    root._bokeh_is_loading = css_urls.length + js_urls.length;\n\n    function on_load() {\n      root._bokeh_is_loading--;\n      if (root._bokeh_is_loading === 0) {\n        console.debug(\"Bokeh: all BokehJS libraries/stylesheets loaded\");\n        run_callbacks()\n      }\n    }\n\n    function on_error(url) {\n      console.error(\"failed to load \" + url);\n    }\n\n    for (let i = 0; i < css_urls.length; i++) {\n      const url = css_urls[i];\n      const element = document.createElement(\"link\");\n      element.onload = on_load;\n      element.onerror = on_error.bind(null, url);\n      element.rel = \"stylesheet\";\n      element.type = \"text/css\";\n      element.href = url;\n      console.debug(\"Bokeh: injecting link tag for BokehJS stylesheet: \", url);\n      document.body.appendChild(element);\n    }\n\n    for (let i = 0; i < js_urls.length; i++) {\n      const url = js_urls[i];\n      const element = document.createElement('script');\n      element.onload = on_load;\n      element.onerror = on_error.bind(null, url);\n      element.async = false;\n      element.src = url;\n      console.debug(\"Bokeh: injecting script tag for BokehJS library: \", url);\n      document.head.appendChild(element);\n    }\n  };\n\n  function inject_raw_css(css) {\n    const element = document.createElement(\"style\");\n    element.appendChild(document.createTextNode(css));\n    document.body.appendChild(element);\n  }\n\n  const js_urls = [\"https://cdn.bokeh.org/bokeh/release/bokeh-2.4.3.min.js\", \"https://cdn.bokeh.org/bokeh/release/bokeh-gl-2.4.3.min.js\", \"https://cdn.bokeh.org/bokeh/release/bokeh-widgets-2.4.3.min.js\", \"https://cdn.bokeh.org/bokeh/release/bokeh-tables-2.4.3.min.js\", \"https://cdn.bokeh.org/bokeh/release/bokeh-mathjax-2.4.3.min.js\"];\n  const css_urls = [];\n\n  const inline_js = [    function(Bokeh) {\n      Bokeh.set_log_level(\"info\");\n    },\nfunction(Bokeh) {\n    }\n  ];\n\n  function run_inline_js() {\n    if (root.Bokeh !== undefined || force === true) {\n          for (let i = 0; i < inline_js.length; i++) {\n      inline_js[i].call(root, root.Bokeh);\n    }\nif (force === true) {\n        display_loaded();\n      }} else if (Date.now() < root._bokeh_timeout) {\n      setTimeout(run_inline_js, 100);\n    } else if (!root._bokeh_failed_load) {\n      console.log(\"Bokeh: BokehJS failed to load within specified timeout.\");\n      root._bokeh_failed_load = true;\n    } else if (force !== true) {\n      const cell = $(document.getElementById(\"1002\")).parents('.cell').data().cell;\n      cell.output_area.append_execute_result(NB_LOAD_WARNING)\n    }\n  }\n\n  if (root._bokeh_is_loading === 0) {\n    console.debug(\"Bokeh: BokehJS loaded, going straight to plotting\");\n    run_inline_js();\n  } else {\n    load_libs(css_urls, js_urls, function() {\n      console.debug(\"Bokeh: BokehJS plotting callback run at\", now());\n      run_inline_js();\n    });\n  }\n}(window));"
     },
     "metadata": {},
     "output_type": "display_data"
    }
   ],
   "source": [
    "from bokeh.io import output_notebook, show\n",
    "from bokeh.plotting import figure\n",
    "from bokeh.layouts import gridplot\n",
    "from bokeh.models import ColumnDataSource, LabelSet, HoverTool\n",
    "output_notebook()"
   ]
  },
  {
   "cell_type": "code",
   "execution_count": 35,
   "metadata": {
    "scrolled": true
   },
   "outputs": [
    {
     "data": {
      "text/html": [
       "\n",
       "  <div class=\"bk-root\" id=\"f9bec3ce-9289-41c1-a6a3-e30c1a6099e1\" data-root-id=\"2062\"></div>\n"
      ]
     },
     "metadata": {},
     "output_type": "display_data"
    },
    {
     "data": {
      "application/javascript": [
       "(function(root) {\n",
       "  function embed_document(root) {\n",
       "  const docs_json = {\"46b8f661-00ad-4dd7-b51a-07e8f7cae399\":{\"defs\":[],\"roots\":{\"references\":[{\"attributes\":{\"children\":[{\"id\":\"2061\"},{\"id\":\"2059\"}]},\"id\":\"2062\",\"type\":\"Column\"},{\"attributes\":{\"below\":[{\"id\":\"1978\"}],\"center\":[{\"id\":\"1980\"},{\"id\":\"1984\"}],\"left\":[{\"id\":\"1981\"}],\"renderers\":[{\"id\":\"1991\"}],\"title\":{\"id\":\"1968\"},\"toolbar\":{\"id\":\"1985\"},\"toolbar_location\":null,\"x_range\":{\"id\":\"1970\"},\"x_scale\":{\"id\":\"1974\"},\"y_range\":{\"id\":\"1972\"},\"y_scale\":{\"id\":\"1976\"}},\"id\":\"1967\",\"subtype\":\"Figure\",\"type\":\"Plot\"},{\"attributes\":{},\"id\":\"1948\",\"type\":\"CategoricalScale\"},{\"attributes\":{\"fill_alpha\":{\"value\":0.2},\"fill_color\":{\"value\":\"#1f77b4\"},\"hatch_alpha\":{\"value\":0.2},\"line_alpha\":{\"value\":0.2},\"line_color\":{\"value\":\"#1f77b4\"},\"top\":{\"field\":\"Accuracy\"},\"width\":{\"value\":0.7},\"x\":{\"field\":\"Model\"}},\"id\":\"1938\",\"type\":\"VBar\"},{\"attributes\":{\"tools\":[{\"id\":\"1914\"}]},\"id\":\"1959\",\"type\":\"Toolbar\"},{\"attributes\":{},\"id\":\"2041\",\"type\":\"BasicTickFormatter\"},{\"attributes\":{},\"id\":\"2051\",\"type\":\"BasicTickFormatter\"},{\"attributes\":{},\"id\":\"1950\",\"type\":\"LinearScale\"},{\"attributes\":{\"tools\":[{\"id\":\"1914\"}]},\"id\":\"1933\",\"type\":\"Toolbar\"},{\"attributes\":{},\"id\":\"2042\",\"type\":\"AllLabels\"},{\"attributes\":{},\"id\":\"2052\",\"type\":\"AllLabels\"},{\"attributes\":{\"factors\":[\"Model 1\",\"Model 2\",\"Model 3\",\"Model 4\",\"Model 5\",\"Model 6\",\"Model7\"]},\"id\":\"1970\",\"type\":\"FactorRange\"},{\"attributes\":{\"fill_alpha\":{\"value\":0.1},\"fill_color\":{\"value\":\"#1f77b4\"},\"hatch_alpha\":{\"value\":0.1},\"line_alpha\":{\"value\":0.1},\"line_color\":{\"value\":\"#1f77b4\"},\"top\":{\"field\":\"Precision\"},\"width\":{\"value\":0.7},\"x\":{\"field\":\"Model\"}},\"id\":\"1963\",\"type\":\"VBar\"},{\"attributes\":{\"coordinates\":null,\"group\":null,\"text\":\"Precision\"},\"id\":\"1942\",\"type\":\"Title\"},{\"attributes\":{\"factors\":[\"Model 1\",\"Model 2\",\"Model 3\",\"Model 4\",\"Model 5\",\"Model 6\",\"Model7\"]},\"id\":\"1944\",\"type\":\"FactorRange\"},{\"attributes\":{\"source\":{\"id\":\"1913\"}},\"id\":\"1966\",\"type\":\"CDSView\"},{\"attributes\":{},\"id\":\"2044\",\"type\":\"CategoricalTickFormatter\"},{\"attributes\":{\"coordinates\":null,\"data_source\":{\"id\":\"1913\"},\"glyph\":{\"id\":\"1936\"},\"group\":null,\"hover_glyph\":null,\"muted_glyph\":{\"id\":\"1938\"},\"nonselection_glyph\":{\"id\":\"1937\"},\"view\":{\"id\":\"1940\"}},\"id\":\"1939\",\"type\":\"GlyphRenderer\"},{\"attributes\":{\"axis\":{\"id\":\"1952\"},\"coordinates\":null,\"group\":null,\"ticker\":null},\"id\":\"1954\",\"type\":\"Grid\"},{\"attributes\":{},\"id\":\"2054\",\"type\":\"CategoricalTickFormatter\"},{\"attributes\":{},\"id\":\"1982\",\"type\":\"BasicTicker\"},{\"attributes\":{},\"id\":\"2045\",\"type\":\"AllLabels\"},{\"attributes\":{},\"id\":\"2055\",\"type\":\"AllLabels\"},{\"attributes\":{\"source\":{\"id\":\"1913\"}},\"id\":\"1940\",\"type\":\"CDSView\"},{\"attributes\":{\"fill_color\":{\"value\":\"#1f77b4\"},\"line_color\":{\"value\":\"#1f77b4\"},\"top\":{\"field\":\"Precision\"},\"width\":{\"value\":0.7},\"x\":{\"field\":\"Model\"}},\"id\":\"1962\",\"type\":\"VBar\"},{\"attributes\":{},\"id\":\"1956\",\"type\":\"BasicTicker\"},{\"attributes\":{},\"id\":\"1976\",\"type\":\"LinearScale\"},{\"attributes\":{\"coordinates\":null,\"data_source\":{\"id\":\"1913\"},\"glyph\":{\"id\":\"1962\"},\"group\":null,\"hover_glyph\":null,\"muted_glyph\":{\"id\":\"1964\"},\"nonselection_glyph\":{\"id\":\"1963\"},\"view\":{\"id\":\"1966\"}},\"id\":\"1965\",\"type\":\"GlyphRenderer\"},{\"attributes\":{\"axis\":{\"id\":\"1978\"},\"coordinates\":null,\"group\":null,\"ticker\":null},\"id\":\"1980\",\"type\":\"Grid\"},{\"attributes\":{},\"id\":\"1972\",\"type\":\"DataRange1d\"},{\"attributes\":{},\"id\":\"1974\",\"type\":\"CategoricalScale\"},{\"attributes\":{\"callback\":null,\"tooltips\":[[\"Model\",\"@Model\"],[\"Accuracy\",\"@Accuracy{0.00}\"],[\"Precision\",\"@Precision{0.00}\"],[\"Recall\",\"@Recall{0.00}\"],[\"F1-score\",\"@F1score{0.00}\"]]},\"id\":\"1914\",\"type\":\"HoverTool\"},{\"attributes\":{\"data\":{\"Accuracy\":[0.8845716038242181,0.5571185071158531,0.8772758638993577,0.8152886152249176,0.7632924606755489,0.8038466302174567,0.7563329027844129],\"F1score\":[0.0003064820963375389,0.2772275321725236,0.06497708277163655,0.27828732082776414,0.3263846928499497,0.3251765278792306,0.33559550995464926],\"Model\":[\"Model 1\",\"Model 2\",\"Model 3\",\"Model 4\",\"Model 5\",\"Model 6\",\"Model7\"],\"Precision\":[0.08333333333333333,0.1707250569044006,0.2664946553630667,0.25313377772187984,0.242838232723095,0.26940792791581214,0.24469407377875754],\"Recall\":[0.00015352336113811984,0.736963307916688,0.036999130034286884,0.30899135151732254,0.4975692134486464,0.4100608975999181,0.5339542500383808]},\"selected\":{\"id\":\"2027\"},\"selection_policy\":{\"id\":\"2026\"}},\"id\":\"1913\",\"type\":\"ColumnDataSource\"},{\"attributes\":{\"axis\":{\"id\":\"1955\"},\"coordinates\":null,\"dimension\":1,\"group\":null,\"ticker\":null},\"id\":\"1958\",\"type\":\"Grid\"},{\"attributes\":{\"coordinates\":null,\"group\":null,\"text\":\"Recall\"},\"id\":\"1968\",\"type\":\"Title\"},{\"attributes\":{\"coordinates\":null,\"group\":null,\"text\":\"Accuracy\"},\"id\":\"1916\",\"type\":\"Title\"},{\"attributes\":{\"below\":[{\"id\":\"1952\"}],\"center\":[{\"id\":\"1954\"},{\"id\":\"1958\"}],\"left\":[{\"id\":\"1955\"}],\"renderers\":[{\"id\":\"1965\"}],\"title\":{\"id\":\"1942\"},\"toolbar\":{\"id\":\"1959\"},\"toolbar_location\":null,\"x_range\":{\"id\":\"1944\"},\"x_scale\":{\"id\":\"1948\"},\"y_range\":{\"id\":\"1946\"},\"y_scale\":{\"id\":\"1950\"}},\"id\":\"1941\",\"subtype\":\"Figure\",\"type\":\"Plot\"},{\"attributes\":{\"coordinates\":null,\"formatter\":{\"id\":\"2034\"},\"group\":null,\"major_label_policy\":{\"id\":\"2035\"},\"ticker\":{\"id\":\"1953\"}},\"id\":\"1952\",\"type\":\"CategoricalAxis\"},{\"attributes\":{\"coordinates\":null,\"formatter\":{\"id\":\"2021\"},\"group\":null,\"major_label_policy\":{\"id\":\"2022\"},\"ticker\":{\"id\":\"1930\"}},\"id\":\"1929\",\"type\":\"LinearAxis\"},{\"attributes\":{\"factors\":[\"Model 1\",\"Model 2\",\"Model 3\",\"Model 4\",\"Model 5\",\"Model 6\",\"Model7\"]},\"id\":\"1918\",\"type\":\"FactorRange\"},{\"attributes\":{\"coordinates\":null,\"formatter\":{\"id\":\"2044\"},\"group\":null,\"major_label_policy\":{\"id\":\"2045\"},\"ticker\":{\"id\":\"1979\"}},\"id\":\"1978\",\"type\":\"CategoricalAxis\"},{\"attributes\":{\"below\":[{\"id\":\"1926\"}],\"center\":[{\"id\":\"1928\"},{\"id\":\"1932\"}],\"left\":[{\"id\":\"1929\"}],\"renderers\":[{\"id\":\"1939\"}],\"title\":{\"id\":\"1916\"},\"toolbar\":{\"id\":\"1933\"},\"toolbar_location\":null,\"x_range\":{\"id\":\"1918\"},\"x_scale\":{\"id\":\"1922\"},\"y_range\":{\"id\":\"1920\"},\"y_scale\":{\"id\":\"1924\"}},\"id\":\"1915\",\"subtype\":\"Figure\",\"type\":\"Plot\"},{\"attributes\":{\"fill_color\":{\"value\":\"#1f77b4\"},\"line_color\":{\"value\":\"#1f77b4\"},\"top\":{\"field\":\"Recall\"},\"width\":{\"value\":0.7},\"x\":{\"field\":\"Model\"}},\"id\":\"1988\",\"type\":\"VBar\"},{\"attributes\":{\"fill_color\":{\"value\":\"#1f77b4\"},\"line_color\":{\"value\":\"#1f77b4\"},\"top\":{\"field\":\"Accuracy\"},\"width\":{\"value\":0.7},\"x\":{\"field\":\"Model\"}},\"id\":\"1936\",\"type\":\"VBar\"},{\"attributes\":{},\"id\":\"1920\",\"type\":\"DataRange1d\"},{\"attributes\":{},\"id\":\"1953\",\"type\":\"CategoricalTicker\"},{\"attributes\":{\"fill_alpha\":{\"value\":0.1},\"fill_color\":{\"value\":\"#1f77b4\"},\"hatch_alpha\":{\"value\":0.1},\"line_alpha\":{\"value\":0.1},\"line_color\":{\"value\":\"#1f77b4\"},\"top\":{\"field\":\"Accuracy\"},\"width\":{\"value\":0.7},\"x\":{\"field\":\"Model\"}},\"id\":\"1937\",\"type\":\"VBar\"},{\"attributes\":{},\"id\":\"1922\",\"type\":\"CategoricalScale\"},{\"attributes\":{},\"id\":\"1979\",\"type\":\"CategoricalTicker\"},{\"attributes\":{},\"id\":\"1927\",\"type\":\"CategoricalTicker\"},{\"attributes\":{\"axis\":{\"id\":\"1926\"},\"coordinates\":null,\"group\":null,\"ticker\":null},\"id\":\"1928\",\"type\":\"Grid\"},{\"attributes\":{},\"id\":\"1930\",\"type\":\"BasicTicker\"},{\"attributes\":{\"axis\":{\"id\":\"1929\"},\"coordinates\":null,\"dimension\":1,\"group\":null,\"ticker\":null},\"id\":\"1932\",\"type\":\"Grid\"},{\"attributes\":{\"axis\":{\"id\":\"1981\"},\"coordinates\":null,\"dimension\":1,\"group\":null,\"ticker\":null},\"id\":\"1984\",\"type\":\"Grid\"},{\"attributes\":{\"below\":[{\"id\":\"2004\"}],\"center\":[{\"id\":\"2006\"},{\"id\":\"2010\"}],\"left\":[{\"id\":\"2007\"}],\"renderers\":[{\"id\":\"2017\"}],\"title\":{\"id\":\"1994\"},\"toolbar\":{\"id\":\"2011\"},\"toolbar_location\":null,\"x_range\":{\"id\":\"1996\"},\"x_scale\":{\"id\":\"2000\"},\"y_range\":{\"id\":\"1998\"},\"y_scale\":{\"id\":\"2002\"}},\"id\":\"1993\",\"subtype\":\"Figure\",\"type\":\"Plot\"},{\"attributes\":{\"coordinates\":null,\"formatter\":{\"id\":\"2031\"},\"group\":null,\"major_label_policy\":{\"id\":\"2032\"},\"ticker\":{\"id\":\"1956\"}},\"id\":\"1955\",\"type\":\"LinearAxis\"},{\"attributes\":{\"coordinates\":null,\"formatter\":{\"id\":\"2024\"},\"group\":null,\"major_label_policy\":{\"id\":\"2025\"},\"ticker\":{\"id\":\"1927\"}},\"id\":\"1926\",\"type\":\"CategoricalAxis\"},{\"attributes\":{\"coordinates\":null,\"formatter\":{\"id\":\"2041\"},\"group\":null,\"major_label_policy\":{\"id\":\"2042\"},\"ticker\":{\"id\":\"1982\"}},\"id\":\"1981\",\"type\":\"LinearAxis\"},{\"attributes\":{\"fill_alpha\":{\"value\":0.2},\"fill_color\":{\"value\":\"#1f77b4\"},\"hatch_alpha\":{\"value\":0.2},\"line_alpha\":{\"value\":0.2},\"line_color\":{\"value\":\"#1f77b4\"},\"top\":{\"field\":\"Precision\"},\"width\":{\"value\":0.7},\"x\":{\"field\":\"Model\"}},\"id\":\"1964\",\"type\":\"VBar\"},{\"attributes\":{},\"id\":\"1946\",\"type\":\"DataRange1d\"},{\"attributes\":{},\"id\":\"1924\",\"type\":\"LinearScale\"},{\"attributes\":{},\"id\":\"2026\",\"type\":\"UnionRenderers\"},{\"attributes\":{},\"id\":\"2031\",\"type\":\"BasicTickFormatter\"},{\"attributes\":{},\"id\":\"2027\",\"type\":\"Selection\"},{\"attributes\":{},\"id\":\"2032\",\"type\":\"AllLabels\"},{\"attributes\":{\"coordinates\":null,\"formatter\":{\"id\":\"2051\"},\"group\":null,\"major_label_policy\":{\"id\":\"2052\"},\"ticker\":{\"id\":\"2008\"}},\"id\":\"2007\",\"type\":\"LinearAxis\"},{\"attributes\":{},\"id\":\"2034\",\"type\":\"CategoricalTickFormatter\"},{\"attributes\":{},\"id\":\"2035\",\"type\":\"AllLabels\"},{\"attributes\":{},\"id\":\"2000\",\"type\":\"CategoricalScale\"},{\"attributes\":{\"factors\":[\"Model 1\",\"Model 2\",\"Model 3\",\"Model 4\",\"Model 5\",\"Model 6\",\"Model7\"]},\"id\":\"1996\",\"type\":\"FactorRange\"},{\"attributes\":{},\"id\":\"2025\",\"type\":\"AllLabels\"},{\"attributes\":{\"coordinates\":null,\"formatter\":{\"id\":\"2054\"},\"group\":null,\"major_label_policy\":{\"id\":\"2055\"},\"ticker\":{\"id\":\"2005\"}},\"id\":\"2004\",\"type\":\"CategoricalAxis\"},{\"attributes\":{\"coordinates\":null,\"data_source\":{\"id\":\"1913\"},\"glyph\":{\"id\":\"1988\"},\"group\":null,\"hover_glyph\":null,\"muted_glyph\":{\"id\":\"1990\"},\"nonselection_glyph\":{\"id\":\"1989\"},\"view\":{\"id\":\"1992\"}},\"id\":\"1991\",\"type\":\"GlyphRenderer\"},{\"attributes\":{\"coordinates\":null,\"data_source\":{\"id\":\"1913\"},\"glyph\":{\"id\":\"2014\"},\"group\":null,\"hover_glyph\":null,\"muted_glyph\":{\"id\":\"2016\"},\"nonselection_glyph\":{\"id\":\"2015\"},\"view\":{\"id\":\"2018\"}},\"id\":\"2017\",\"type\":\"GlyphRenderer\"},{\"attributes\":{},\"id\":\"2024\",\"type\":\"CategoricalTickFormatter\"},{\"attributes\":{\"toolbar\":{\"id\":\"2060\"},\"toolbar_location\":\"above\"},\"id\":\"2061\",\"type\":\"ToolbarBox\"},{\"attributes\":{\"axis\":{\"id\":\"2004\"},\"coordinates\":null,\"group\":null,\"ticker\":null},\"id\":\"2006\",\"type\":\"Grid\"},{\"attributes\":{\"coordinates\":null,\"group\":null,\"text\":\"F1-score\"},\"id\":\"1994\",\"type\":\"Title\"},{\"attributes\":{\"toolbars\":[{\"id\":\"1933\"},{\"id\":\"1959\"},{\"id\":\"1985\"},{\"id\":\"2011\"}],\"tools\":[{\"id\":\"1914\"},{\"id\":\"1914\"},{\"id\":\"1914\"},{\"id\":\"1914\"}]},\"id\":\"2060\",\"type\":\"ProxyToolbar\"},{\"attributes\":{\"fill_alpha\":{\"value\":0.2},\"fill_color\":{\"value\":\"#1f77b4\"},\"hatch_alpha\":{\"value\":0.2},\"line_alpha\":{\"value\":0.2},\"line_color\":{\"value\":\"#1f77b4\"},\"top\":{\"field\":\"Recall\"},\"width\":{\"value\":0.7},\"x\":{\"field\":\"Model\"}},\"id\":\"1990\",\"type\":\"VBar\"},{\"attributes\":{\"fill_alpha\":{\"value\":0.2},\"fill_color\":{\"value\":\"#1f77b4\"},\"hatch_alpha\":{\"value\":0.2},\"line_alpha\":{\"value\":0.2},\"line_color\":{\"value\":\"#1f77b4\"},\"top\":{\"field\":\"F1score\"},\"width\":{\"value\":0.7},\"x\":{\"field\":\"Model\"}},\"id\":\"2016\",\"type\":\"VBar\"},{\"attributes\":{\"source\":{\"id\":\"1913\"}},\"id\":\"2018\",\"type\":\"CDSView\"},{\"attributes\":{\"children\":[[{\"id\":\"1915\"},0,0],[{\"id\":\"1941\"},1,0],[{\"id\":\"1967\"},2,0],[{\"id\":\"1993\"},3,0]]},\"id\":\"2059\",\"type\":\"GridBox\"},{\"attributes\":{\"tools\":[{\"id\":\"1914\"}]},\"id\":\"2011\",\"type\":\"Toolbar\"},{\"attributes\":{},\"id\":\"2021\",\"type\":\"BasicTickFormatter\"},{\"attributes\":{\"source\":{\"id\":\"1913\"}},\"id\":\"1992\",\"type\":\"CDSView\"},{\"attributes\":{},\"id\":\"2008\",\"type\":\"BasicTicker\"},{\"attributes\":{},\"id\":\"2022\",\"type\":\"AllLabels\"},{\"attributes\":{},\"id\":\"2005\",\"type\":\"CategoricalTicker\"},{\"attributes\":{\"fill_alpha\":{\"value\":0.1},\"fill_color\":{\"value\":\"#1f77b4\"},\"hatch_alpha\":{\"value\":0.1},\"line_alpha\":{\"value\":0.1},\"line_color\":{\"value\":\"#1f77b4\"},\"top\":{\"field\":\"F1score\"},\"width\":{\"value\":0.7},\"x\":{\"field\":\"Model\"}},\"id\":\"2015\",\"type\":\"VBar\"},{\"attributes\":{\"axis\":{\"id\":\"2007\"},\"coordinates\":null,\"dimension\":1,\"group\":null,\"ticker\":null},\"id\":\"2010\",\"type\":\"Grid\"},{\"attributes\":{\"tools\":[{\"id\":\"1914\"}]},\"id\":\"1985\",\"type\":\"Toolbar\"},{\"attributes\":{\"fill_color\":{\"value\":\"#1f77b4\"},\"line_color\":{\"value\":\"#1f77b4\"},\"top\":{\"field\":\"F1score\"},\"width\":{\"value\":0.7},\"x\":{\"field\":\"Model\"}},\"id\":\"2014\",\"type\":\"VBar\"},{\"attributes\":{},\"id\":\"1998\",\"type\":\"DataRange1d\"},{\"attributes\":{},\"id\":\"2002\",\"type\":\"LinearScale\"},{\"attributes\":{\"fill_alpha\":{\"value\":0.1},\"fill_color\":{\"value\":\"#1f77b4\"},\"hatch_alpha\":{\"value\":0.1},\"line_alpha\":{\"value\":0.1},\"line_color\":{\"value\":\"#1f77b4\"},\"top\":{\"field\":\"Recall\"},\"width\":{\"value\":0.7},\"x\":{\"field\":\"Model\"}},\"id\":\"1989\",\"type\":\"VBar\"}],\"root_ids\":[\"2062\"]},\"title\":\"Bokeh Application\",\"version\":\"2.4.3\"}};\n",
       "  const render_items = [{\"docid\":\"46b8f661-00ad-4dd7-b51a-07e8f7cae399\",\"root_ids\":[\"2062\"],\"roots\":{\"2062\":\"f9bec3ce-9289-41c1-a6a3-e30c1a6099e1\"}}];\n",
       "  root.Bokeh.embed.embed_items_notebook(docs_json, render_items);\n",
       "  }\n",
       "  if (root.Bokeh !== undefined) {\n",
       "    embed_document(root);\n",
       "  } else {\n",
       "    let attempts = 0;\n",
       "    const timer = setInterval(function(root) {\n",
       "      if (root.Bokeh !== undefined) {\n",
       "        clearInterval(timer);\n",
       "        embed_document(root);\n",
       "      } else {\n",
       "        attempts++;\n",
       "        if (attempts > 100) {\n",
       "          clearInterval(timer);\n",
       "          console.log(\"Bokeh: ERROR: Unable to run BokehJS code because BokehJS library is missing\");\n",
       "        }\n",
       "      }\n",
       "    }, 10, root)\n",
       "  }\n",
       "})(window);"
      ],
      "application/vnd.bokehjs_exec.v0+json": ""
     },
     "metadata": {
      "application/vnd.bokehjs_exec.v0+json": {
       "id": "2062"
      }
     },
     "output_type": "display_data"
    }
   ],
   "source": [
    "#CHART \n",
    "models = ['Model 1', 'Model 2', 'Model 3', 'Model 4', 'Model 5', 'Model 6', 'Model7']\n",
    "accuracy = [accuracy_testing_1, accuracy_testing_2, accuracy_testing_3, accuracy_testing_4, accuracy_testing_5, accuracy_testing_6, accuracy_testing_7]\n",
    "precision = [precision_1, precision_2, precision_3, precision_4, precision_5, precision_6, precision_7]\n",
    "recall = [recall_1, recall_2, recall_3, recall_4, recall_5, recall_6, recall_7]\n",
    "f1 = [f1_1, f1_2, f1_3, f1_4, f1_5, f1_6, f1_7]\n",
    "\n",
    "data = {'Model':models,\n",
    "       'Accuracy':accuracy,\n",
    "       'Precision':precision,\n",
    "       'Recall':recall,\n",
    "       'F1score':f1}\n",
    "source = ColumnDataSource(data=data)\n",
    "tooltips = [\n",
    "    ('Model', '@Model'),\n",
    "    ('Accuracy', '@Accuracy{0.00}'),\n",
    "    ('Precision', '@Precision{0.00}'),\n",
    "    ('Recall', '@Recall{0.00}'),\n",
    "    ('F1-score', '@F1score{0.00}'),\n",
    "]\n",
    "hover_tool = HoverTool(tooltips=tooltips)\n",
    "\n",
    "accuracy_fig = figure(title='Accuracy', x_range=models, tools=[hover_tool])\n",
    "accuracy_fig.vbar(x='Model', top='Accuracy', width=0.7, source=source)\n",
    "\n",
    "precision_fig = figure(title='Precision', x_range=models, tools=[hover_tool])\n",
    "precision_fig.vbar(x='Model', top='Precision', width=0.7, source=source)\n",
    "\n",
    "recall_fig = figure(title='Recall', x_range=models, tools=[hover_tool])\n",
    "recall_fig.vbar(x='Model', top='Recall', width=0.7, source=source)\n",
    "\n",
    "f1_fig = figure(title='F1-score', x_range=models, tools=[hover_tool])\n",
    "f1_fig.vbar(x='Model', top='F1score', width=0.7, source=source)\n",
    "\n",
    "figures = [accuracy_fig, precision_fig, recall_fig, f1_fig]\n",
    "grid = gridplot([ [fig] for fig in figures ])\n",
    "\n",
    "show(grid)"
   ]
  },
  {
   "cell_type": "markdown",
   "metadata": {},
   "source": [
    "<h3 style=\"color:green;\">Interpret the chart</h3>\n",
    "<li>What can you say about the changes in precision and recall</li>\n",
    "<li>Looking at the precision and recall values for each model, we can see that there is a trade-off between the two measures. Models with higher precision tend to have lower recall, and vice versa. In the context of a credit rating model, precision refers to the proportion of loans that are predicted to be bad and are actually bad. In other words, it represents the accuracy of the model in identifying risky loans. Recall, on the other hand, refers to the proportion of bad loans that are correctly identified by the model. It represents the model's ability to detect all the risky loans</li>\n",
    "<li>Model 1 has very low precision and recall, meaning that it is not a good model for identifying bad loans. Models 2 has very high recall but low precision, meaning that they identify a lot of risky loans but also misclassify many good loans as bad. Models 3 has much higher precision but lower recall, indicating that they are better at identifying bad loans but may miss some risky loans. The other models tend to have a better balance beween recall and precision, which can also be reflected by higher f1-scores.</li>\n",
    "<li>Overall, a credit rating model should strike a balance between precision and recall, as misclassifying too many good loans as bad can harm the bank's profitability, while missing too many risky loans can result in high default rates. The choice of the optimal model will depend on the bank's risk tolerance and business objectives. </li>"
   ]
  },
  {
   "cell_type": "markdown",
   "metadata": {},
   "source": [
    "<h3 style=\"color:green;\">Chart AUC and AP</h3>\n"
   ]
  },
  {
   "cell_type": "code",
   "execution_count": 33,
   "metadata": {
    "scrolled": true
   },
   "outputs": [
    {
     "data": {
      "text/html": [
       "\n",
       "  <div class=\"bk-root\" id=\"cecf1a11-135c-43e4-9bc6-b3217117ca33\" data-root-id=\"1410\"></div>\n"
      ]
     },
     "metadata": {},
     "output_type": "display_data"
    },
    {
     "data": {
      "application/javascript": [
       "(function(root) {\n",
       "  function embed_document(root) {\n",
       "  const docs_json = {\"d495aa87-39c9-4303-8c39-13f455ad988b\":{\"defs\":[],\"roots\":{\"references\":[{\"attributes\":{\"children\":[{\"id\":\"1409\"},{\"id\":\"1407\"}]},\"id\":\"1410\",\"type\":\"Column\"},{\"attributes\":{\"coordinates\":null,\"group\":null,\"text\":\"AUC\"},\"id\":\"1336\",\"type\":\"Title\"},{\"attributes\":{\"axis\":{\"id\":\"1349\"},\"coordinates\":null,\"dimension\":1,\"group\":null,\"ticker\":null},\"id\":\"1352\",\"type\":\"Grid\"},{\"attributes\":{\"tools\":[{\"id\":\"1334\"}]},\"id\":\"1379\",\"type\":\"Toolbar\"},{\"attributes\":{\"data\":{\"AP\":[0.11524655808547495,0.15613346501988695,0.12084732497959114,0.15785590250314663,0.17873470927770774,0.17846499857984097,0.18436789295386047],\"AUC\":[0.4999667690134135,0.6353271975887687,0.5118666738765528,0.5951163010503085,0.6477380098307828,0.6326019440336101,0.659627614986526],\"Model\":[\"Model 1\",\"Model 2\",\"Model 3\",\"Model 4\",\"Model 5\",\"Model 6\",\"Model7\"]},\"selected\":{\"id\":\"1395\"},\"selection_policy\":{\"id\":\"1394\"}},\"id\":\"1333\",\"type\":\"ColumnDataSource\"},{\"attributes\":{},\"id\":\"1350\",\"type\":\"BasicTicker\"},{\"attributes\":{\"callback\":null,\"tooltips\":[[\"Model\",\"@Model\"],[\"AUC\",\"@AUC{0.00}\"],[\"AP\",\"@AP{0.00}\"]]},\"id\":\"1334\",\"type\":\"HoverTool\"},{\"attributes\":{\"source\":{\"id\":\"1333\"}},\"id\":\"1360\",\"type\":\"CDSView\"},{\"attributes\":{\"coordinates\":null,\"formatter\":{\"id\":\"1389\"},\"group\":null,\"major_label_policy\":{\"id\":\"1390\"},\"ticker\":{\"id\":\"1350\"}},\"id\":\"1349\",\"type\":\"LinearAxis\"},{\"attributes\":{\"fill_alpha\":{\"value\":0.2},\"fill_color\":{\"value\":\"#1f77b4\"},\"hatch_alpha\":{\"value\":0.2},\"line_alpha\":{\"value\":0.2},\"line_color\":{\"value\":\"#1f77b4\"},\"top\":{\"field\":\"AUC\"},\"width\":{\"value\":0.7},\"x\":{\"field\":\"Model\"}},\"id\":\"1358\",\"type\":\"VBar\"},{\"attributes\":{},\"id\":\"1394\",\"type\":\"UnionRenderers\"},{\"attributes\":{},\"id\":\"1392\",\"type\":\"CategoricalTickFormatter\"},{\"attributes\":{},\"id\":\"1373\",\"type\":\"CategoricalTicker\"},{\"attributes\":{\"factors\":[\"Model 1\",\"Model 2\",\"Model 3\",\"Model 4\",\"Model 5\",\"Model 6\",\"Model7\"]},\"id\":\"1338\",\"type\":\"FactorRange\"},{\"attributes\":{},\"id\":\"1368\",\"type\":\"CategoricalScale\"},{\"attributes\":{\"coordinates\":null,\"formatter\":{\"id\":\"1402\"},\"group\":null,\"major_label_policy\":{\"id\":\"1403\"},\"ticker\":{\"id\":\"1373\"}},\"id\":\"1372\",\"type\":\"CategoricalAxis\"},{\"attributes\":{},\"id\":\"1347\",\"type\":\"CategoricalTicker\"},{\"attributes\":{\"fill_color\":{\"value\":\"#1f77b4\"},\"line_color\":{\"value\":\"#1f77b4\"},\"top\":{\"field\":\"AUC\"},\"width\":{\"value\":0.7},\"x\":{\"field\":\"Model\"}},\"id\":\"1356\",\"type\":\"VBar\"},{\"attributes\":{},\"id\":\"1342\",\"type\":\"CategoricalScale\"},{\"attributes\":{\"below\":[{\"id\":\"1346\"}],\"center\":[{\"id\":\"1348\"},{\"id\":\"1352\"}],\"left\":[{\"id\":\"1349\"}],\"renderers\":[{\"id\":\"1359\"}],\"title\":{\"id\":\"1336\"},\"toolbar\":{\"id\":\"1353\"},\"toolbar_location\":null,\"x_range\":{\"id\":\"1338\"},\"x_scale\":{\"id\":\"1342\"},\"y_range\":{\"id\":\"1340\"},\"y_scale\":{\"id\":\"1344\"}},\"id\":\"1335\",\"subtype\":\"Figure\",\"type\":\"Plot\"},{\"attributes\":{},\"id\":\"1340\",\"type\":\"DataRange1d\"},{\"attributes\":{\"fill_alpha\":{\"value\":0.1},\"fill_color\":{\"value\":\"#1f77b4\"},\"hatch_alpha\":{\"value\":0.1},\"line_alpha\":{\"value\":0.1},\"line_color\":{\"value\":\"#1f77b4\"},\"top\":{\"field\":\"AUC\"},\"width\":{\"value\":0.7},\"x\":{\"field\":\"Model\"}},\"id\":\"1357\",\"type\":\"VBar\"},{\"attributes\":{},\"id\":\"1376\",\"type\":\"BasicTicker\"},{\"attributes\":{\"toolbars\":[{\"id\":\"1353\"},{\"id\":\"1379\"}],\"tools\":[{\"id\":\"1334\"},{\"id\":\"1334\"}]},\"id\":\"1408\",\"type\":\"ProxyToolbar\"},{\"attributes\":{\"coordinates\":null,\"group\":null,\"text\":\"AP\"},\"id\":\"1362\",\"type\":\"Title\"},{\"attributes\":{},\"id\":\"1390\",\"type\":\"AllLabels\"},{\"attributes\":{\"factors\":[\"Model 1\",\"Model 2\",\"Model 3\",\"Model 4\",\"Model 5\",\"Model 6\",\"Model7\"]},\"id\":\"1364\",\"type\":\"FactorRange\"},{\"attributes\":{},\"id\":\"1395\",\"type\":\"Selection\"},{\"attributes\":{\"coordinates\":null,\"data_source\":{\"id\":\"1333\"},\"glyph\":{\"id\":\"1382\"},\"group\":null,\"hover_glyph\":null,\"muted_glyph\":{\"id\":\"1384\"},\"nonselection_glyph\":{\"id\":\"1383\"},\"view\":{\"id\":\"1386\"}},\"id\":\"1385\",\"type\":\"GlyphRenderer\"},{\"attributes\":{},\"id\":\"1393\",\"type\":\"AllLabels\"},{\"attributes\":{\"toolbar\":{\"id\":\"1408\"},\"toolbar_location\":\"above\"},\"id\":\"1409\",\"type\":\"ToolbarBox\"},{\"attributes\":{\"axis\":{\"id\":\"1346\"},\"coordinates\":null,\"group\":null,\"ticker\":null},\"id\":\"1348\",\"type\":\"Grid\"},{\"attributes\":{\"axis\":{\"id\":\"1372\"},\"coordinates\":null,\"group\":null,\"ticker\":null},\"id\":\"1374\",\"type\":\"Grid\"},{\"attributes\":{},\"id\":\"1344\",\"type\":\"LinearScale\"},{\"attributes\":{},\"id\":\"1389\",\"type\":\"BasicTickFormatter\"},{\"attributes\":{\"children\":[[{\"id\":\"1335\"},0,0],[{\"id\":\"1361\"},1,0]]},\"id\":\"1407\",\"type\":\"GridBox\"},{\"attributes\":{\"tools\":[{\"id\":\"1334\"}]},\"id\":\"1353\",\"type\":\"Toolbar\"},{\"attributes\":{\"fill_color\":{\"value\":\"#1f77b4\"},\"line_color\":{\"value\":\"#1f77b4\"},\"top\":{\"field\":\"AP\"},\"width\":{\"value\":0.7},\"x\":{\"field\":\"Model\"}},\"id\":\"1382\",\"type\":\"VBar\"},{\"attributes\":{\"axis\":{\"id\":\"1375\"},\"coordinates\":null,\"dimension\":1,\"group\":null,\"ticker\":null},\"id\":\"1378\",\"type\":\"Grid\"},{\"attributes\":{\"coordinates\":null,\"formatter\":{\"id\":\"1392\"},\"group\":null,\"major_label_policy\":{\"id\":\"1393\"},\"ticker\":{\"id\":\"1347\"}},\"id\":\"1346\",\"type\":\"CategoricalAxis\"},{\"attributes\":{\"source\":{\"id\":\"1333\"}},\"id\":\"1386\",\"type\":\"CDSView\"},{\"attributes\":{\"fill_alpha\":{\"value\":0.2},\"fill_color\":{\"value\":\"#1f77b4\"},\"hatch_alpha\":{\"value\":0.2},\"line_alpha\":{\"value\":0.2},\"line_color\":{\"value\":\"#1f77b4\"},\"top\":{\"field\":\"AP\"},\"width\":{\"value\":0.7},\"x\":{\"field\":\"Model\"}},\"id\":\"1384\",\"type\":\"VBar\"},{\"attributes\":{},\"id\":\"1399\",\"type\":\"BasicTickFormatter\"},{\"attributes\":{\"coordinates\":null,\"formatter\":{\"id\":\"1399\"},\"group\":null,\"major_label_policy\":{\"id\":\"1400\"},\"ticker\":{\"id\":\"1376\"}},\"id\":\"1375\",\"type\":\"LinearAxis\"},{\"attributes\":{},\"id\":\"1370\",\"type\":\"LinearScale\"},{\"attributes\":{},\"id\":\"1400\",\"type\":\"AllLabels\"},{\"attributes\":{},\"id\":\"1366\",\"type\":\"DataRange1d\"},{\"attributes\":{},\"id\":\"1402\",\"type\":\"CategoricalTickFormatter\"},{\"attributes\":{\"fill_alpha\":{\"value\":0.1},\"fill_color\":{\"value\":\"#1f77b4\"},\"hatch_alpha\":{\"value\":0.1},\"line_alpha\":{\"value\":0.1},\"line_color\":{\"value\":\"#1f77b4\"},\"top\":{\"field\":\"AP\"},\"width\":{\"value\":0.7},\"x\":{\"field\":\"Model\"}},\"id\":\"1383\",\"type\":\"VBar\"},{\"attributes\":{\"coordinates\":null,\"data_source\":{\"id\":\"1333\"},\"glyph\":{\"id\":\"1356\"},\"group\":null,\"hover_glyph\":null,\"muted_glyph\":{\"id\":\"1358\"},\"nonselection_glyph\":{\"id\":\"1357\"},\"view\":{\"id\":\"1360\"}},\"id\":\"1359\",\"type\":\"GlyphRenderer\"},{\"attributes\":{},\"id\":\"1403\",\"type\":\"AllLabels\"},{\"attributes\":{\"below\":[{\"id\":\"1372\"}],\"center\":[{\"id\":\"1374\"},{\"id\":\"1378\"}],\"left\":[{\"id\":\"1375\"}],\"renderers\":[{\"id\":\"1385\"}],\"title\":{\"id\":\"1362\"},\"toolbar\":{\"id\":\"1379\"},\"toolbar_location\":null,\"x_range\":{\"id\":\"1364\"},\"x_scale\":{\"id\":\"1368\"},\"y_range\":{\"id\":\"1366\"},\"y_scale\":{\"id\":\"1370\"}},\"id\":\"1361\",\"subtype\":\"Figure\",\"type\":\"Plot\"}],\"root_ids\":[\"1410\"]},\"title\":\"Bokeh Application\",\"version\":\"2.4.3\"}};\n",
       "  const render_items = [{\"docid\":\"d495aa87-39c9-4303-8c39-13f455ad988b\",\"root_ids\":[\"1410\"],\"roots\":{\"1410\":\"cecf1a11-135c-43e4-9bc6-b3217117ca33\"}}];\n",
       "  root.Bokeh.embed.embed_items_notebook(docs_json, render_items);\n",
       "  }\n",
       "  if (root.Bokeh !== undefined) {\n",
       "    embed_document(root);\n",
       "  } else {\n",
       "    let attempts = 0;\n",
       "    const timer = setInterval(function(root) {\n",
       "      if (root.Bokeh !== undefined) {\n",
       "        clearInterval(timer);\n",
       "        embed_document(root);\n",
       "      } else {\n",
       "        attempts++;\n",
       "        if (attempts > 100) {\n",
       "          clearInterval(timer);\n",
       "          console.log(\"Bokeh: ERROR: Unable to run BokehJS code because BokehJS library is missing\");\n",
       "        }\n",
       "      }\n",
       "    }, 10, root)\n",
       "  }\n",
       "})(window);"
      ],
      "application/vnd.bokehjs_exec.v0+json": ""
     },
     "metadata": {
      "application/vnd.bokehjs_exec.v0+json": {
       "id": "1410"
      }
     },
     "output_type": "display_data"
    }
   ],
   "source": [
    "#CHART\n",
    "\n",
    "models = ['Model 1', 'Model 2', 'Model 3', 'Model 4', 'Model 5', 'Model 6', 'Model7']\n",
    "auc = [auc_1, auc_2, auc_3, auc_4, auc_5, auc_6, auc_7]\n",
    "ap = [ap_1, ap_2, ap_3, ap_4, ap_5, ap_6, ap_7]\n",
    "\n",
    "data = {'Model':models,\n",
    "        'AUC':auc,\n",
    "        'AP':ap}\n",
    "source = ColumnDataSource(data=data)\n",
    "tooltips = [\n",
    "    ('Model', '@Model'),\n",
    "    ('AUC', '@AUC{0.00}'),\n",
    "    ('AP', '@AP{0.00}')\n",
    "]\n",
    "hover_tool = HoverTool(tooltips=tooltips)\n",
    "\n",
    "auc_fig = figure(title='AUC', x_range=models, tools=[hover_tool])\n",
    "auc_fig.vbar(x='Model', top='AUC', width=0.7, source=source)\n",
    "\n",
    "ap_fig = figure(title='AP', x_range=models, tools=[hover_tool])\n",
    "ap_fig.vbar(x='Model', top='AP', width=0.7, source=source)\n",
    "\n",
    "figures = [auc_fig, ap_fig]\n",
    "grid = gridplot([ [fig] for fig in figures ])\n",
    "\n",
    "\n",
    "show(grid)"
   ]
  },
  {
   "cell_type": "markdown",
   "metadata": {},
   "source": [
    "<h3 style=\"color:green;\">Interpret the AUC/AP chart</h3>\n",
    "<li>The AUC on the first 4 models is pretty much the same. What does that mean?</li>\n",
    "<ul><li>The similar AUC scores on the first 4 models indicate that these models have similar discrimination power in distinguishing between positive and negative classes. The efficacy of the models is similar to each other.</li>\n",
    "    </ul>\n",
    "<li>The average precision improves steadily but almost entirely by getting better at recall than at precision. What does that mean?</li>\n",
    "    \n",
    "<ul><li>The improvement in the average precision score with each model indicates that the models are getting better at ranking the positive samples higher in the predicted probability list. However, the fact that this improvement is mainly driven by recall suggests that the models are still not precise enough in classifying the positive samples (bad loan).</li>\n",
    "</ul>\n",
    "<li>Finally, what can you do to get better results? </li>\n",
    "<ul>\n",
    "    <li>To improve the results, several things could be tried. First, more data could be collected to improve the model's ability to capture the underlying patterns. Second, feature engineering could be performed to extract more informative features from the available data. Third, different algorithms and hyperparameters could be tested to find a better-performing model. Fourth, the class imbalance issue could be addressed by using more sophisticated sampling techniques.</li></ul>\n",
    "    \n",
    "   "
   ]
  }
 ],
 "metadata": {
  "kernelspec": {
   "display_name": "Python 3 (ipykernel)",
   "language": "python",
   "name": "python3"
  },
  "language_info": {
   "codemirror_mode": {
    "name": "ipython",
    "version": 3
   },
   "file_extension": ".py",
   "mimetype": "text/x-python",
   "name": "python",
   "nbconvert_exporter": "python",
   "pygments_lexer": "ipython3",
   "version": "3.9.13"
  },
  "toc": {
   "base_numbering": 1,
   "nav_menu": {},
   "number_sections": true,
   "sideBar": true,
   "skip_h1_title": false,
   "title_cell": "Table of Contents",
   "title_sidebar": "Contents",
   "toc_cell": false,
   "toc_position": {},
   "toc_section_display": true,
   "toc_window_display": false
  }
 },
 "nbformat": 4,
 "nbformat_minor": 4
}
